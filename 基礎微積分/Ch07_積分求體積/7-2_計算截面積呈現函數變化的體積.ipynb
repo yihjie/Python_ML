{
 "cells": [
  {
   "cell_type": "markdown",
   "id": "249321c8-450d-461a-b032-d03e5a63b9fb",
   "metadata": {},
   "source": [
    "area = 3x^2 + 5\n",
    "V = (3x^2 + 5 ) dx ( 0 <= x <= 2 )"
   ]
  },
  {
   "cell_type": "code",
   "execution_count": 2,
   "id": "1e377513-b38c-47a7-8259-d7bed6e9d9d9",
   "metadata": {},
   "outputs": [
    {
     "name": "stdout",
     "output_type": "stream",
     "text": [
      "18\n"
     ]
    }
   ],
   "source": [
    "from sympy import *\n",
    "\n",
    "x = Symbol('x')\n",
    "f = 3 * x ** 2 + 0 * x + 5\n",
    "\n",
    "print(integrate(f, (x, 0, 2)))"
   ]
  }
 ],
 "metadata": {
  "kernelspec": {
   "display_name": "Python 3 (ipykernel)",
   "language": "python",
   "name": "python3"
  },
  "language_info": {
   "codemirror_mode": {
    "name": "ipython",
    "version": 3
   },
   "file_extension": ".py",
   "mimetype": "text/x-python",
   "name": "python",
   "nbconvert_exporter": "python",
   "pygments_lexer": "ipython3",
   "version": "3.10.7"
  }
 },
 "nbformat": 4,
 "nbformat_minor": 5
}
