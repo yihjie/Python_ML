{
 "cells": [
  {
   "cell_type": "code",
   "execution_count": 1,
   "id": "df96032d-4aab-4403-b893-a259195aa5e2",
   "metadata": {},
   "outputs": [
    {
     "name": "stdout",
     "output_type": "stream",
     "text": [
      "捲筒紙的長度是 : 5890.486 公分\n"
     ]
    }
   ],
   "source": [
    "from sympy import *\n",
    "import math\n",
    "\n",
    "x = Symbol('x')\n",
    "f = 2 * math.pi * x\n",
    "\n",
    "area = integrate(f, (x, 5 / 2, 10 / 2))        # 捲筒紙的上方直視面積\n",
    "length = area / 0.01                           # 捲筒紙的長度\n",
    "\n",
    "print(f'捲筒紙的長度是 : {length:5.3f} 公分')"
   ]
  },
  {
   "cell_type": "code",
   "execution_count": 2,
   "id": "614f79ad-9a80-489f-850a-a0146855e011",
   "metadata": {},
   "outputs": [
    {
     "name": "stdout",
     "output_type": "stream",
     "text": [
      "球體積是    : 4188.8\n",
      "球表面積是  : 1256.6\n"
     ]
    }
   ],
   "source": [
    "import math\n",
    "\n",
    "r = 10\n",
    "v = 4 / 3 * math.pi * r ** 3\n",
    "print(f'球體積是    : {v:5.1f}')\n",
    "\n",
    "area = 4 * math.pi * r ** 2\n",
    "print(f'球表面積是  : {area:5.1f}')"
   ]
  }
 ],
 "metadata": {
  "kernelspec": {
   "display_name": "Python 3 (ipykernel)",
   "language": "python",
   "name": "python3"
  },
  "language_info": {
   "codemirror_mode": {
    "name": "ipython",
    "version": 3
   },
   "file_extension": ".py",
   "mimetype": "text/x-python",
   "name": "python",
   "nbconvert_exporter": "python",
   "pygments_lexer": "ipython3",
   "version": "3.10.7"
  }
 },
 "nbformat": 4,
 "nbformat_minor": 5
}
