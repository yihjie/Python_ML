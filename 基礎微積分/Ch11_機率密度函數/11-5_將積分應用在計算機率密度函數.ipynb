{
 "cells": [
  {
   "cell_type": "code",
   "execution_count": 1,
   "id": "6ee510ba-62de-4b18-8c34-65b2f7c486db",
   "metadata": {},
   "outputs": [
    {
     "name": "stdout",
     "output_type": "stream",
     "text": [
      "1.00000000000000\n"
     ]
    }
   ],
   "source": [
    "from sympy import *\n",
    "\n",
    "x = Symbol('x')\n",
    "f1 = ( 1 / 18) * x - (1 / 9)\n",
    "y1 = integrate(f1, (x, 2, 6))\n",
    "\n",
    "f2 = (-2 / 45) * x + (22 / 45)\n",
    "y2 = integrate(f2, (x, 6, 11))\n",
    "print(y1 + y2)"
   ]
  }
 ],
 "metadata": {
  "kernelspec": {
   "display_name": "Python 3 (ipykernel)",
   "language": "python",
   "name": "python3"
  },
  "language_info": {
   "codemirror_mode": {
    "name": "ipython",
    "version": 3
   },
   "file_extension": ".py",
   "mimetype": "text/x-python",
   "name": "python",
   "nbconvert_exporter": "python",
   "pygments_lexer": "ipython3",
   "version": "3.10.7"
  }
 },
 "nbformat": 4,
 "nbformat_minor": 5
}
