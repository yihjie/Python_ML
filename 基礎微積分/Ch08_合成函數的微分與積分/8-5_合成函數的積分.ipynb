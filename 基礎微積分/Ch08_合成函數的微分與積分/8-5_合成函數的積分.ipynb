{
 "cells": [
  {
   "cell_type": "code",
   "execution_count": 1,
   "id": "d38f6b4e-6e54-4fa3-accb-1948da470ec5",
   "metadata": {},
   "outputs": [
    {
     "name": "stdout",
     "output_type": "stream",
     "text": [
      "9/32\n",
      "9/32\n"
     ]
    }
   ],
   "source": [
    "from sympy import *\n",
    "\n",
    "x = Symbol('x')\n",
    "t = Symbol('t')\n",
    "\n",
    "f1 = (x - 1) / 16\n",
    "f2 = t / 16\n",
    "\n",
    "print(integrate(f1, (x, 1, 4)))\n",
    "print(integrate(f2, (t, 0, 3)))"
   ]
  }
 ],
 "metadata": {
  "kernelspec": {
   "display_name": "Python 3 (ipykernel)",
   "language": "python",
   "name": "python3"
  },
  "language_info": {
   "codemirror_mode": {
    "name": "ipython",
    "version": 3
   },
   "file_extension": ".py",
   "mimetype": "text/x-python",
   "name": "python",
   "nbconvert_exporter": "python",
   "pygments_lexer": "ipython3",
   "version": "3.10.7"
  }
 },
 "nbformat": 4,
 "nbformat_minor": 5
}
