{
 "cells": [
  {
   "cell_type": "markdown",
   "id": "d71f39d7-1a47-4f62-827e-11f4c078bcd1",
   "metadata": {},
   "source": [
    "||拜訪次數 (單位：100)|國際證照考卷銷售張數|\n",
    "|:----:|:----:|-----:|\n",
    "|第一年|1|500|\n",
    "|第二年|2|1000|\n",
    "|第三年|3|2000|\n",
    "\n",
    "y = 7.5x - 3.33"
   ]
  },
  {
   "cell_type": "markdown",
   "id": "24c4834d-7bda-4e3e-995c-c5c8f4a0186d",
   "metadata": {},
   "source": [
    "y = 7.5x - 3.33\n",
    "a = 7.5\n",
    "b = -3.33\n",
    "\n",
    "y = ax + b\n",
    "--> y = ax + b + $\\epsilon$\n",
    "\n",
    "$\\therefore$ \n",
    "\n",
    "$\\epsilon_1$ =  500 - a  - b \n",
    "\n",
    "$\\epsilon_2$ = 1000 - 2a - b \n",
    "\n",
    "$\\epsilon_3$ = 2000 - 3a - b \n"
   ]
  },
  {
   "cell_type": "markdown",
   "id": "ff679145-6436-44f8-a71b-1cc910b74643",
   "metadata": {},
   "source": [
    "$14a^2 + 3b^2 + 12ab - 170a - 70b + 525$\n",
    "\n",
    "d/da = 28a + 12b - 170\n",
    "\n",
    "d/db = 6b + 12a - 70"
   ]
  },
  {
   "cell_type": "code",
   "execution_count": 2,
   "id": "c98ffd3d-196e-41b3-a87b-e134d3714d12",
   "metadata": {},
   "outputs": [
    {
     "name": "stdout",
     "output_type": "stream",
     "text": [
      "{a: 15/2, b: -10/3}\n"
     ]
    }
   ],
   "source": [
    "from sympy import solve, symbols\n",
    "\n",
    "a, b = symbols('a, b')\n",
    "eq1 = 28 * a + 12 * b - 170\n",
    "eq2 = 12 * a + 6 * b - 70\n",
    "ans = solve((eq1, eq2))\n",
    "print(ans)"
   ]
  },
  {
   "cell_type": "code",
   "execution_count": 3,
   "id": "9f41fb96-e6f1-49ee-a203-16dfe32545b5",
   "metadata": {},
   "outputs": [
    {
     "name": "stdout",
     "output_type": "stream",
     "text": [
      "[ 7.5        -3.33333333]\n"
     ]
    }
   ],
   "source": [
    "from scipy.optimize import root\n",
    "\n",
    "def fun(x):\n",
    "    return (a1 * x[0] + b1 * x[1] + c1, a2 * x[0] + b2 * x[1] + c2)\n",
    "\n",
    "a1 = 28\n",
    "b1 = 12\n",
    "c1 = -170\n",
    "a2 = 12\n",
    "b2 = 6\n",
    "c2 = -70\n",
    "\n",
    "r = root(fun, [0,0]) # 初始迭代值 0, 0\n",
    "print(r.x)"
   ]
  },
  {
   "cell_type": "code",
   "execution_count": null,
   "id": "293c19fc-bf04-4153-baaa-ee7ce5a7c459",
   "metadata": {},
   "outputs": [],
   "source": []
  }
 ],
 "metadata": {
  "kernelspec": {
   "display_name": "Python 3 (ipykernel)",
   "language": "python",
   "name": "python3"
  },
  "language_info": {
   "codemirror_mode": {
    "name": "ipython",
    "version": 3
   },
   "file_extension": ".py",
   "mimetype": "text/x-python",
   "name": "python",
   "nbconvert_exporter": "python",
   "pygments_lexer": "ipython3",
   "version": "3.11.0"
  },
  "widgets": {
   "application/vnd.jupyter.widget-state+json": {
    "state": {},
    "version_major": 2,
    "version_minor": 0
   }
  }
 },
 "nbformat": 4,
 "nbformat_minor": 5
}
