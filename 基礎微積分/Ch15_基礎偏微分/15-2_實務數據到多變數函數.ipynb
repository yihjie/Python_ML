{
 "cells": [
  {
   "cell_type": "markdown",
   "id": "d71f39d7-1a47-4f62-827e-11f4c078bcd1",
   "metadata": {},
   "source": [
    "||拜訪次數 (單位：100)|國際證照考卷銷售張數|\n",
    "|:----:|:----:|-----:|\n",
    "|第一年|1|500|\n",
    "|第二年|2|1000|\n",
    "|第三年|3|2000|\n",
    "\n",
    "y = 7.5x - 3.33"
   ]
  },
  {
   "cell_type": "code",
   "execution_count": null,
   "id": "02869e7f-6b2d-4860-ac1c-bb95f3b34c62",
   "metadata": {},
   "outputs": [],
   "source": [
    "y = 7.5x - 3.33\n",
    "a = 7.5\n",
    "b = -3.33\n",
    "\n",
    "y = ax + b\n",
    "--> y = ax + "
   ]
  }
 ],
 "metadata": {
  "kernelspec": {
   "display_name": "Python 3 (ipykernel)",
   "language": "python",
   "name": "python3"
  },
  "language_info": {
   "codemirror_mode": {
    "name": "ipython",
    "version": 3
   },
   "file_extension": ".py",
   "mimetype": "text/x-python",
   "name": "python",
   "nbconvert_exporter": "python",
   "pygments_lexer": "ipython3",
   "version": "3.11.0"
  },
  "widgets": {
   "application/vnd.jupyter.widget-state+json": {
    "state": {},
    "version_major": 2,
    "version_minor": 0
   }
  }
 },
 "nbformat": 4,
 "nbformat_minor": 5
}
