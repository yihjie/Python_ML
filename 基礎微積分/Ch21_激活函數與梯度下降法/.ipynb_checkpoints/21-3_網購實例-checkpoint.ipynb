{
 "cells": [
  {
   "cell_type": "markdown",
   "id": "f6553720-3fc1-4396-b966-f83485fd27d3",
   "metadata": {},
   "source": [
    "虛擬變數 ( Dummy variables )\n",
    "\n",
    "|台北市|客訴|回購|人數|\n",
    "|:-:|:-:|:-:|--:|\n",
    "|0|0|0|54|\n",
    "|0|0|1|36|\n",
    "|0|1|0|18|\n",
    "|0|1|1|12|\n",
    "|1|0|0|64|\n",
    "|1|0|1|96|\n",
    "|1|1|0|8|\n",
    "|1|1|1|12|\n"
   ]
  },
  {
   "cell_type": "code",
   "execution_count": 23,
   "id": "aa31b937-5227-46e8-85c7-ec326b673ed9",
   "metadata": {},
   "outputs": [
    {
     "name": "stdout",
     "output_type": "stream",
     "text": [
      "微分值 = 0.7311\n",
      "beta0 = 39.4772\n",
      "beta1 = 0.0000\n",
      "beta2 = 0.0000\n"
     ]
    }
   ],
   "source": [
    "# 非台北市、無客訴、無回購 的 54 人\n",
    "# beta0\n",
    "\n",
    "import numpy as np\n",
    "\n",
    "def fun(x):\n",
    "    return (x + np.log(1 + np.exp(-x)))\n",
    "\n",
    "counters = 54\n",
    "\n",
    "x1 = fun(1.00001)\n",
    "x2 = fun(1)\n",
    "diff = (x1 - x2) / (1.00001 - 1)\n",
    "print(f'微分值 = {diff:5.4f}')\n",
    "\n",
    "beta0 = diff * counters\n",
    "print(f'beta0 = {beta0:5.4f}')\n",
    "beta1 = 0\n",
    "print(f'beta1 = {beta1:5.4f}')\n",
    "beta2 = 0\n",
    "print(f'beta2 = {beta2:5.4f}')"
   ]
  },
  {
   "cell_type": "code",
   "execution_count": 24,
   "id": "c7f38ed6-95b4-44eb-808e-d71c9484125a",
   "metadata": {},
   "outputs": [
    {
     "name": "stdout",
     "output_type": "stream",
     "text": [
      "微分值 = -0.2689\n",
      "beta0 = -9.6819\n",
      "beta1 = 0.0000\n",
      "beta2 = 0.0000\n"
     ]
    }
   ],
   "source": [
    "# 非台北市、無客訴、有回購 的 36 人\n",
    "\n",
    "import numpy as np\n",
    "\n",
    "def fun(x):\n",
    "    return (np.log(1 + np.exp(-x)))\n",
    "\n",
    "counters = 36\n",
    "\n",
    "x1 = fun(1.00001)\n",
    "x2 = fun(1)\n",
    "diff = (x1 - x2) / (1.00001 - 1)\n",
    "print(f'微分值 = {diff:5.4f}')\n",
    "\n",
    "beta0 = diff * counters\n",
    "print(f'beta0 = {beta0:5.4f}')\n",
    "beta1 = 0\n",
    "print(f'beta1 = {beta1:5.4f}')\n",
    "beta2 = 0\n",
    "print(f'beta2 = {beta2:5.4f}')"
   ]
  },
  {
   "cell_type": "code",
   "execution_count": 25,
   "id": "96c0b1eb-f3ba-4d05-a2dd-bd1c7c5d2bf8",
   "metadata": {},
   "outputs": [
    {
     "name": "stdout",
     "output_type": "stream",
     "text": [
      "微分值 = 0.8808\n",
      "beta0 = 15.8544\n",
      "beta1 = 0.0000\n",
      "beta2 = 15.8544\n"
     ]
    }
   ],
   "source": [
    "# 非台北市、有客訴、無回購 的 18 人\n",
    "\n",
    "import numpy as np\n",
    "\n",
    "def fun(x):\n",
    "    return (x + 1 + np.log(1 + np.exp(-(x + 1))))\n",
    "\n",
    "counters = 18\n",
    "\n",
    "x1 = fun(1.00001)\n",
    "x2 = fun(1)\n",
    "diff = (x1 - x2) / (1.00001 - 1)\n",
    "print(f'微分值 = {diff:5.4f}')\n",
    "\n",
    "beta0 = diff * counters\n",
    "print(f'beta0 = {beta0:5.4f}')\n",
    "beta1 = 0\n",
    "print(f'beta1 = {beta1:5.4f}')\n",
    "beta2 = beta0\n",
    "print(f'beta2 = {beta2:5.4f}')"
   ]
  },
  {
   "cell_type": "code",
   "execution_count": 26,
   "id": "54b29e2b-6b01-4393-99e5-03a66ae16840",
   "metadata": {},
   "outputs": [
    {
     "name": "stdout",
     "output_type": "stream",
     "text": [
      "微分值 = -0.1192\n",
      "beta0 = -1.4304\n",
      "beta1 = 0.0000\n",
      "beta2 = -1.4304\n"
     ]
    }
   ],
   "source": [
    "# 非台北市、有客訴、有回購 的 12 人\n",
    "\n",
    "import numpy as np\n",
    "\n",
    "def fun(x):\n",
    "    return (np.log(1 + np.exp(-(x + 1))))\n",
    "\n",
    "counters = 12\n",
    "\n",
    "x1 = fun(1.00001)\n",
    "x2 = fun(1)\n",
    "diff = (x1 - x2) / (1.00001 - 1)\n",
    "print(f'微分值 = {diff:5.4f}')\n",
    "\n",
    "beta0 = diff * counters\n",
    "print(f'beta0 = {beta0:5.4f}')\n",
    "beta1 = 0\n",
    "print(f'beta1 = {beta1:5.4f}')\n",
    "beta2 = beta0\n",
    "print(f'beta2 = {beta2:5.4f}')"
   ]
  },
  {
   "cell_type": "code",
   "execution_count": 27,
   "id": "34217481-f281-48f0-9c8d-d02ed22016f0",
   "metadata": {},
   "outputs": [
    {
     "name": "stdout",
     "output_type": "stream",
     "text": [
      "微分值 = 0.8808\n",
      "beta0 = 56.3710\n",
      "beta1 = 56.3710\n",
      "beta2 = 0.0000\n"
     ]
    }
   ],
   "source": [
    "# 台北市、無客訴、無回購 的 64 人\n",
    "\n",
    "import numpy as np\n",
    "\n",
    "def fun(x):\n",
    "    return (x + 1 + np.log(1 + np.exp(-(x + 1))))\n",
    "\n",
    "counters = 64\n",
    "\n",
    "x1 = fun(1.00001)\n",
    "x2 = fun(1)\n",
    "diff = (x1 - x2) / (1.00001 - 1)\n",
    "print(f'微分值 = {diff:5.4f}')\n",
    "\n",
    "beta0 = diff * counters\n",
    "print(f'beta0 = {beta0:5.4f}')\n",
    "beta1 = beta0\n",
    "print(f'beta1 = {beta1:5.4f}')\n",
    "beta2 = 0\n",
    "print(f'beta2 = {beta2:5.4f}')"
   ]
  },
  {
   "cell_type": "code",
   "execution_count": 31,
   "id": "53415a4f-812c-438d-b4e7-f8fa6ccfdc92",
   "metadata": {},
   "outputs": [
    {
     "name": "stdout",
     "output_type": "stream",
     "text": [
      "微分值 = -0.1192\n",
      "beta0 = -11.4434\n",
      "beta1 = -11.4434\n",
      "beta2 = 0.0000\n"
     ]
    }
   ],
   "source": [
    "# 台北市、無客訴、有回購 的 96 人\n",
    "\n",
    "import numpy as np\n",
    "\n",
    "def fun(x):\n",
    "    return (np.log(1 + np.exp(-(x + 1))))\n",
    "\n",
    "counters = 96\n",
    "\n",
    "x1 = fun(1.00001)\n",
    "x2 = fun(1)\n",
    "diff = (x1 - x2) / (1.00001 - 1)\n",
    "print(f'微分值 = {diff:5.4f}')\n",
    "\n",
    "beta0 = diff * counters\n",
    "print(f'beta0 = {beta0:5.4f}')\n",
    "beta1 = beta0\n",
    "print(f'beta1 = {beta1:5.4f}')\n",
    "beta2 = 0\n",
    "print(f'beta2 = {beta2:5.4f}')"
   ]
  },
  {
   "cell_type": "code",
   "execution_count": 29,
   "id": "6467316f-41af-4260-8f4c-de7a7260f99f",
   "metadata": {},
   "outputs": [
    {
     "name": "stdout",
     "output_type": "stream",
     "text": [
      "微分值 = 0.9526\n",
      "beta0 = 7.6206\n",
      "beta1 = 7.6206\n",
      "beta2 = 7.6206\n"
     ]
    }
   ],
   "source": [
    "# 台北市、有客訴、無回購 的 8 人\n",
    "\n",
    "import numpy as np\n",
    "\n",
    "def fun(x):\n",
    "    return (x + 1 + 1 + np.log(1 + np.exp(-(x + 1 + 1))))\n",
    "\n",
    "counters = 8\n",
    "\n",
    "x1 = fun(1.00001)\n",
    "x2 = fun(1)\n",
    "diff = (x1 - x2) / (1.00001 - 1)\n",
    "print(f'微分值 = {diff:5.4f}')\n",
    "\n",
    "beta0 = diff * counters\n",
    "print(f'beta0 = {beta0:5.4f}')\n",
    "beta1 = beta0\n",
    "print(f'beta1 = {beta1:5.4f}')\n",
    "beta2 = beta0\n",
    "print(f'beta2 = {beta2:5.4f}')"
   ]
  },
  {
   "cell_type": "code",
   "execution_count": 33,
   "id": "b2b14e06-26f9-483e-a33f-65207058a4ef",
   "metadata": {},
   "outputs": [
    {
     "name": "stdout",
     "output_type": "stream",
     "text": [
      "微分值 = -0.0474\n",
      "beta0 = -0.5691\n",
      "beta1 = -0.5691\n",
      "beta2 = -0.5691\n"
     ]
    }
   ],
   "source": [
    "# 台北市、有客訴、有回購 的 12 人\n",
    "\n",
    "import numpy as np\n",
    "\n",
    "def fun(x):\n",
    "    return (np.log(1 + np.exp(-(x + 1 + 1))))\n",
    "\n",
    "counters = 12\n",
    "\n",
    "x1 = fun(1.00001)\n",
    "x2 = fun(1)\n",
    "diff = (x1 - x2) / (1.00001 - 1)\n",
    "print(f'微分值 = {diff:5.4f}')\n",
    "\n",
    "beta0 = diff * counters\n",
    "print(f'beta0 = {beta0:5.4f}')\n",
    "beta1 = beta0\n",
    "print(f'beta1 = {beta1:5.4f}')\n",
    "beta2 = beta0\n",
    "print(f'beta2 = {beta2:5.4f}')"
   ]
  },
  {
   "cell_type": "code",
   "execution_count": null,
   "id": "1d0c0182-e47f-46b8-9259-3826a591667f",
   "metadata": {},
   "outputs": [],
   "source": [
    "# 學習率    0.003\n",
    "# 迭代計算  500\n",
    "\n",
    "import numpy as np\n"
   ]
  }
 ],
 "metadata": {
  "kernelspec": {
   "display_name": "Python 3 (ipykernel)",
   "language": "python",
   "name": "python3"
  },
  "language_info": {
   "codemirror_mode": {
    "name": "ipython",
    "version": 3
   },
   "file_extension": ".py",
   "mimetype": "text/x-python",
   "name": "python",
   "nbconvert_exporter": "python",
   "pygments_lexer": "ipython3",
   "version": "3.11.0"
  }
 },
 "nbformat": 4,
 "nbformat_minor": 5
}
