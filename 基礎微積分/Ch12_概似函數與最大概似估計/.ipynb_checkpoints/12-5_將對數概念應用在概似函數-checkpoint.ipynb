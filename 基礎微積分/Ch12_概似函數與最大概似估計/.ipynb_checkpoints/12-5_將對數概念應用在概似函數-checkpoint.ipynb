{
 "cells": [
  {
   "cell_type": "markdown",
   "id": "172655e2-e366-450c-bbab-16ffc370c42a",
   "metadata": {},
   "source": [
    "L(p) vs ln L(p)"
   ]
  }
 ],
 "metadata": {
  "kernelspec": {
   "display_name": "Python 3 (ipykernel)",
   "language": "python",
   "name": "python3"
  },
  "language_info": {
   "codemirror_mode": {
    "name": "ipython",
    "version": 3
   },
   "file_extension": ".py",
   "mimetype": "text/x-python",
   "name": "python",
   "nbconvert_exporter": "python",
   "pygments_lexer": "ipython3",
   "version": "3.10.7"
  }
 },
 "nbformat": 4,
 "nbformat_minor": 5
}
