{
 "cells": [
  {
   "cell_type": "code",
   "execution_count": null,
   "id": "c6aa0304-b22e-4c28-a8b7-c0344e85a993",
   "metadata": {},
   "outputs": [],
   "source": [
    "rate = 0.1                                             # 學習率\n",
    "w =     [0, 1, 1, 1, 1, 1, 1]                          # weight , 0 --> 沒有作用\n",
    "new_w = [0, 0, 0, 0, 0, 0, 0]                          # new weight , 0 --> 沒有作用\n",
    "x = [0, 1, 0.5]                                        # x , 0 --> 沒有作用\n",
    "v = 4.5                                                # 已知目標值\n",
    "\n",
    "u1 = w[1] * x[1] + w[2] * x[2]\n",
    "print(f\"   u1 = {u1:5.3f}\")\n",
    "u2 = w[3] * x[1] + w[4] * x[2]\n",
    "print(f\"   u2 = {u2:5.3f}\")\n",
    "y = w[5] * u1 + w[6] * u2\n",
    "print(f\"    y = {y:5.3f}\")\n",
    "E = 0.5 * (y - v) ** 2\n",
    "print(f\"    E = {E:5.3f}\")\n",
    "dEdy = y -v\n"
   ]
  }
 ],
 "metadata": {
  "kernelspec": {
   "display_name": "Python 3 (ipykernel)",
   "language": "python",
   "name": "python3"
  },
  "language_info": {
   "codemirror_mode": {
    "name": "ipython",
    "version": 3
   },
   "file_extension": ".py",
   "mimetype": "text/x-python",
   "name": "python",
   "nbconvert_exporter": "python",
   "pygments_lexer": "ipython3",
   "version": "3.11.0"
  },
  "widgets": {
   "application/vnd.jupyter.widget-state+json": {
    "state": {},
    "version_major": 2,
    "version_minor": 0
   }
  }
 },
 "nbformat": 4,
 "nbformat_minor": 5
}
