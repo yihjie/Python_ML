{
 "cells": [
  {
   "cell_type": "markdown",
   "id": "b6498945-d8ea-45b7-923e-5f21814b5419",
   "metadata": {},
   "source": [
    "f(x) = 3x^2 + 5x + 1 = 0"
   ]
  },
  {
   "cell_type": "code",
   "execution_count": 2,
   "id": "921b4006-b404-496d-9c42-969fde3a32a5",
   "metadata": {},
   "outputs": [
    {
     "name": "stdout",
     "output_type": "stream",
     "text": [
      "[-0.23240812]\n",
      "[-1.43425855]\n",
      "[-0.23240812]\n"
     ]
    }
   ],
   "source": [
    "from scipy.optimize import root\n",
    "\n",
    "def f(x):\n",
    "    return ( a * x ** 2 + b * x + c )\n",
    "\n",
    "a = 3\n",
    "b = 5\n",
    "c = 1\n",
    "\n",
    "r1 = root(f, 0)                 # 初始迭代值 0\n",
    "print(r1.x)\n",
    "r2 = root(f, -1)                # 初始迭代值 -1\n",
    "print(r2.x)\n",
    "r3 = root(f, 1)                 # 初始迭代值 1\n",
    "print(r3.x)"
   ]
  },
  {
   "cell_type": "markdown",
   "id": "870a9812-f683-4df7-9f0f-c42cb667beb1",
   "metadata": {},
   "source": [
    "2x + 3y = 13\n",
    "1x - 2y = -4\n",
    "\n",
    "x = x[0]\n",
    "y = x[1]"
   ]
  },
  {
   "cell_type": "code",
   "execution_count": null,
   "id": "f7844040-1274-48c3-87aa-050d74839a75",
   "metadata": {},
   "outputs": [],
   "source": []
  }
 ],
 "metadata": {
  "kernelspec": {
   "display_name": "Python 3 (ipykernel)",
   "language": "python",
   "name": "python3"
  },
  "language_info": {
   "codemirror_mode": {
    "name": "ipython",
    "version": 3
   },
   "file_extension": ".py",
   "mimetype": "text/x-python",
   "name": "python",
   "nbconvert_exporter": "python",
   "pygments_lexer": "ipython3",
   "version": "3.10.5"
  }
 },
 "nbformat": 4,
 "nbformat_minor": 5
}
