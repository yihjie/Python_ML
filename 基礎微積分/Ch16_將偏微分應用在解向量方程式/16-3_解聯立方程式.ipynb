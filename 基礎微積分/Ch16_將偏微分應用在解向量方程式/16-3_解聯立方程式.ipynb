{
 "cells": [
  {
   "cell_type": "code",
   "execution_count": 1,
   "id": "4b19eec8-8d2c-4285-9eb3-9634beb1babb",
   "metadata": {},
   "outputs": [
    {
     "name": "stdout",
     "output_type": "stream",
     "text": [
      "{a: 15/2, b: -10/3}\n"
     ]
    }
   ],
   "source": [
    "from sympy import solve, symbols\n",
    "\n",
    "a, b = symbols('a, b')\n",
    "eq1 = 14 * a + 6 * b - 85\n",
    "eq2 = 6 * a + 3 * b - 35\n",
    "\n",
    "ans = solve((eq1, eq2))\n",
    "print(ans)"
   ]
  }
 ],
 "metadata": {
  "kernelspec": {
   "display_name": "Python 3 (ipykernel)",
   "language": "python",
   "name": "python3"
  },
  "language_info": {
   "codemirror_mode": {
    "name": "ipython",
    "version": 3
   },
   "file_extension": ".py",
   "mimetype": "text/x-python",
   "name": "python",
   "nbconvert_exporter": "python",
   "pygments_lexer": "ipython3",
   "version": "3.11.0"
  },
  "widgets": {
   "application/vnd.jupyter.widget-state+json": {
    "state": {},
    "version_major": 2,
    "version_minor": 0
   }
  }
 },
 "nbformat": 4,
 "nbformat_minor": 5
}
