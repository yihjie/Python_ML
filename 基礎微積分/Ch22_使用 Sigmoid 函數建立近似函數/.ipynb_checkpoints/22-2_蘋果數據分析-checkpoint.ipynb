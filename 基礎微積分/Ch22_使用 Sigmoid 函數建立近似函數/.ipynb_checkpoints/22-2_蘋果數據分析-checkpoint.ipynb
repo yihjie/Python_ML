{
 "cells": [
  {
   "cell_type": "code",
   "execution_count": 2,
   "id": "d000133a-73ea-4973-89f0-492506b8db33",
   "metadata": {},
   "outputs": [
    {
     "name": "stdout",
     "output_type": "stream",
     "text": [
      "-a1 - b1 - 3.17805383034795\n"
     ]
    }
   ],
   "source": [
    "from sympy import solve, Symbol\n",
    "import numpy as np\n",
    "\n",
    "rate1 = 0.04\n",
    "rate2 = 0.41\n",
    "\n",
    "coef1 = 1\n",
    "coef2 = 4.4\n",
    "\n",
    "a1 = Symbol('a1')\n",
    "b1 = Symbol('b1')\n",
    "\n",
    "eq1 = np.log(rate1 / (1 - rate1)) - coef1 * a1 - b1\n",
    "eq2 = np.log(rate2 / (1 - rate2)) - coef2 * a1 - b1\n",
    "data = solve(eq1, eq2)\n",
    "\n",
    "print(eq1)\n",
    "\n"
   ]
  },
  {
   "cell_type": "code",
   "execution_count": null,
   "id": "b6f8b8db-7de6-44b4-8842-a3ef513c7d02",
   "metadata": {},
   "outputs": [],
   "source": []
  }
 ],
 "metadata": {
  "kernelspec": {
   "display_name": "Python 3 (ipykernel)",
   "language": "python",
   "name": "python3"
  },
  "language_info": {
   "codemirror_mode": {
    "name": "ipython",
    "version": 3
   },
   "file_extension": ".py",
   "mimetype": "text/x-python",
   "name": "python",
   "nbconvert_exporter": "python",
   "pygments_lexer": "ipython3",
   "version": "3.11.0"
  },
  "widgets": {
   "application/vnd.jupyter.widget-state+json": {
    "state": {},
    "version_major": 2,
    "version_minor": 0
   }
  }
 },
 "nbformat": 4,
 "nbformat_minor": 5
}
