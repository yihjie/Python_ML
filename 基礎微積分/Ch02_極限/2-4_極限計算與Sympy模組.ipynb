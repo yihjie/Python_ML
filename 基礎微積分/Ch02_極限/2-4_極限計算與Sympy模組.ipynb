{
 "cells": [
  {
   "cell_type": "markdown",
   "id": "55802344-6458-45c3-801b-149b67d48517",
   "metadata": {},
   "source": [
    "lim 58 * (1/2) ^x = 0 ; x--> oo"
   ]
  },
  {
   "cell_type": "code",
   "execution_count": 2,
   "id": "fac6a4f6-353d-4b75-a33a-dea9f743c026",
   "metadata": {},
   "outputs": [
    {
     "name": "stdout",
     "output_type": "stream",
     "text": [
      "result =  0\n",
      "result =  0\n"
     ]
    }
   ],
   "source": [
    "from sympy import *\n",
    "\n",
    "x = Symbol('x')\n",
    "f = 58 * ( 1 / 2)**x\n",
    "\n",
    "print(\"result = \", limit(f, x, float('inf')))\n",
    "print(\"result = \", limit(f, x, oo))"
   ]
  },
  {
   "cell_type": "markdown",
   "id": "78229a88-7eea-435e-bef3-df03fd6de10d",
   "metadata": {},
   "source": [
    "lim 1/x = oo  ; x --> +0\n",
    "lim 1/x = -oo ; x --> -0"
   ]
  },
  {
   "cell_type": "code",
   "execution_count": 3,
   "id": "57e3e04e-ea8e-4eb1-b9a5-81d8998fe56f",
   "metadata": {},
   "outputs": [
    {
     "name": "stdout",
     "output_type": "stream",
     "text": [
      "右邊趨近 0 =  oo\n",
      "左邊趨近 0 =  -oo\n"
     ]
    }
   ],
   "source": [
    "from sympy import *\n",
    "\n",
    "x = Symbol('x')\n",
    "f = 1 / x\n",
    "\n",
    "print(\"右邊趨近 0 = \", limit(f, x, 0))\n",
    "print(\"左邊趨近 0 = \", limit(f, x, 0, dir='-'))"
   ]
  }
 ],
 "metadata": {
  "kernelspec": {
   "display_name": "Python 3 (ipykernel)",
   "language": "python",
   "name": "python3"
  },
  "language_info": {
   "codemirror_mode": {
    "name": "ipython",
    "version": 3
   },
   "file_extension": ".py",
   "mimetype": "text/x-python",
   "name": "python",
   "nbconvert_exporter": "python",
   "pygments_lexer": "ipython3",
   "version": "3.10.7"
  }
 },
 "nbformat": 4,
 "nbformat_minor": 5
}
