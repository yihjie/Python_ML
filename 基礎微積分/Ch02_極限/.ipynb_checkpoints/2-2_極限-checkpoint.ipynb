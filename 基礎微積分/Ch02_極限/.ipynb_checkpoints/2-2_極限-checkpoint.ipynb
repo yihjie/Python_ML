{
 "cells": [
  {
   "cell_type": "markdown",
   "id": "14e8d1b7-8460-4376-bc14-c5480a2dfbc4",
   "metadata": {},
   "source": [
    "y(n) = 1/n"
   ]
  },
  {
   "cell_type": "code",
   "execution_count": null,
   "id": "23612835-6e63-49c1-8aef-cbd9b88a13de",
   "metadata": {},
   "outputs": [],
   "source": [
    "import matplotlib.pyplot as plt\n"
   ]
  }
 ],
 "metadata": {
  "kernelspec": {
   "display_name": "Python 3 (ipykernel)",
   "language": "python",
   "name": "python3"
  },
  "language_info": {
   "codemirror_mode": {
    "name": "ipython",
    "version": 3
   },
   "file_extension": ".py",
   "mimetype": "text/x-python",
   "name": "python",
   "nbconvert_exporter": "python",
   "pygments_lexer": "ipython3",
   "version": "3.10.7"
  }
 },
 "nbformat": 4,
 "nbformat_minor": 5
}
