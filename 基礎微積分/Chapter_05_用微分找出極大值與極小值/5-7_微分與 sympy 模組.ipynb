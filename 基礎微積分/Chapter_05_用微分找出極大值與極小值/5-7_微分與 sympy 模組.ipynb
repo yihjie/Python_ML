{
 "cells": [
  {
   "cell_type": "markdown",
   "id": "aeda69fb-d83a-4630-8286-3474c809e059",
   "metadata": {},
   "source": [
    "y = f(x) = 3x^2 + 2x + 10"
   ]
  },
  {
   "cell_type": "code",
   "execution_count": 3,
   "id": "be2f2aab-d36f-419f-a5e2-f9348dbd07c6",
   "metadata": {},
   "outputs": [
    {
     "name": "stdout",
     "output_type": "stream",
     "text": [
      "f'(x) =  6*x + 2\n",
      "f'(x) =  6*x + 2\n",
      "f''(x) =  6\n"
     ]
    }
   ],
   "source": [
    "from sympy import *\n",
    "\n",
    "x = Symbol('x')\n",
    "f = Symbol('f')\n",
    "f = 3 * x ** 2 + 2 * x + 10\n",
    "print(\"f'(x) = \", f.diff())\n",
    "print(\"f'(x) = \", diff(f, x))\n",
    "print(\"f''(x) = \", diff(f, x, 2))"
   ]
  }
 ],
 "metadata": {
  "kernelspec": {
   "display_name": "Python 3 (ipykernel)",
   "language": "python",
   "name": "python3"
  },
  "language_info": {
   "codemirror_mode": {
    "name": "ipython",
    "version": 3
   },
   "file_extension": ".py",
   "mimetype": "text/x-python",
   "name": "python",
   "nbconvert_exporter": "python",
   "pygments_lexer": "ipython3",
   "version": "3.10.5"
  }
 },
 "nbformat": 4,
 "nbformat_minor": 5
}
