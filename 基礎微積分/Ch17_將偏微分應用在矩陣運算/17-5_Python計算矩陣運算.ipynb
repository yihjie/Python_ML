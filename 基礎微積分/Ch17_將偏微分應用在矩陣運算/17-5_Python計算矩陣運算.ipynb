{
 "cells": [
  {
   "cell_type": "code",
   "execution_count": 2,
   "id": "0a14db84-8225-49a1-a4ea-9de92223c779",
   "metadata": {},
   "outputs": [
    {
     "name": "stdout",
     "output_type": "stream",
     "text": [
      "<class 'numpy.ndarray'>\n",
      "[[1 2 3]\n",
      " [4 5 6]]\n"
     ]
    }
   ],
   "source": [
    "import numpy as np\n",
    "\n",
    "x = np.array([[1, 2, 3],\n",
    "              [4, 5, 6]])\n",
    "print(type(x))\n",
    "print(x)"
   ]
  },
  {
   "cell_type": "code",
   "execution_count": 3,
   "id": "ca7ac158-932f-46d1-945f-add5c275d4f0",
   "metadata": {},
   "outputs": [
    {
     "name": "stdout",
     "output_type": "stream",
     "text": [
      "[[0 1]\n",
      " [2 3]\n",
      " [4 5]\n",
      " [6 7]]\n",
      "[[0 2 4 6]\n",
      " [1 3 5 7]]\n"
     ]
    }
   ],
   "source": [
    "import numpy as np\n",
    "\n",
    "x = np.arange(8).reshape(4, 2)\n",
    "print(x)\n",
    "print(x.transpose())"
   ]
  },
  {
   "cell_type": "code",
   "execution_count": 4,
   "id": "ad0f6cf8-00c0-4181-a366-4ddf9665a580",
   "metadata": {},
   "outputs": [
    {
     "name": "stdout",
     "output_type": "stream",
     "text": [
      "[[5 1]\n",
      " [4 2]]\n"
     ]
    }
   ],
   "source": [
    "import numpy as np\n",
    "\n",
    "x = np.array([[1, 0, 2],\n",
    "              [-1, 3, 1]])\n",
    "y = np.array([[3, 1],\n",
    "              [2, 1],\n",
    "              [1, 0]])\n",
    "z = x @ y\n",
    "print(z)"
   ]
  },
  {
   "cell_type": "code",
   "execution_count": 7,
   "id": "2c46d084-6fd0-4b3f-91f3-eec93eb9c9da",
   "metadata": {},
   "outputs": [
    {
     "name": "stdout",
     "output_type": "stream",
     "text": [
      "A_inv = [[-7.  3.]\n",
      " [ 5. -2.]]\n",
      "E     = [[1 0]\n",
      " [0 0]]\n"
     ]
    }
   ],
   "source": [
    "import numpy as np\n",
    "\n",
    "A = np.matrix([[2, 3],\n",
    "               [5, 7]])\n",
    "A_inv = np.linalg.inv(A)\n",
    "\n",
    "print('A_inv = {}'.format(A_inv))\n",
    "print('E     = {}'.format((A * A_inv).astype(np.int64)))"
   ]
  },
  {
   "cell_type": "code",
   "execution_count": 9,
   "id": "7230c2a3-9575-4907-99e0-0e25af9301f5",
   "metadata": {},
   "outputs": [
    {
     "name": "stdout",
     "output_type": "stream",
     "text": [
      "a = 7.5\n",
      "b = -3.333333333333343\n"
     ]
    }
   ],
   "source": [
    "import numpy as np\n",
    "\n",
    "X  = np.array([[1, 1],\n",
    "               [1, 2],\n",
    "               [1, 3]])\n",
    "XT  = X.transpose()\n",
    "XTX = XT @ X\n",
    "XTX_inv = np.linalg.inv(XTX)\n",
    "y = np.array([[5],\n",
    "              [10],\n",
    "              [20]])\n",
    "B = XTX_inv @ XT @ y\n",
    "print(f'a = {B[1][0]}')\n",
    "print(f'b = {B[0][0]}')"
   ]
  }
 ],
 "metadata": {
  "kernelspec": {
   "display_name": "Python 3 (ipykernel)",
   "language": "python",
   "name": "python3"
  },
  "language_info": {
   "codemirror_mode": {
    "name": "ipython",
    "version": 3
   },
   "file_extension": ".py",
   "mimetype": "text/x-python",
   "name": "python",
   "nbconvert_exporter": "python",
   "pygments_lexer": "ipython3",
   "version": "3.11.0"
  },
  "widgets": {
   "application/vnd.jupyter.widget-state+json": {
    "state": {},
    "version_major": 2,
    "version_minor": 0
   }
  }
 },
 "nbformat": 4,
 "nbformat_minor": 5
}
