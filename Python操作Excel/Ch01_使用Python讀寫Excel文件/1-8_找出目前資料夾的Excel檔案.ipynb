{
 "cells": [
  {
   "cell_type": "markdown",
   "id": "757c45bd-ebeb-413f-a298-7ce54b2a454c",
   "metadata": {},
   "source": [
    "# 列出特定工作資料夾的內容\n",
    "\n",
    "```\n",
    "import glob\n",
    "```"
   ]
  },
  {
   "cell_type": "code",
   "execution_count": 8,
   "id": "28d19cb3-ff89-4a36-9db4-9c1f2c54c3ec",
   "metadata": {},
   "outputs": [
    {
     "name": "stdout",
     "output_type": "stream",
     "text": [
      "方法 1 : 列出特定資料夾所有Excel檔案\n",
      "C:\\Users\\YihJieLin\\Study\\Python_Calculus\\Python_ML\\Python操作Excel\\Ch01_使用Python讀寫Excel文件\\out1_5.xlsx\n",
      "C:\\Users\\YihJieLin\\Study\\Python_Calculus\\Python_ML\\Python操作Excel\\Ch01_使用Python讀寫Excel文件\\out1_5_1.xlsx\n",
      "C:\\Users\\YihJieLin\\Study\\Python_Calculus\\Python_ML\\Python操作Excel\\Ch01_使用Python讀寫Excel文件\\out1_6.xlsx\n",
      "C:\\Users\\YihJieLin\\Study\\Python_Calculus\\Python_ML\\Python操作Excel\\Ch01_使用Python讀寫Excel文件\\out1_6_1.xlsx\n",
      "C:\\Users\\YihJieLin\\Study\\Python_Calculus\\Python_ML\\Python操作Excel\\Ch01_使用Python讀寫Excel文件\\sales.xlsx\n",
      "\n",
      "方法 2 : 列出目前資料夾所有Excel檔案\n",
      "out1_5.xlsx\n",
      "out1_5_1.xlsx\n",
      "out1_6.xlsx\n",
      "out1_6_1.xlsx\n",
      "sales.xlsx\n",
      "\n",
      "方法 3 : 列出目前資料夾 out1 開頭的 Excel檔案\n",
      "out1_5.xlsx\n",
      "out1_5_1.xlsx\n",
      "out1_6.xlsx\n",
      "out1_6_1.xlsx\n"
     ]
    }
   ],
   "source": [
    "import glob\n",
    "\n",
    "print(\"方法 1 : 列出特定資料夾所有Excel檔案\")\n",
    "for file in glob.glob('C:\\\\Users\\\\YihJieLin\\\\Study\\\\Python_Calculus\\\\Python_ML\\\\Python操作Excel\\\\Ch01_使用Python讀寫Excel文件\\\\*.xlsx'):\n",
    "    print(file)\n",
    "\n",
    "print()\n",
    "print(\"方法 2 : 列出目前資料夾所有Excel檔案\") \n",
    "for file in glob.glob('*.xlsx'):\n",
    "    print(file)\n",
    "\n",
    "print()\n",
    "print(\"方法 3 : 列出目前資料夾 out1 開頭的 Excel檔案\") \n",
    "for file in glob.glob('out1*.xlsx'):\n",
    "    print(file)\n",
    "\n",
    "    \n",
    "print()\n",
    "print(\"方法 4 : 列出目前資料夾 out1_ 開頭的 Excel檔案\") \n",
    "for file in glob.glob('out1_?.xlsx'):\n",
    "    print(file)\n"
   ]
  },
  {
   "cell_type": "code",
   "execution_count": 1,
   "id": "ff4df966-3d05-4010-875d-00e0c29306b0",
   "metadata": {},
   "outputs": [
    {
     "name": "stdout",
     "output_type": "stream",
     "text": [
      "輸出拷貝結果\n",
      "newout1_5.xlsx\n",
      "newout1_5_1.xlsx\n",
      "newout1_6.xlsx\n",
      "newout1_6_1.xlsx\n"
     ]
    }
   ],
   "source": [
    "import glob\n",
    "import openpyxl\n",
    "\n",
    "files = glob.glob('out1*.xlsx')\n",
    "for file in files:\n",
    "    wb = openpyxl.load_workbook(file)\n",
    "    newfile = 'new' + file\n",
    "    wb.save(newfile)\n",
    "    wb.close()\n",
    "\n",
    "newfiles = glob.glob('new*.xlsx')\n",
    "print(\"輸出拷貝結果\")\n",
    "for newfile in newfiles:\n",
    "    print(newfile)"
   ]
  },
  {
   "cell_type": "code",
   "execution_count": 2,
   "id": "cf02d08b-1726-4fa8-9c4f-263c13f58772",
   "metadata": {},
   "outputs": [
    {
     "name": "stdout",
     "output_type": "stream",
     "text": [
      "輸出拷貝結果\n",
      "new1_5.xlsx\n",
      "new1_5_1.xlsx\n",
      "new1_6.xlsx\n",
      "new1_6_1.xlsx\n"
     ]
    }
   ],
   "source": [
    "import glob\n",
    "import openpyxl\n",
    "\n",
    "files = glob.glob('out1*.xlsx')\n",
    "for file in files:\n",
    "    wb = openpyxl.load_workbook(file)\n",
    "    newfile = file.replace('out', 'new')\n",
    "    wb.save(newfile)\n",
    "    wb.close()\n",
    "\n",
    "newfiles = glob.glob('new1*.xlsx')\n",
    "print(\"輸出拷貝結果\")\n",
    "for newfile in newfiles:\n",
    "    print(newfile)"
   ]
  },
  {
   "cell_type": "code",
   "execution_count": 3,
   "id": "a2ebe67e-daca-4e07-b0df-3abcbba0b240",
   "metadata": {},
   "outputs": [
    {
     "name": "stdin",
     "output_type": "stream",
     "text": [
      "請輸入關鍵字 :  out\n"
     ]
    },
    {
     "name": "stdout",
     "output_type": "stream",
     "text": [
      "newout1_5.xlsx\n",
      "newout1_5_1.xlsx\n",
      "newout1_6.xlsx\n",
      "newout1_6_1.xlsx\n",
      "out1_5.xlsx\n",
      "out1_5_1.xlsx\n",
      "out1_6.xlsx\n",
      "out1_6_1.xlsx\n"
     ]
    }
   ],
   "source": [
    "import glob\n",
    "\n",
    "key = input('請輸入關鍵字 : ')\n",
    "keyword = '*' + key + '*.xlsx'\n",
    "\n",
    "files = glob.glob(keyword)\n",
    "for fn in files:\n",
    "    print(fn)"
   ]
  },
  {
   "cell_type": "code",
   "execution_count": 5,
   "id": "2053485b-55ec-4a14-9cac-ad536a6f2bbd",
   "metadata": {},
   "outputs": [
    {
     "name": "stdin",
     "output_type": "stream",
     "text": [
      "請輸入指定資料夾 :  C:\\\\Users\\\\YihJieLin\\\\Study\\\\Python_Calculus\\\\Python_ML\\\\Python操作Excel\\\\Ch01_使用Python讀寫Excel文件\\\\\n",
      "請輸入關鍵字 :  new\n"
     ]
    },
    {
     "name": "stdout",
     "output_type": "stream",
     "text": [
      "C:\\\\Users\\\\YihJieLin\\\\Study\\\\Python_Calculus\\\\Python_ML\\\\Python操作Excel\\\\Ch01_使用Python讀寫Excel文件\\new1_5.xlsx\n",
      "C:\\\\Users\\\\YihJieLin\\\\Study\\\\Python_Calculus\\\\Python_ML\\\\Python操作Excel\\\\Ch01_使用Python讀寫Excel文件\\new1_5_1.xlsx\n",
      "C:\\\\Users\\\\YihJieLin\\\\Study\\\\Python_Calculus\\\\Python_ML\\\\Python操作Excel\\\\Ch01_使用Python讀寫Excel文件\\new1_6.xlsx\n",
      "C:\\\\Users\\\\YihJieLin\\\\Study\\\\Python_Calculus\\\\Python_ML\\\\Python操作Excel\\\\Ch01_使用Python讀寫Excel文件\\new1_6_1.xlsx\n",
      "C:\\\\Users\\\\YihJieLin\\\\Study\\\\Python_Calculus\\\\Python_ML\\\\Python操作Excel\\\\Ch01_使用Python讀寫Excel文件\\newout1_5.xlsx\n",
      "C:\\\\Users\\\\YihJieLin\\\\Study\\\\Python_Calculus\\\\Python_ML\\\\Python操作Excel\\\\Ch01_使用Python讀寫Excel文件\\newout1_5_1.xlsx\n",
      "C:\\\\Users\\\\YihJieLin\\\\Study\\\\Python_Calculus\\\\Python_ML\\\\Python操作Excel\\\\Ch01_使用Python讀寫Excel文件\\newout1_6.xlsx\n",
      "C:\\\\Users\\\\YihJieLin\\\\Study\\\\Python_Calculus\\\\Python_ML\\\\Python操作Excel\\\\Ch01_使用Python讀寫Excel文件\\newout1_6_1.xlsx\n"
     ]
    }
   ],
   "source": [
    "import glob\n",
    "\n",
    "mydir = input('請輸入指定資料夾 : ')\n",
    "key = input('請輸入關鍵字 : ')\n",
    "keyword = mydir + '*' + key + '*.xlsx'\n",
    "\n",
    "files = glob.glob(keyword)\n",
    "for fn in files:\n",
    "    print(fn)"
   ]
  },
  {
   "cell_type": "code",
   "execution_count": 7,
   "id": "a9c74694-ac6e-4945-82c4-4ca6c052d370",
   "metadata": {},
   "outputs": [
    {
     "name": "stdin",
     "output_type": "stream",
     "text": [
      "請輸入指定資料夾 :  C:\\\\Users\\\\YihJieLin\\\\Study\\\\Python_Calculus\\\\Python_ML\\\\Python操作Excel\\\\Ch01_使用Python讀寫Excel文件\\\\\n",
      "請輸入關鍵字 :  new1\n"
     ]
    },
    {
     "name": "stdout",
     "output_type": "stream",
     "text": [
      "目前資料夾名稱 : C:\\\\Users\\\\YihJieLin\\\\Study\\\\Python_Calculus\\\\Python_ML\\\\Python操作Excel\\\\Ch01_使用Python讀寫Excel文件\\\\\n",
      "C:\\\\Users\\\\YihJieLin\\\\Study\\\\Python_Calculus\\\\Python_ML\\\\Python操作Excel\\\\Ch01_使用Python讀寫Excel文件\\new1_5.xlsx\n",
      "C:\\\\Users\\\\YihJieLin\\\\Study\\\\Python_Calculus\\\\Python_ML\\\\Python操作Excel\\\\Ch01_使用Python讀寫Excel文件\\new1_5_1.xlsx\n",
      "C:\\\\Users\\\\YihJieLin\\\\Study\\\\Python_Calculus\\\\Python_ML\\\\Python操作Excel\\\\Ch01_使用Python讀寫Excel文件\\new1_6.xlsx\n",
      "C:\\\\Users\\\\YihJieLin\\\\Study\\\\Python_Calculus\\\\Python_ML\\\\Python操作Excel\\\\Ch01_使用Python讀寫Excel文件\\new1_6_1.xlsx\n",
      "目前資料夾名稱 : C:\\\\Users\\\\YihJieLin\\\\Study\\\\Python_Calculus\\\\Python_ML\\\\Python操作Excel\\\\Ch01_使用Python讀寫Excel文件\\\\.ipynb_checkpoints\n"
     ]
    }
   ],
   "source": [
    "import glob\n",
    "import os\n",
    "\n",
    "mydir = input('請輸入指定資料夾 : ')\n",
    "key = input('請輸入關鍵字 : ')\n",
    "for dirName, sub_dirNames, fileNames in os.walk(mydir):\n",
    "    print(f\"目前資料夾名稱 : {dirName}\")\n",
    "    keyword = dirName + '\\*' + key + '*.xlsx'\n",
    "    files = glob.glob(keyword)\n",
    "    for fn in files:\n",
    "        print(fn)"
   ]
  },
  {
   "cell_type": "code",
   "execution_count": null,
   "id": "ee2a9fd5-1c5a-4d97-aefa-6b10cae950f4",
   "metadata": {},
   "outputs": [],
   "source": []
  }
 ],
 "metadata": {
  "kernelspec": {
   "display_name": "Python 3 (ipykernel)",
   "language": "python",
   "name": "python3"
  },
  "language_info": {
   "codemirror_mode": {
    "name": "ipython",
    "version": 3
   },
   "file_extension": ".py",
   "mimetype": "text/x-python",
   "name": "python",
   "nbconvert_exporter": "python",
   "pygments_lexer": "ipython3",
   "version": "3.11.0"
  },
  "widgets": {
   "application/vnd.jupyter.widget-state+json": {
    "state": {},
    "version_major": 2,
    "version_minor": 0
   }
  }
 },
 "nbformat": 4,
 "nbformat_minor": 5
}
