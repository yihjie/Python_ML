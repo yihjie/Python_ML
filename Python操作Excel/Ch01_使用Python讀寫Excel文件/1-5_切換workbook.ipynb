{
 "cells": [
  {
   "cell_type": "code",
   "execution_count": 1,
   "id": "183e782b-895e-4d9a-862c-cc061e9c3056",
   "metadata": {},
   "outputs": [
    {
     "name": "stdout",
     "output_type": "stream",
     "text": [
      "預設的工作表名稱  =  2025Q1\n",
      "特定的工作表名稱  =  2025Q3\n"
     ]
    }
   ],
   "source": [
    "# 直接切換 workbook\n",
    "\n",
    "import openpyxl\n",
    "\n",
    "fn = 'sales.xlsx'\n",
    "wb = openpyxl.load_workbook(fn)\n",
    "\n",
    "print(\"預設的工作表名稱  = \", wb.active.title)\n",
    "ws = wb['2025Q3']                              # 設定特定 workbook 名稱\n",
    "print(\"特定的工作表名稱  = \", ws.title)"
   ]
  },
  {
   "cell_type": "code",
   "execution_count": 2,
   "id": "a5944df1-4e14-4b6f-9a35-ee6dd85d5151",
   "metadata": {},
   "outputs": [
    {
     "name": "stdout",
     "output_type": "stream",
     "text": [
      "預設的工作表名稱  =  2025Q1\n",
      "特定的工作表名稱  =  2025Q1\n",
      "特定的工作表名稱  =  2025Q2\n",
      "特定的工作表名稱  =  2025Q3\n"
     ]
    }
   ],
   "source": [
    "# 使用 worksheets[n] 切換 workbook\n",
    "\n",
    "import openpyxl\n",
    "\n",
    "fn = 'sales.xlsx'\n",
    "wb = openpyxl.load_workbook(fn)\n",
    "\n",
    "print(\"預設的工作表名稱  = \", wb.active.title)\n",
    "ws0 = wb.worksheets[0]\n",
    "ws1 = wb.worksheets[1]\n",
    "ws2 = wb.worksheets[2]\n",
    "print(\"特定的工作表名稱  = \", ws0.title)\n",
    "print(\"特定的工作表名稱  = \", ws1.title)\n",
    "print(\"特定的工作表名稱  = \", ws2.title)\n"
   ]
  },
  {
   "cell_type": "code",
   "execution_count": null,
   "id": "384eb45c-2730-4382-9fb2-45ee0b914a18",
   "metadata": {},
   "outputs": [],
   "source": []
  }
 ],
 "metadata": {
  "kernelspec": {
   "display_name": "Python 3 (ipykernel)",
   "language": "python",
   "name": "python3"
  },
  "language_info": {
   "codemirror_mode": {
    "name": "ipython",
    "version": 3
   },
   "file_extension": ".py",
   "mimetype": "text/x-python",
   "name": "python",
   "nbconvert_exporter": "python",
   "pygments_lexer": "ipython3",
   "version": "3.11.0"
  },
  "widgets": {
   "application/vnd.jupyter.widget-state+json": {
    "state": {},
    "version_major": 2,
    "version_minor": 0
   }
  }
 },
 "nbformat": 4,
 "nbformat_minor": 5
}
