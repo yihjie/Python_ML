{
 "cells": [
  {
   "cell_type": "markdown",
   "id": "9b2ba711-10ae-403a-8b6c-90e6cebfcdbb",
   "metadata": {},
   "source": [
    "# 建立空白 workbook\n",
    "```\n",
    "import openpyxl\n",
    "\n",
    "wb = openpyxl.Workbook(write_only=False)    # 預設 : 可讀寫\n",
    "wb = openpyxl.Workbook(write_only=True)     # 只寫\n",
    "```"
   ]
  },
  {
   "cell_type": "code",
   "execution_count": 1,
   "id": "c6587a16-bdce-4a50-bd2d-ba6b6185b431",
   "metadata": {},
   "outputs": [
    {
     "name": "stdout",
     "output_type": "stream",
     "text": [
      "目前工作表名稱    =  Sheet\n",
      "新的工作表名稱    =  My sheet\n"
     ]
    }
   ],
   "source": [
    "import openpyxl\n",
    "\n",
    "wb = openpyxl.Workbook()\n",
    "ws = wb.active\n",
    "\n",
    "print(\"目前工作表名稱    = \", ws.title)\n",
    "ws.title = 'My sheet'\n",
    "print(\"新的工作表名稱    = \", ws.title)\n",
    "wb.save('out1_5.xlsx')"
   ]
  },
  {
   "cell_type": "code",
   "execution_count": 2,
   "id": "3ec4616f-2058-4ef2-b441-9b1d8d665eae",
   "metadata": {},
   "outputs": [
    {
     "name": "stdout",
     "output_type": "stream",
     "text": [
      "目前工作表名稱    =  Sheet\n",
      "新的工作表名稱    =  My sheet\n"
     ]
    }
   ],
   "source": [
    "import openpyxl\n",
    "\n",
    "wb = openpyxl.Workbook()\n",
    "ws = wb.active\n",
    "\n",
    "print(\"目前工作表名稱    = \", ws.title)\n",
    "ws.title = 'My sheet'\n",
    "print(\"新的工作表名稱    = \", ws.title)\n",
    "fn = 'out1_5_1.xlsx'\n",
    "wb.save(fn)"
   ]
  },
  {
   "cell_type": "code",
   "execution_count": 4,
   "id": "882e88da-622d-48df-84b7-53b9315c8ac8",
   "metadata": {},
   "outputs": [
    {
     "name": "stdout",
     "output_type": "stream",
     "text": [
      "複製完成\n"
     ]
    }
   ],
   "source": [
    "import openpyxl\n",
    "\n",
    "fn = 'sales.xlsx'\n",
    "wb = openpyxl.load_workbook(fn)\n",
    "wb.save('out1_6.xlsx')\n",
    "print(\"複製完成\")"
   ]
  },
  {
   "cell_type": "code",
   "execution_count": 5,
   "id": "152473ce-6e72-44af-a49b-ac51b92595a0",
   "metadata": {},
   "outputs": [
    {
     "name": "stdout",
     "output_type": "stream",
     "text": [
      "複製完成\n"
     ]
    }
   ],
   "source": [
    "import openpyxl\n",
    "\n",
    "fn = 'sales.xlsx'\n",
    "wb = openpyxl.load_workbook(fn)\n",
    "wb.save('out1_6_1.xlsx')\n",
    "print(\"複製完成\")\n",
    "wb.close()"
   ]
  }
 ],
 "metadata": {
  "kernelspec": {
   "display_name": "Python 3 (ipykernel)",
   "language": "python",
   "name": "python3"
  },
  "language_info": {
   "codemirror_mode": {
    "name": "ipython",
    "version": 3
   },
   "file_extension": ".py",
   "mimetype": "text/x-python",
   "name": "python",
   "nbconvert_exporter": "python",
   "pygments_lexer": "ipython3",
   "version": "3.11.0"
  },
  "widgets": {
   "application/vnd.jupyter.widget-state+json": {
    "state": {},
    "version_major": 2,
    "version_minor": 0
   }
  }
 },
 "nbformat": 4,
 "nbformat_minor": 5
}
