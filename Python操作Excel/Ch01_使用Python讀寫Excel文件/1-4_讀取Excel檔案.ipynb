{
 "cells": [
  {
   "cell_type": "code",
   "execution_count": 1,
   "id": "74002a53-adce-4b33-b09f-5457c860ef4d",
   "metadata": {},
   "outputs": [
    {
     "name": "stdout",
     "output_type": "stream",
     "text": [
      "<class 'openpyxl.workbook.workbook.Workbook'>\n"
     ]
    }
   ],
   "source": [
    "# 開啟 sales.xlsx 檔案\n",
    "# 回傳檔案類型\n",
    "\n",
    "import openpyxl\n",
    "\n",
    "fn = 'sales.xlsx'\n",
    "wb = openpyxl.load_workbook(fn)\n",
    "print(type(wb))"
   ]
  },
  {
   "cell_type": "code",
   "execution_count": 2,
   "id": "4b39923b-c97b-4540-af87-0a4dcfa88727",
   "metadata": {},
   "outputs": [
    {
     "name": "stdout",
     "output_type": "stream",
     "text": [
      "所有工作表     =  ['2025Q1', '2025Q2', '2025Q3']\n",
      "目前工作表     =  <Worksheet \"2025Q1\">\n",
      "目前工作表名稱 =  2025Q1\n"
     ]
    }
   ],
   "source": [
    "# 開啟 sales.xlsx 檔案\n",
    "# 列出所有工作表\n",
    "# 列出目前工作表\n",
    "\n",
    "import openpyxl\n",
    "\n",
    "fn = 'sales.xlsx'\n",
    "wb = openpyxl.load_workbook(fn)\n",
    "\n",
    "print(\"所有工作表     = \", wb.sheetnames)\n",
    "print(\"目前工作表     = \", wb.active)\n",
    "print(\"目前工作表名稱 = \", wb.active.title)"
   ]
  },
  {
   "cell_type": "code",
   "execution_count": 4,
   "id": "f2496c81-553c-4597-977c-69ad3afdabb3",
   "metadata": {},
   "outputs": [
    {
     "name": "stdout",
     "output_type": "stream",
     "text": [
      "所有工作表     =  ['2025Q1', '2025Q2', '2025Q3']\n",
      "工作表名稱     =  2025Q1\n",
      "工作表名稱     =  2025Q2\n",
      "工作表名稱     =  2025Q3\n"
     ]
    }
   ],
   "source": [
    "# 開啟 sales.xlsx 檔案\n",
    "# 列出所有工作表\n",
    "# 列出所有工作表名稱\n",
    "\n",
    "import openpyxl\n",
    "\n",
    "fn = 'sales.xlsx'\n",
    "wb = openpyxl.load_workbook(fn)\n",
    "\n",
    "print(\"所有工作表     = \", wb.sheetnames)\n",
    "\n",
    "for sheet in wb.sheetnames:\n",
    "    print(\"工作表名稱     = \", sheet)"
   ]
  },
  {
   "cell_type": "code",
   "execution_count": null,
   "id": "2156d130-9052-4461-8b17-d7ee69fda4f7",
   "metadata": {},
   "outputs": [],
   "source": []
  }
 ],
 "metadata": {
  "kernelspec": {
   "display_name": "Python 3 (ipykernel)",
   "language": "python",
   "name": "python3"
  },
  "language_info": {
   "codemirror_mode": {
    "name": "ipython",
    "version": 3
   },
   "file_extension": ".py",
   "mimetype": "text/x-python",
   "name": "python",
   "nbconvert_exporter": "python",
   "pygments_lexer": "ipython3",
   "version": "3.11.0"
  },
  "widgets": {
   "application/vnd.jupyter.widget-state+json": {
    "state": {},
    "version_major": 2,
    "version_minor": 0
   }
  }
 },
 "nbformat": 4,
 "nbformat_minor": 5
}
