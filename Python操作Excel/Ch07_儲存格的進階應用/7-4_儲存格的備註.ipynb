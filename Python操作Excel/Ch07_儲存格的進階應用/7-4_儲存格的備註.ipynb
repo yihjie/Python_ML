{
 "cells": [
  {
   "cell_type": "markdown",
   "id": "aaf511f4-1c49-4188-8d6d-e62b0b8a125e",
   "metadata": {},
   "source": [
    "```\n",
    "from openpyxl.comments import Comment\n",
    "\n",
    "comment = Comment('附註文字', '作者')\n",
    "```"
   ]
  },
  {
   "cell_type": "code",
   "execution_count": 2,
   "id": "5dfb001f-34ce-475b-ad6c-f4447d41e37a",
   "metadata": {},
   "outputs": [
    {
     "name": "stdout",
     "output_type": "stream",
     "text": [
      "附註文字 : 唐朝美女\n",
      "作　　者 : YihJie\n"
     ]
    }
   ],
   "source": [
    "import openpyxl\n",
    "from openpyxl.comments import Comment\n",
    "\n",
    "wb = openpyxl.Workbook()\n",
    "ws = wb.active\n",
    "\n",
    "ws['B2'] = '楊貴妃'\n",
    "comment = Comment('唐朝美女', 'YihJie')\n",
    "ws['B2'].comment = comment\n",
    "\n",
    "print(f'附註文字 : {comment.text}')\n",
    "print(f'作　　者 : {comment.author}')\n",
    "\n",
    "\n",
    "wb.save('out7_8.xlsx')\n",
    "wb.close()"
   ]
  },
  {
   "cell_type": "code",
   "execution_count": 3,
   "id": "b7e517ea-c035-489e-a808-4d105a33ff97",
   "metadata": {},
   "outputs": [
    {
     "name": "stdout",
     "output_type": "stream",
     "text": [
      "附註文字 : Yihjie:\n",
      "唐朝美女\n",
      "作　　者 : YihJie\n"
     ]
    }
   ],
   "source": [
    "import openpyxl\n",
    "from openpyxl.comments import Comment\n",
    "\n",
    "wb = openpyxl.Workbook()\n",
    "ws = wb.active\n",
    "\n",
    "ws['B2'] = '楊貴妃'\n",
    "comment = Comment(\"Yihjie:\\n唐朝美女\", 'YihJie')\n",
    "ws['B2'].comment = comment\n",
    "\n",
    "print(f'附註文字 : {comment.text}')\n",
    "print(f'作　　者 : {comment.author}')\n",
    "\n",
    "\n",
    "wb.save('out7_9.xlsx')\n",
    "wb.close()"
   ]
  },
  {
   "cell_type": "code",
   "execution_count": 4,
   "id": "627954ec-8cc7-4a9d-ab36-37965cf3096d",
   "metadata": {},
   "outputs": [
    {
     "name": "stdout",
     "output_type": "stream",
     "text": [
      "附註文字 : 唐朝美女\n",
      "作　　者 : YihJie\n"
     ]
    }
   ],
   "source": [
    "# 更改註解框的大小\n",
    "import openpyxl\n",
    "from openpyxl.comments import Comment\n",
    "\n",
    "wb = openpyxl.Workbook()\n",
    "ws = wb.active\n",
    "\n",
    "ws['B2'] = '楊貴妃'\n",
    "comment = Comment('唐朝美女', 'YihJie')\n",
    "comment.width = 250\n",
    "comment.height = 50\n",
    "ws['B2'].comment = comment\n",
    "\n",
    "print(f'附註文字 : {comment.text}')\n",
    "print(f'作　　者 : {comment.author}')\n",
    "\n",
    "\n",
    "wb.save('out7_10.xlsx')\n",
    "wb.close()"
   ]
  },
  {
   "cell_type": "code",
   "execution_count": null,
   "id": "36f5c20a-d3c0-44ac-89da-61d9858013ce",
   "metadata": {},
   "outputs": [],
   "source": []
  }
 ],
 "metadata": {
  "kernelspec": {
   "display_name": "Python 3 (ipykernel)",
   "language": "python",
   "name": "python3"
  },
  "language_info": {
   "codemirror_mode": {
    "name": "ipython",
    "version": 3
   },
   "file_extension": ".py",
   "mimetype": "text/x-python",
   "name": "python",
   "nbconvert_exporter": "python",
   "pygments_lexer": "ipython3",
   "version": "3.11.0"
  },
  "widgets": {
   "application/vnd.jupyter.widget-state+json": {
    "state": {},
    "version_major": 2,
    "version_minor": 0
   }
  }
 },
 "nbformat": 4,
 "nbformat_minor": 5
}
