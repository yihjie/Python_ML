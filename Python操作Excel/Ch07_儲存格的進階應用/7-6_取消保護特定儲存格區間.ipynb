{
 "cells": [
  {
   "cell_type": "markdown",
   "id": "94a19a20-8f52-4bc0-8c97-32206322043c",
   "metadata": {},
   "source": [
    "# 保護工作表\n",
    "```\n",
    "ws = wb.active\n",
    "ws.protection.enable()\n",
    "```\n",
    "\n",
    "# 讓部分工作表可以編輯\n",
    "```\n",
    "import openpyxl\n",
    "from openpyxl.styles import Protection\n",
    "\n",
    "Protection(locked=True, hidden=False)\n",
    "# locked = True (default)| False ( 保護狀態 )\n",
    "# hidden = False (default) | True ( 隱藏狀態 )\n",
    "```"
   ]
  },
  {
   "cell_type": "code",
   "execution_count": 1,
   "id": "340e1f00-c0a4-4447-a1b1-059f7f699e08",
   "metadata": {},
   "outputs": [],
   "source": [
    "import openpyxl\n",
    "from openpyxl.styles import Protection\n",
    "\n",
    "wb = openpyxl.Workbook()\n",
    "ws = wb.active\n",
    "\n",
    "# 保護工作表\n",
    "ws.protection.enable()\n",
    "\n",
    "# 部分工作表可以編輯 A1:B2\n",
    "for rows in ws['A1:B2']:\n",
    "    for cell in rows:\n",
    "        cell.protection = Protection(locked=False, hidden=False)\n",
    "\n",
    "# 合併儲存格，並可編輯 C1:E2\n",
    "ws.merge_cells('C1:E2')\n",
    "ws['C1'].protection = Protection(locked=False, hidden=False)\n",
    "\n",
    "wb.save('out7_13.xlsx')\n",
    "wb.close()"
   ]
  },
  {
   "cell_type": "code",
   "execution_count": 7,
   "id": "4b5b4b89-42a6-43d8-95d4-7b152dd2c5dd",
   "metadata": {},
   "outputs": [],
   "source": [
    "import openpyxl\n",
    "from openpyxl.styles import Protection\n",
    "\n",
    "fn = 'data7_14.xlsx'\n",
    "wb = openpyxl.load_workbook(fn)\n",
    "ws = wb.active\n",
    "\n",
    "ws.protection.enable()\n",
    "ws.merge_cells('B4:C8')\n",
    "ws['B4'].protection = Protection(locked=False, hidden=False)\n",
    "for i in range(4,9):\n",
    "    index = 'E' + str(i) + ':' + 'G' + str(i)\n",
    "    ws.merge_cells(index)\n",
    "    index = 'E' + str(i)\n",
    "    ws[index].protection = Protection(locked=False, hidden=False)\n",
    "ws.merge_cells('D9:G9')\n",
    "ws['D9'].protection = Protection(locked=False, hidden=False)\n",
    "\n",
    "wb.save('out7_14.xlsx')\n",
    "wb.close()"
   ]
  },
  {
   "cell_type": "code",
   "execution_count": 8,
   "id": "89d00bef-6607-41dc-a28e-e6a722e9e8ce",
   "metadata": {},
   "outputs": [],
   "source": [
    "# 漸層色彩\n",
    "from openpyxl import Workbook\n",
    "from openpyxl.styles import GradientFill\n",
    "\n",
    "wb = Workbook()\n",
    "ws = wb.active\n",
    "\n",
    "# top = 0.0\n",
    "ws.merge_cells('B2:C5')\n",
    "ws['B2'].fill = GradientFill(type='path', top='0.0', stop=('00FF00', 'FFFF00'))\n",
    "\n",
    "# top = 0.2\n",
    "ws.merge_cells('E2:F5')\n",
    "ws['E2'].fill = GradientFill(type='path', top='0.2', stop=('00FF00', 'FFFF00'))\n",
    "\n",
    "# top = 0.5\n",
    "ws.merge_cells('H2:I5')\n",
    "ws['H2'].fill = GradientFill(type='path', top='0.5', stop=('00FF00', 'FFFF00'))\n",
    "\n",
    "# top = 0.8\n",
    "ws.merge_cells('B7:C10')\n",
    "ws['B7'].fill = GradientFill(type='path', top='0.8', stop=('00FF00', 'FFFF00'))\n",
    "\n",
    "# top = 1.0\n",
    "ws.merge_cells('E7:F10')\n",
    "ws['E7'].fill = GradientFill(type='path', top='1.0', stop=('00FF00', 'FFFF00'))\n",
    "\n",
    "wb.save('out7_16.xlsx')\n",
    "wb.close()"
   ]
  },
  {
   "cell_type": "code",
   "execution_count": 10,
   "id": "f4a01478-b525-419f-8612-d5808d8d182e",
   "metadata": {},
   "outputs": [],
   "source": [
    "from openpyxl import Workbook\n",
    "from openpyxl.styles import GradientFill\n",
    "\n",
    "wb = Workbook()\n",
    "ws = wb.active\n",
    "\n",
    "# top = 0.5, left = 0.5\n",
    "ws.merge_cells('B2:C5')\n",
    "ws['B2'].fill = GradientFill(type='path', top='0.5', left='0.5', stop=('0000FF', 'FFFFFF'))\n",
    "\n",
    "# top = 0.5, left = 0.5\n",
    "ws.merge_cells('E2:F5')\n",
    "ws['E2'].fill = GradientFill(type='path', top='0.5', left='0.5', stop=('FFFFFF', '0000FF'))\n",
    "\n",
    "wb.save('out7_17.xlsx')\n",
    "wb.close()"
   ]
  }
 ],
 "metadata": {
  "kernelspec": {
   "display_name": "Python 3 (ipykernel)",
   "language": "python",
   "name": "python3"
  },
  "language_info": {
   "codemirror_mode": {
    "name": "ipython",
    "version": 3
   },
   "file_extension": ".py",
   "mimetype": "text/x-python",
   "name": "python",
   "nbconvert_exporter": "python",
   "pygments_lexer": "ipython3",
   "version": "3.11.0"
  },
  "widgets": {
   "application/vnd.jupyter.widget-state+json": {
    "state": {},
    "version_major": 2,
    "version_minor": 0
   }
  }
 },
 "nbformat": 4,
 "nbformat_minor": 5
}
