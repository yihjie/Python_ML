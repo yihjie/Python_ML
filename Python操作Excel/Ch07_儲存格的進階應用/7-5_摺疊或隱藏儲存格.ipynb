{
 "cells": [
  {
   "cell_type": "markdown",
   "id": "979ff7ae-e28f-4e68-976b-425185082560",
   "metadata": {},
   "source": [
    "```\n",
    "column_dimensions.group(start_column, end_column, hidden=True)\n",
    "row_dimensions.group(start_row, end_row, hidden=True)\n",
    "```"
   ]
  },
  {
   "cell_type": "code",
   "execution_count": 1,
   "id": "ee46f369-3c10-482b-956c-a649549d4908",
   "metadata": {},
   "outputs": [],
   "source": [
    "import openpyxl\n",
    "\n",
    "wb = openpyxl.Workbook()\n",
    "ws = wb.active\n",
    "\n",
    "ws.column_dimensions.group('D', 'F', hidden=True)\n",
    "\n",
    "wb.save('out7_11.xlsx')\n",
    "wb.close()"
   ]
  },
  {
   "cell_type": "code",
   "execution_count": 2,
   "id": "fcec9142-7cd8-4756-b227-b363e7af658a",
   "metadata": {},
   "outputs": [],
   "source": [
    "import openpyxl\n",
    "\n",
    "wb = openpyxl.Workbook()\n",
    "ws = wb.active\n",
    "\n",
    "ws.column_dimensions.group('D', 'F', hidden=True)\n",
    "ws.row_dimensions.group(5, 10, hidden=True)\n",
    "\n",
    "wb.save('out7_12.xlsx')\n",
    "wb.close()"
   ]
  },
  {
   "cell_type": "code",
   "execution_count": null,
   "id": "4d4ee538-4c61-4576-9ae2-6cb065a18e06",
   "metadata": {},
   "outputs": [],
   "source": []
  }
 ],
 "metadata": {
  "kernelspec": {
   "display_name": "Python 3 (ipykernel)",
   "language": "python",
   "name": "python3"
  },
  "language_info": {
   "codemirror_mode": {
    "name": "ipython",
    "version": 3
   },
   "file_extension": ".py",
   "mimetype": "text/x-python",
   "name": "python",
   "nbconvert_exporter": "python",
   "pygments_lexer": "ipython3",
   "version": "3.11.0"
  },
  "widgets": {
   "application/vnd.jupyter.widget-state+json": {
    "state": {},
    "version_major": 2,
    "version_minor": 0
   }
  }
 },
 "nbformat": 4,
 "nbformat_minor": 5
}
