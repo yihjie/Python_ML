{
 "cells": [
  {
   "cell_type": "code",
   "execution_count": 1,
   "id": "78f812c0-7b1f-41bd-a3e3-2ca7c19d98bf",
   "metadata": {},
   "outputs": [],
   "source": [
    "# freeze_panes\n",
    "\n",
    "import openpyxl\n",
    "\n",
    "fn = 'data7_5.xlsx'\n",
    "wb = openpyxl.load_workbook(fn)\n",
    "ws = wb.active\n",
    "\n",
    "ws.freeze_panes = 'A3'    # 凍結前兩列 \n",
    "\n",
    "wb.save('out7_5.xlsx')\n",
    "wb.close()"
   ]
  },
  {
   "cell_type": "code",
   "execution_count": 2,
   "id": "cad08078-dd76-4072-98bd-182c74b1e3a9",
   "metadata": {},
   "outputs": [],
   "source": [
    "# freeze_panes\n",
    "\n",
    "import openpyxl\n",
    "\n",
    "fn = 'data7_5.xlsx'\n",
    "wb = openpyxl.load_workbook(fn)\n",
    "ws = wb.active\n",
    "\n",
    "ws.freeze_panes = 'B1'    # 凍結 A 欄 \n",
    "\n",
    "wb.save('out7_6.xlsx')\n",
    "wb.close()"
   ]
  },
  {
   "cell_type": "code",
   "execution_count": 3,
   "id": "2f018c08-3172-4fa7-97a5-b2d71ab92ef4",
   "metadata": {},
   "outputs": [],
   "source": [
    "# freeze_panes\n",
    "\n",
    "import openpyxl\n",
    "\n",
    "fn = 'data7_5.xlsx'\n",
    "wb = openpyxl.load_workbook(fn)\n",
    "ws = wb.active\n",
    "\n",
    "ws.freeze_panes = 'B3'    # 凍結 A 欄及前兩列\n",
    "\n",
    "wb.save('out7_7.xlsx')\n",
    "wb.close()"
   ]
  },
  {
   "cell_type": "code",
   "execution_count": null,
   "id": "d9de9f91-7c71-4112-a4a1-d22e34a25b66",
   "metadata": {},
   "outputs": [],
   "source": []
  }
 ],
 "metadata": {
  "kernelspec": {
   "display_name": "Python 3 (ipykernel)",
   "language": "python",
   "name": "python3"
  },
  "language_info": {
   "codemirror_mode": {
    "name": "ipython",
    "version": 3
   },
   "file_extension": ".py",
   "mimetype": "text/x-python",
   "name": "python",
   "nbconvert_exporter": "python",
   "pygments_lexer": "ipython3",
   "version": "3.11.0"
  },
  "widgets": {
   "application/vnd.jupyter.widget-state+json": {
    "state": {},
    "version_major": 2,
    "version_minor": 0
   }
  }
 },
 "nbformat": 4,
 "nbformat_minor": 5
}
