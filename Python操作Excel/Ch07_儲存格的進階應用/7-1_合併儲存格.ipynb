{
 "cells": [
  {
   "cell_type": "markdown",
   "id": "ac136324-8253-4a9a-8aeb-2edd9187f125",
   "metadata": {},
   "source": [
    "# 合併儲存格\n",
    "```\n",
    "ws.merge_cells(儲存格區間)\n",
    "\n",
    "ws.merge_cells(start_row=r,\n",
    "               end_row=rr,\n",
    "               start_column=c,\n",
    "               end_column=cc)\n",
    "```"
   ]
  },
  {
   "cell_type": "code",
   "execution_count": 1,
   "id": "4898b5a2-39e3-40b5-94ce-9521d4bce209",
   "metadata": {},
   "outputs": [],
   "source": [
    "import openpyxl\n",
    "from openpyxl.styles import Font, Alignment\n",
    "\n",
    "wb = openpyxl.Workbook()\n",
    "ws = wb.active\n",
    "\n",
    "ws.merge_cells('A1:B2')\n",
    "ws['A1'].font = Font(name='Old English Text MT',\n",
    "                     color='0000FF',\n",
    "                     size=20)\n",
    "ws['A1'].alignment = Alignment(horizontal='center',\n",
    "                               vertical='center')\n",
    "ws['A1'] = 'DeepMind'\n",
    "\n",
    "wb.save('out7_1.xlsx')\n",
    "wb.close()"
   ]
  },
  {
   "cell_type": "code",
   "execution_count": 4,
   "id": "bdf0bf42-ea56-4854-95e6-91a2a9e9b15a",
   "metadata": {
    "tags": []
   },
   "outputs": [],
   "source": [
    "import openpyxl\n",
    "from openpyxl.styles import Font, Alignment\n",
    "\n",
    "wb = openpyxl.Workbook()\n",
    "ws = wb.active\n",
    "\n",
    "ws.merge_cells(start_row=1, end_row=2, start_column=1, end_column=2)\n",
    "ws['A1'].font = Font(name='Old English Text MT',\n",
    "                     color='FF0000',\n",
    "                     size=20)\n",
    "ws['A1'].alignment = Alignment(horizontal='center',\n",
    "                               vertical='center')\n",
    "ws['A1'] = 'DeepMind'\n",
    "\n",
    "wb.save('out7_2.xlsx')\n",
    "wb.close()"
   ]
  },
  {
   "cell_type": "code",
   "execution_count": 5,
   "id": "ca191553-609c-48b1-91ac-0f902c25b25f",
   "metadata": {},
   "outputs": [],
   "source": [
    "# A1 - E1 : 合併儲存格, 藍色字體\n",
    "# A1 - E9 : 字體置中, 加框\n",
    "import openpyxl\n",
    "from openpyxl.styles import Font, Border, Side, Alignment\n",
    "\n",
    "fn = 'data7_3.xlsx'\n",
    "wb = openpyxl.load_workbook(fn)\n",
    "ws = wb.active\n",
    "\n",
    "ws.merge_cells('A1:E1')\n",
    "\n",
    "ws['A1'].font = Font(color='0000FF')\n",
    "\n",
    "side = Side(border_style='thin')\n",
    "borders = Border(left=side, right=side, top=side, bottom=side)\n",
    "\n",
    "for rows in ws['A1':'E9']:\n",
    "    for cell in rows:\n",
    "        cell.alignment = Alignment(horizontal='center', vertical='center')\n",
    "        cell.border = borders\n",
    "\n",
    "wb.save('out7_3.xlsx')\n",
    "wb.close()"
   ]
  },
  {
   "cell_type": "code",
   "execution_count": null,
   "id": "b0a7c344-1f26-49ac-ba3f-c21ffc7edc59",
   "metadata": {},
   "outputs": [],
   "source": []
  }
 ],
 "metadata": {
  "kernelspec": {
   "display_name": "Python 3 (ipykernel)",
   "language": "python",
   "name": "python3"
  },
  "language_info": {
   "codemirror_mode": {
    "name": "ipython",
    "version": 3
   },
   "file_extension": ".py",
   "mimetype": "text/x-python",
   "name": "python",
   "nbconvert_exporter": "python",
   "pygments_lexer": "ipython3",
   "version": "3.11.0"
  },
  "widgets": {
   "application/vnd.jupyter.widget-state+json": {
    "state": {},
    "version_major": 2,
    "version_minor": 0
   }
  }
 },
 "nbformat": 4,
 "nbformat_minor": 5
}
