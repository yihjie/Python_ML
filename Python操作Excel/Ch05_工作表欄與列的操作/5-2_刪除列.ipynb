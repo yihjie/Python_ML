{
 "cells": [
  {
   "cell_type": "markdown",
   "id": "ff096766-b419-44ef-aea6-e09ea4c9f14b",
   "metadata": {},
   "source": [
    "# delete row\n",
    "\n",
    "ws.delete_rows(index, [amount])\n",
    "\n",
    "    index   --> start\n",
    "    amount  --> total_deleted_rows\n"
   ]
  },
  {
   "cell_type": "code",
   "execution_count": 1,
   "id": "8b707414-f481-4468-befb-616108acd96b",
   "metadata": {},
   "outputs": [],
   "source": [
    "# 刪除 周家湯\n",
    "import openpyxl\n",
    "\n",
    "fn = 'data5_1.xlsx'\n",
    "wb = openpyxl.load_workbook(fn)\n",
    "ws = wb.active\n",
    "\n",
    "ws.delete_rows(4)\n",
    "wb.save('out5_5.xlsx')\n",
    "\n",
    "wb.close()"
   ]
  },
  {
   "cell_type": "code",
   "execution_count": 4,
   "id": "7deca47b-3a62-4bfd-a37b-4c2c49fe8187",
   "metadata": {},
   "outputs": [],
   "source": [
    "# 刪除員工薪資資料\n",
    "import openpyxl\n",
    "\n",
    "fn = 'data5_1.xlsx'\n",
    "wb = openpyxl.load_workbook(fn, data_only=True)\n",
    "ws = wb.active\n",
    "\n",
    "length = ws.max_row + 1\n",
    "ws.delete_rows(3, ws.max_row)\n",
    "\n",
    "wb.save('out5_6.xlsx')\n",
    "\n",
    "wb.close()"
   ]
  },
  {
   "cell_type": "code",
   "execution_count": null,
   "id": "2ea5abc0-28b9-4a09-8907-a9bead42dddc",
   "metadata": {},
   "outputs": [],
   "source": []
  }
 ],
 "metadata": {
  "kernelspec": {
   "display_name": "Python 3 (ipykernel)",
   "language": "python",
   "name": "python3"
  },
  "language_info": {
   "codemirror_mode": {
    "name": "ipython",
    "version": 3
   },
   "file_extension": ".py",
   "mimetype": "text/x-python",
   "name": "python",
   "nbconvert_exporter": "python",
   "pygments_lexer": "ipython3",
   "version": "3.11.0"
  },
  "widgets": {
   "application/vnd.jupyter.widget-state+json": {
    "state": {},
    "version_major": 2,
    "version_minor": 0
   }
  }
 },
 "nbformat": 4,
 "nbformat_minor": 5
}
