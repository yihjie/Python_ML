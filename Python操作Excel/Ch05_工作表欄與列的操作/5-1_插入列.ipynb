{
 "cells": [
  {
   "cell_type": "markdown",
   "id": "6c495133-d391-4ecd-ba5f-2ebe79403b98",
   "metadata": {},
   "source": [
    "# insert row\n",
    "\n",
    "ws.insert_rows(index, [amount])\n",
    "\n",
    "    index   --> start\n",
    "    amount  --> total_inserted_rows\n"
   ]
  },
  {
   "cell_type": "code",
   "execution_count": 1,
   "id": "9574715e-a245-475b-ab1f-d86823f61d6a",
   "metadata": {},
   "outputs": [],
   "source": [
    "import openpyxl\n",
    "\n",
    "fn = 'data5_1.xlsx'\n",
    "wb = openpyxl.load_workbook(fn)\n",
    "ws = wb.active\n",
    "\n",
    "ws.insert_rows(4,1)\n",
    "ws.insert_rows(6,1)\n",
    "\n",
    "ws.insert_rows(8)\n",
    "ws.insert_rows(10)\n",
    "\n",
    "wb.save('out5_1.xlsx')\n",
    "wb.close()"
   ]
  },
  {
   "cell_type": "code",
   "execution_count": 2,
   "id": "c4864482-3d47-4130-9dce-a614dafe3ae1",
   "metadata": {},
   "outputs": [],
   "source": [
    "import openpyxl\n",
    "\n",
    "fn = 'data5_1.xlsx'\n",
    "wb = openpyxl.load_workbook(fn, data_only=True)\n",
    "ws = wb.active\n",
    "\n",
    "ws.insert_rows(4,1)\n",
    "ws.insert_rows(6,1)\n",
    "\n",
    "ws.insert_rows(8)\n",
    "ws.insert_rows(10)\n",
    "\n",
    "wb.save('out5_2.xlsx')\n",
    "wb.close()"
   ]
  },
  {
   "cell_type": "code",
   "execution_count": 3,
   "id": "c0e65a02-218c-487f-ad3d-be323eee672b",
   "metadata": {},
   "outputs": [],
   "source": [
    "import openpyxl\n",
    "\n",
    "fn = 'data5_1.xlsx'\n",
    "wb = openpyxl.load_workbook(fn, data_only=True)\n",
    "ws = wb.active\n",
    "\n",
    "row = 0\n",
    "for i in range(4, 8):\n",
    "    ws.insert_rows(i+row, 1)\n",
    "    row = row + 1\n",
    "\n",
    "wb.save('out5_3.xlsx')\n",
    "wb.close()"
   ]
  },
  {
   "cell_type": "code",
   "execution_count": 4,
   "id": "0696f2a6-f5e1-41ae-a091-0231567dfcb0",
   "metadata": {},
   "outputs": [],
   "source": [
    "import openpyxl\n",
    "\n",
    "fn = 'data5_1.xlsx'\n",
    "wb = openpyxl.load_workbook(fn, data_only=True)\n",
    "ws = wb.active\n",
    "\n",
    "row = 0\n",
    "for i in range(4, 8):\n",
    "    ws.insert_rows(i + row, 2)\n",
    "    for cell in list(ws[2]):\n",
    "        ws.cell(row=i + row + 1, column=cell.column).value = cell.value\n",
    "    row = row + 2\n",
    "    \n",
    "wb.save('out5_4.xlsx')\n",
    "wb.close()"
   ]
  },
  {
   "cell_type": "code",
   "execution_count": 12,
   "id": "f78dd067-a319-4a9a-8060-d01ddcbc7d04",
   "metadata": {},
   "outputs": [
    {
     "name": "stdout",
     "output_type": "stream",
     "text": [
      "---- 執行前 ----\n",
      "('深智數位薪資表', None, None, None, None, None, None, None)\n",
      "('員工編號', '姓名', '底薪', '獎金', '加班費', '健保費', '勞保費', '薪資金額')\n",
      "('A001', '陳新華', 56000, 3000, 0, -800, -600, 57600)\n",
      "('A004', '周湯家', 49000, 2000, 0, -600, -500, 49900)\n",
      "('A010', '李家佳', 46000, 2000, 0, -600, -500, 46900)\n",
      "('A012', '陳嘉許', 43000, 0, 0, -600, -500, 41900)\n",
      "('A015', '張進一', 38000, 0, 0, -600, -500, 36900)\n",
      "\n",
      "---- 執行後 ----\n",
      "('深智數位薪資表', None, None, None, None, None, None, None)\n",
      "('員工編號', '姓名', '底薪', '獎金', '加班費', '健保費', '勞保費', '薪資金額')\n",
      "('A001', '陳新華', 56000, 3000, 0, -800, -600, 57600)\n",
      "(None, None, None, None, None, None, None, None)\n",
      "('員工編號', '姓名', '底薪', '獎金', '加班費', '健保費', '勞保費', '薪資金額')\n",
      "('A004', '周湯家', 49000, 2000, 0, -600, -500, 49900)\n",
      "(None, None, None, None, None, None, None, None)\n",
      "('員工編號', '姓名', '底薪', '獎金', '加班費', '健保費', '勞保費', '薪資金額')\n",
      "('A010', '李家佳', 46000, 2000, 0, -600, -500, 46900)\n",
      "(None, None, None, None, None, None, None, None)\n",
      "('員工編號', '姓名', '底薪', '獎金', '加班費', '健保費', '勞保費', '薪資金額')\n",
      "('A012', '陳嘉許', 43000, 0, 0, -600, -500, 41900)\n",
      "(None, None, None, None, None, None, None, None)\n",
      "('員工編號', '姓名', '底薪', '獎金', '加班費', '健保費', '勞保費', '薪資金額')\n",
      "('A015', '張進一', 38000, 0, 0, -600, -500, 36900)\n"
     ]
    }
   ],
   "source": [
    "import openpyxl\n",
    "\n",
    "fn = 'data5_1.xlsx'\n",
    "wb = openpyxl.load_workbook(fn, data_only=True)\n",
    "ws = wb.active\n",
    "\n",
    "print(\"---- 執行前 ----\")\n",
    "for row in ws.iter_rows(values_only=True):\n",
    "    print(row)\n",
    "\n",
    "print()\n",
    "row = 0\n",
    "for i in range(4, 8):\n",
    "    ws.insert_rows(i + row, 2)\n",
    "    for cell in list(ws[2]):\n",
    "        ws.cell(row=i + row + 1, column=cell.column).value = cell.value\n",
    "    row = row + 2\n",
    "\n",
    "print(\"---- 執行後 ----\")\n",
    "for row in ws.iter_rows(values_only=True):\n",
    "    print(row)\n",
    "    \n",
    "wb.save('out5_4_1.xlsx')\n",
    "wb.close()"
   ]
  },
  {
   "cell_type": "code",
   "execution_count": null,
   "id": "209ee838-a1d8-4233-a2df-b867c587fc48",
   "metadata": {},
   "outputs": [],
   "source": []
  }
 ],
 "metadata": {
  "kernelspec": {
   "display_name": "Python 3 (ipykernel)",
   "language": "python",
   "name": "python3"
  },
  "language_info": {
   "codemirror_mode": {
    "name": "ipython",
    "version": 3
   },
   "file_extension": ".py",
   "mimetype": "text/x-python",
   "name": "python",
   "nbconvert_exporter": "python",
   "pygments_lexer": "ipython3",
   "version": "3.11.0"
  },
  "widgets": {
   "application/vnd.jupyter.widget-state+json": {
    "state": {},
    "version_major": 2,
    "version_minor": 0
   }
  }
 },
 "nbformat": 4,
 "nbformat_minor": 5
}
