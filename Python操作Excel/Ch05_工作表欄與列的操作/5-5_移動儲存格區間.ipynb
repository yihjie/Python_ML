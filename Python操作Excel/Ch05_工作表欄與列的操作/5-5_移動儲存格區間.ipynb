{
 "cells": [
  {
   "cell_type": "markdown",
   "id": "b383d4e9-700e-4259-9c1f-b2c0ff58e9c0",
   "metadata": {},
   "source": [
    "# move range\n",
    "\n",
    "ws.move_range(cell_range, row, col, translate=False)\n",
    "\n",
    "    cell_range : 要移動的區間\n",
    "    row : 新位置 row 起點\n",
    "    col : 新位置 col 起點\n",
    "    translate : False ( 不含公式 )"
   ]
  }
 ],
 "metadata": {
  "kernelspec": {
   "display_name": "Python 3 (ipykernel)",
   "language": "python",
   "name": "python3"
  },
  "language_info": {
   "codemirror_mode": {
    "name": "ipython",
    "version": 3
   },
   "file_extension": ".py",
   "mimetype": "text/x-python",
   "name": "python",
   "nbconvert_exporter": "python",
   "pygments_lexer": "ipython3",
   "version": "3.11.0"
  },
  "widgets": {
   "application/vnd.jupyter.widget-state+json": {
    "state": {},
    "version_major": 2,
    "version_minor": 0
   }
  }
 },
 "nbformat": 4,
 "nbformat_minor": 5
}
