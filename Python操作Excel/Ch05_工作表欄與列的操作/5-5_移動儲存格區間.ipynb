{
 "cells": [
  {
   "cell_type": "markdown",
   "id": "b383d4e9-700e-4259-9c1f-b2c0ff58e9c0",
   "metadata": {},
   "source": [
    "# move range\n",
    "\n",
    "ws.move_range(cell_range, rows, cols, translate=False)\n",
    "\n",
    "    cell_range : 要移動的區間\n",
    "    rows : 新位置 row 起點\n",
    "    cols : 新位置 col 起點\n",
    "    translate : False ( 不含公式 )"
   ]
  },
  {
   "cell_type": "code",
   "execution_count": 8,
   "id": "4285eb4d-4a6c-4167-93a0-3ba6947bc1fd",
   "metadata": {},
   "outputs": [],
   "source": [
    "# move A1:H6 to B3:I8\n",
    "import openpyxl\n",
    "\n",
    "\n",
    "fn = 'data5_12.xlsx'\n",
    "wb = openpyxl.load_workbook(fn, data_only=True)\n",
    "ws = wb.active\n",
    "\n",
    "ws.move_range(\"A1:H6\", rows=2, cols=1)\n",
    "wb.save('out5_12.xlsx')\n",
    "wb.close()"
   ]
  },
  {
   "cell_type": "code",
   "execution_count": 10,
   "id": "f5b77439-963b-433c-9d1e-5f5eea700243",
   "metadata": {},
   "outputs": [],
   "source": [
    "# move A1:H6 to B3:I8\n",
    "import openpyxl\n",
    "from openpyxl.utils import get_column_letter, column_index_from_string\n",
    "\n",
    "fn = 'data5_12.xlsx'\n",
    "wb = openpyxl.load_workbook(fn, data_only=True)\n",
    "ws = wb.active\n",
    "\n",
    "start_cell = get_column_letter(ws.min_column) + str(ws.min_row)\n",
    "end_cell = get_column_letter(ws.max_column) + str(ws.max_row)\n",
    "\n",
    "ws.move_range(start_cell + \":\" + end_cell, rows=2, cols=1)\n",
    "wb.save('out5_13.xlsx')\n",
    "wb.close()"
   ]
  },
  {
   "cell_type": "code",
   "execution_count": 11,
   "id": "66f20d3d-b3bb-40f4-bcd1-4900b2d39134",
   "metadata": {},
   "outputs": [],
   "source": [
    "# move A1:H6 to B3:I8\n",
    "import openpyxl\n",
    "from openpyxl.utils import get_column_letter, column_index_from_string\n",
    "\n",
    "fn = 'data5_12.xlsx'\n",
    "wb = openpyxl.load_workbook(fn) # 需要讀取儲存格內的公式，所以不能設定 data_only=True\n",
    "ws = wb.active\n",
    "\n",
    "start_cell = get_column_letter(ws.min_column) + str(ws.min_row)\n",
    "end_cell = get_column_letter(ws.max_column) + str(ws.max_row)\n",
    "\n",
    "ws.move_range(start_cell + \":\" + end_cell, rows=2, cols=1, translate=True)\n",
    "wb.save('out5_14.xlsx')\n",
    "wb.close()"
   ]
  },
  {
   "cell_type": "code",
   "execution_count": null,
   "id": "24ac4773-e1ae-44e9-b06e-4608536b0b5d",
   "metadata": {},
   "outputs": [],
   "source": []
  }
 ],
 "metadata": {
  "kernelspec": {
   "display_name": "Python 3 (ipykernel)",
   "language": "python",
   "name": "python3"
  },
  "language_info": {
   "codemirror_mode": {
    "name": "ipython",
    "version": 3
   },
   "file_extension": ".py",
   "mimetype": "text/x-python",
   "name": "python",
   "nbconvert_exporter": "python",
   "pygments_lexer": "ipython3",
   "version": "3.11.0"
  },
  "widgets": {
   "application/vnd.jupyter.widget-state+json": {
    "state": {},
    "version_major": 2,
    "version_minor": 0
   }
  }
 },
 "nbformat": 4,
 "nbformat_minor": 5
}
