{
 "cells": [
  {
   "cell_type": "markdown",
   "id": "fc3ec588-0198-40c3-aa87-b821f8e66962",
   "metadata": {},
   "source": [
    "# delete column\n",
    "\n",
    "ws.delete_cols(index, [amount])\n",
    "\n",
    "    index   --> start\n",
    "    amount  --> total_deleted_column"
   ]
  }
 ],
 "metadata": {
  "kernelspec": {
   "display_name": "Python 3 (ipykernel)",
   "language": "python",
   "name": "python3"
  },
  "language_info": {
   "codemirror_mode": {
    "name": "ipython",
    "version": 3
   },
   "file_extension": ".py",
   "mimetype": "text/x-python",
   "name": "python",
   "nbconvert_exporter": "python",
   "pygments_lexer": "ipython3",
   "version": "3.11.0"
  },
  "widgets": {
   "application/vnd.jupyter.widget-state+json": {
    "state": {},
    "version_major": 2,
    "version_minor": 0
   }
  }
 },
 "nbformat": 4,
 "nbformat_minor": 5
}
