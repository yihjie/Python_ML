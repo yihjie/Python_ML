{
 "cells": [
  {
   "cell_type": "markdown",
   "id": "fc3ec588-0198-40c3-aa87-b821f8e66962",
   "metadata": {},
   "source": [
    "# delete column\n",
    "\n",
    "ws.delete_cols(index, [amount])\n",
    "\n",
    "    index   --> start\n",
    "    amount  --> total_deleted_column"
   ]
  },
  {
   "cell_type": "code",
   "execution_count": 1,
   "id": "04e13b14-839d-45d3-aa02-f8327708a5ed",
   "metadata": {},
   "outputs": [],
   "source": [
    "# 刪除 C3 ID欄\n",
    "import openpyxl\n",
    "\n",
    "fn = 'data5_10.xlsx'\n",
    "wb = openpyxl.load_workbook(fn, data_only=True)\n",
    "ws = wb.active\n",
    "\n",
    "ws.delete_cols(3)\n",
    "wb.save('out5_10.xlsx')\n",
    "\n",
    "wb.close()"
   ]
  },
  {
   "cell_type": "code",
   "execution_count": 2,
   "id": "a543a4ee-86ec-4e54-b23c-1fa295dba15d",
   "metadata": {},
   "outputs": [],
   "source": [
    "# 刪除 C3 ID欄 , D3 性別欄\n",
    "import openpyxl\n",
    "\n",
    "fn = 'data5_10.xlsx'\n",
    "wb = openpyxl.load_workbook(fn, data_only=True)\n",
    "ws = wb.active\n",
    "\n",
    "ws.delete_cols(3, 2)\n",
    "wb.save('out5_11.xlsx')\n",
    "\n",
    "wb.close()"
   ]
  },
  {
   "cell_type": "code",
   "execution_count": null,
   "id": "677a094b-2094-4ba8-a0ca-a7731479a1a4",
   "metadata": {},
   "outputs": [],
   "source": []
  }
 ],
 "metadata": {
  "kernelspec": {
   "display_name": "Python 3 (ipykernel)",
   "language": "python",
   "name": "python3"
  },
  "language_info": {
   "codemirror_mode": {
    "name": "ipython",
    "version": 3
   },
   "file_extension": ".py",
   "mimetype": "text/x-python",
   "name": "python",
   "nbconvert_exporter": "python",
   "pygments_lexer": "ipython3",
   "version": "3.11.0"
  },
  "widgets": {
   "application/vnd.jupyter.widget-state+json": {
    "state": {},
    "version_major": 2,
    "version_minor": 0
   }
  }
 },
 "nbformat": 4,
 "nbformat_minor": 5
}
