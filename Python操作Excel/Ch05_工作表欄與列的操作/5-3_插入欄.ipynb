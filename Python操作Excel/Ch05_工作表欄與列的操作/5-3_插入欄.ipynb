{
 "cells": [
  {
   "cell_type": "markdown",
   "id": "1e87c015-b7c3-4394-a22b-0a698fc9c83f",
   "metadata": {},
   "source": [
    "# insert column\n",
    "\n",
    "ws.insert_cols(index, [amount])\n",
    "\n",
    "    index   --> start\n",
    "    amount  --> total_inserted_column"
   ]
  },
  {
   "cell_type": "code",
   "execution_count": 1,
   "id": "79546575-359b-452f-b72a-801845f569cc",
   "metadata": {},
   "outputs": [],
   "source": [
    "# 新增 C3 性別欄\n",
    "import openpyxl\n",
    "\n",
    "fn = 'data5_8.xlsx'\n",
    "wb = openpyxl.load_workbook(fn, data_only=True)\n",
    "ws = wb.active\n",
    "\n",
    "ws.insert_cols(3)   # 預設僅新增一欄\n",
    "ws['C3'] = '性別'\n",
    "\n",
    "wb.save('out5_8.xlsx')\n",
    "\n",
    "wb.close()"
   ]
  },
  {
   "cell_type": "code",
   "execution_count": 2,
   "id": "04ed0f1d-b93c-440b-8276-a4a91bd41c63",
   "metadata": {},
   "outputs": [],
   "source": [
    "# 新增 C3 ID欄 , D3 性別欄\n",
    "import openpyxl\n",
    "\n",
    "fn = 'data5_8.xlsx'\n",
    "wb = openpyxl.load_workbook(fn, data_only=True)\n",
    "ws = wb.active\n",
    "\n",
    "ws.insert_cols(3, 2)\n",
    "ws['C3'] = 'ID'\n",
    "ws['D3'] = '性別'\n",
    "\n",
    "wb.save('out5_9.xlsx')\n",
    "\n",
    "wb.close()"
   ]
  },
  {
   "cell_type": "code",
   "execution_count": null,
   "id": "f83a943f-8189-45b7-997d-c4f7e5b8f0fd",
   "metadata": {},
   "outputs": [],
   "source": []
  }
 ],
 "metadata": {
  "kernelspec": {
   "display_name": "Python 3 (ipykernel)",
   "language": "python",
   "name": "python3"
  },
  "language_info": {
   "codemirror_mode": {
    "name": "ipython",
    "version": 3
   },
   "file_extension": ".py",
   "mimetype": "text/x-python",
   "name": "python",
   "nbconvert_exporter": "python",
   "pygments_lexer": "ipython3",
   "version": "3.11.0"
  },
  "widgets": {
   "application/vnd.jupyter.widget-state+json": {
    "state": {},
    "version_major": 2,
    "version_minor": 0
   }
  }
 },
 "nbformat": 4,
 "nbformat_minor": 5
}
