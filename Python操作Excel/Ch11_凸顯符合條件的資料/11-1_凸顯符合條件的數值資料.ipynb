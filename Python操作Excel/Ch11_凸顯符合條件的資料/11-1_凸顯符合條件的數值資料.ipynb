{
 "cells": [
  {
   "cell_type": "markdown",
   "id": "28c394ef-5788-47c8-a5aa-a8b1e0b4d359",
   "metadata": {},
   "source": [
    "# 章節重點\n",
    "- 醒目提示儲存格規則\n",
    "- 前段/後段項目規則\n",
    "\n",
    "## 凸顯符合條件的資料\n",
    "常用/樣式/條件式格式設定/新增規則/新增規則化規則/<font color='red'>只格式化下列儲存格</font>\n",
    "\n",
    "```\n",
    "from openpyxl.styles.differential import DifferentialStyle\n",
    "from openpyxl.formatting.rule import Rule\n",
    "\n",
    "dxf = DifferentialStyle(font, numFmt, fill, alignment, border, protection)\n",
    "rule = Rule(type, operator, formula, dxf)\n",
    "\n",
    "```"
   ]
  },
  {
   "cell_type": "code",
   "execution_count": null,
   "id": "914f581f-a448-45c5-abb3-eab676580d6d",
   "metadata": {},
   "outputs": [],
   "source": []
  }
 ],
 "metadata": {
  "kernelspec": {
   "display_name": "Python 3 (ipykernel)",
   "language": "python",
   "name": "python3"
  },
  "language_info": {
   "codemirror_mode": {
    "name": "ipython",
    "version": 3
   },
   "file_extension": ".py",
   "mimetype": "text/x-python",
   "name": "python",
   "nbconvert_exporter": "python",
   "pygments_lexer": "ipython3",
   "version": "3.11.0"
  }
 },
 "nbformat": 4,
 "nbformat_minor": 5
}
