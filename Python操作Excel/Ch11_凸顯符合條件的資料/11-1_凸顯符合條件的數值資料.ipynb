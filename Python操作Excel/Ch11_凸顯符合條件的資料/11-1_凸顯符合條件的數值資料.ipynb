{
 "cells": [
  {
   "cell_type": "markdown",
   "id": "d2a390d9-0c17-4130-9d25-e12a15bf1d10",
   "metadata": {},
   "source": [
    "# 凸顯符合條件的數值資料\n",
    "- 常用/樣式/條件式格式設定/新增規則/新增格式化規則/選取規則類型/只格式化下列儲存格\n",
    "```\n",
    "from openpyxl.formatting.rule import Rule\n",
    "from openpyxl.styles.differential import DifferentialStyle\n",
    "from openpyxl.styles import PatternFill, Font\n",
    "\n",
    "dxf = DifferentialStyle(font, numFmt, fill, alignment, border, protection)\n",
    "rule = Rule(type, operator, formula, dxf)\n",
    "```\n",
    "- type\n",
    "  * cellIs\n",
    "  * timePeriod\n",
    "  * beginsWith\n",
    "  * endsWith\n",
    "  * containsText\n",
    "  * nonContainsText\n",
    "  * containsBlanks\n",
    "  * nonContainsBlanks\n",
    "\n",
    "- operator\n",
    "  * lessThan\n",
    "  * lessThanOrEqual\n",
    "  * greaterThan\n",
    "  * greaterTHanOrEqual\n",
    "  * between\n",
    "  * nonBetween\n",
    "  * equal\n",
    "  * notEqual\n"
   ]
  },
  {
   "cell_type": "code",
   "execution_count": 2,
   "id": "04bb3ec8-b0b6-4d0d-92de-2bb0afd63bef",
   "metadata": {},
   "outputs": [],
   "source": [
    "import openpyxl\n",
    "from openpyxl.formatting.rule import Rule\n",
    "from openpyxl.styles.differential import DifferentialStyle\n",
    "from openpyxl.styles import PatternFill, Font\n",
    "\n",
    "fn = 'data11_1.xlsx'\n",
    "wb = openpyxl.load_workbook(fn)\n",
    "ws = wb.active\n",
    "\n",
    "# 定義 < 60 分的儲存格格式\n",
    "font_60 = Font(bold=True, color='FFFFFF')\n",
    "bg_60   = PatternFill(start_color='FF0000', end_color='FF0000', fill_type='solid')\n",
    "dxf_60  = DifferentialStyle(font=font_60, fill=bg_60)\n",
    "rule_60 = Rule(type='cellIs', operator='lessThan', formula=[60], dxf=dxf_60)\n",
    "\n",
    "# 定義 >= 80 分的儲存格格式\n",
    "font_80 = Font(bold=True, color='0000FF')\n",
    "dxf_80  = DifferentialStyle(font=font_80)\n",
    "rule_80 = Rule(type='cellIs', operator='greaterThanOrEqual', formula=[80], dxf=dxf_80)\n",
    "\n",
    "# 套用規則\n",
    "ws.conditional_formatting.add('A2:C11', rule_60)\n",
    "ws.conditional_formatting.add('A2:C11', rule_80)\n",
    "\n",
    "\n",
    "wb.save('out11_1.xlsx')\n",
    "wb.close()"
   ]
  },
  {
   "cell_type": "code",
   "execution_count": null,
   "id": "065d05ea-823e-4305-b304-6e910a674a8a",
   "metadata": {},
   "outputs": [],
   "source": []
  }
 ],
 "metadata": {
  "kernelspec": {
   "display_name": "Python 3 (ipykernel)",
   "language": "python",
   "name": "python3"
  },
  "language_info": {
   "codemirror_mode": {
    "name": "ipython",
    "version": 3
   },
   "file_extension": ".py",
   "mimetype": "text/x-python",
   "name": "python",
   "nbconvert_exporter": "python",
   "pygments_lexer": "ipython3",
   "version": "3.11.0"
  },
  "widgets": {
   "application/vnd.jupyter.widget-state+json": {
    "state": {},
    "version_major": 2,
    "version_minor": 0
   }
  }
 },
 "nbformat": 4,
 "nbformat_minor": 5
}
