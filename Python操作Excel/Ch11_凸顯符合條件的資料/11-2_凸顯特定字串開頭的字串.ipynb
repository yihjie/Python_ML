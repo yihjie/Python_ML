{
 "cells": [
  {
   "cell_type": "markdown",
   "id": "d2a70bc9-282b-48e5-a41c-b5ac6986ee9c",
   "metadata": {},
   "source": [
    "# 凸顯特定字串開頭的字串\n",
    "- type = 'beginsWith'\n",
    "- operator = 'beginsWith'\n",
    "- formula = ['LEFT(A1,1) = \"洪\"']\n",
    "\n",
    "# 字串條件功能\n",
    "| type  & operator| formula | 說明 |\n",
    "| :---- | :---- | ----- |\n",
    "| 'beginsWith' | 'LEFT(cells) = \"string\" '| 特定字串開頭 |\n",
    "| 'endsWith' | 'RIGHT(cells) = \"string\" ' | 特定字串結尾 |\n",
    "| 'containsText' | 'NOT(ISERROR(SEARCH(\"string\", cells)))' | 包含特定字串 |\n",
    "| 'notcontainsText' |'ISERROR(SEARCH(\"string\", cells)))' | 不包含特定字串 |\n",
    "| 'containsBlank' | '(ISERROR(SEARCH(\"\", cells)))' | 包含空格 |\n",
    "| 'notcontainsBlank' | 'NOT(ISERROR(SEARCH(\"\",cells)))' | 不包含空格 |"
   ]
  },
  {
   "cell_type": "code",
   "execution_count": 2,
   "id": "75d45184-c19b-410b-bf81-33f4b1e83421",
   "metadata": {},
   "outputs": [],
   "source": [
    "import openpyxl\n",
    "from openpyxl.formatting.rule import Rule\n",
    "from openpyxl.styles.differential import DifferentialStyle\n",
    "from openpyxl.styles import PatternFill, Font\n",
    "\n",
    "fn = 'data11_4.xlsx'\n",
    "wb = openpyxl.load_workbook(fn)\n",
    "ws = wb.active\n",
    "\n",
    "# 1. 定義儲存格格式\n",
    "font = Font(bold=True, color='FFFFFF')\n",
    "bg   = PatternFill(start_color='FF0000', end_color='FF0000', fill_type='solid')\n",
    "dxf  = DifferentialStyle(font=font, fill=bg)\n",
    "\n",
    "# 2. 設定規則：搜尋 \"洪\" 姓業務員的資料\n",
    "rule = Rule(type='beginsWith', operator='beginsWith', formula=['LEFT(A1,1)=\"洪\"'], dxf=dxf)\n",
    "\n",
    "# 3. 套用規則\n",
    "ws.conditional_formatting.add('A1:F10', rule)\n",
    "\n",
    "wb.save('out11_4.xlsx')\n",
    "wb.close()"
   ]
  },
  {
   "cell_type": "code",
   "execution_count": 3,
   "id": "5f0d63c9-ff7c-449f-b94f-ece064ac7e98",
   "metadata": {},
   "outputs": [],
   "source": [
    "import openpyxl\n",
    "from openpyxl.formatting.rule import Rule\n",
    "from openpyxl.styles.differential import DifferentialStyle\n",
    "from openpyxl.styles import PatternFill, Font\n",
    "\n",
    "fn = 'data11_5.xlsx'\n",
    "wb = openpyxl.load_workbook(fn)\n",
    "ws = wb.active\n",
    "\n",
    "# 1. 定義儲存格格式\n",
    "font = Font(bold=True, color='FFFFFF')\n",
    "bg   = PatternFill(start_color='FF0000', end_color='FF0000', fill_type='solid')\n",
    "dxf  = DifferentialStyle(font=font, fill=bg)\n",
    "\n",
    "# 2. 設定規則：搜尋 \"洪\" 姓業務員的資料\n",
    "rule = Rule(type='containsText', operator='containsText', formula=['NOT(ISERROR(SEARCH(\"大學\", A1)))'], dxf=dxf)\n",
    "\n",
    "# 3. 套用規則\n",
    "ws.conditional_formatting.add('A1:E151', rule)\n",
    "\n",
    "wb.save('out11_5.xlsx')\n",
    "wb.close()"
   ]
  },
  {
   "cell_type": "code",
   "execution_count": null,
   "id": "4f756a85-e934-460c-aaec-104e846887c2",
   "metadata": {},
   "outputs": [],
   "source": []
  }
 ],
 "metadata": {
  "kernelspec": {
   "display_name": "Python 3 (ipykernel)",
   "language": "python",
   "name": "python3"
  },
  "language_info": {
   "codemirror_mode": {
    "name": "ipython",
    "version": 3
   },
   "file_extension": ".py",
   "mimetype": "text/x-python",
   "name": "python",
   "nbconvert_exporter": "python",
   "pygments_lexer": "ipython3",
   "version": "3.11.0"
  },
  "widgets": {
   "application/vnd.jupyter.widget-state+json": {
    "state": {},
    "version_major": 2,
    "version_minor": 0
   }
  }
 },
 "nbformat": 4,
 "nbformat_minor": 5
}
