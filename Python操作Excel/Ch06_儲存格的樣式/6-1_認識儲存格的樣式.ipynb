{
 "cells": [
  {
   "cell_type": "markdown",
   "id": "b460751a-df50-49ef-99fc-a27a0c210e3b",
   "metadata": {},
   "source": [
    "```\n",
    "from openpyxl.styles import Font, Border, Side, PatternFill, Alignment, Protection\n",
    "```\n",
    "    Font : 字型樣式\n",
    "    Border : 框線樣式\n",
    "    PatternFill : 填充圖案\n",
    "    Alignment : 對齊方式\n",
    "    Protection : 保護"
   ]
  },
  {
   "cell_type": "code",
   "execution_count": 3,
   "id": "ae4ca1f8-cbe4-474a-9a06-f5377f407598",
   "metadata": {},
   "outputs": [],
   "source": [
    "# Font style\n",
    "\n",
    "'''\n",
    "name         : 字型名稱 , default = Calibri\n",
    "size         : 字型大小 , default = 11\n",
    "bold         : 粗體     , default = False\n",
    "italic       : 斜體     , default = False\n",
    "vertAlign    : 垂直置中 , default = None\n",
    "underline    : 底線     , default = None | single | double\n",
    "strike       : 刪除線   , default = False\n",
    "color        : 顏色　　\n",
    "'''\n",
    "import openpyxl\n",
    "from openpyxl.styles import Font\n",
    "\n",
    "fn = 'data6_1.xlsx'\n",
    "wb = openpyxl.load_workbook(fn)\n",
    "ws = wb.active\n",
    "\n",
    "ws['B1'].font = Font(color='0000FF') # 藍色\n",
    "ws['B2'].font = Font(underline='single') # 單底線\n",
    "ws['C2'].font = Font(underline='double') # 雙底線\n",
    "ws['B3'].font = Font(color='0000FF', italic=True) # 藍色、斜體\n",
    "\n",
    "wb.save('out6_1.xlsx')\n",
    "wb.close()"
   ]
  },
  {
   "cell_type": "code",
   "execution_count": 4,
   "id": "bda5507d-6350-4a12-be4b-558639ded23b",
   "metadata": {},
   "outputs": [],
   "source": [
    "# B3:B6 字型設定 藍色、斜體\n",
    "import openpyxl\n",
    "from openpyxl.styles import Font\n",
    "\n",
    "fn = 'data6_1.xlsx'\n",
    "wb = openpyxl.load_workbook(fn)\n",
    "ws = wb.active\n",
    "\n",
    "for i in range(3,7):\n",
    "    ws['B' + str(i)].font = Font(color='0000FF', italic=True)\n",
    "\n",
    "wb.save('out6_2.xlsx')\n",
    "wb.close()"
   ]
  },
  {
   "cell_type": "code",
   "execution_count": 5,
   "id": "53f30bbf-974c-4acd-a02e-f8c4c88c86e4",
   "metadata": {},
   "outputs": [],
   "source": [
    "# 設定字體\n",
    "import openpyxl\n",
    "from openpyxl.styles import Font\n",
    "\n",
    "wb = openpyxl.Workbook()\n",
    "ws = wb.active\n",
    "\n",
    "ws['B2'] = 'Ming-Chi Institute of Technology'\n",
    "ws['B2'].font = Font(name='Old English Text MT', color='0000FF')\n",
    "\n",
    "ws['B4'] = '明志工專'\n",
    "ws['B4'].font = Font(name='標楷體', color='0000FF')\n",
    "\n",
    "wb.save('out6_2_1.xlsx')\n",
    "wb.close()"
   ]
  }
 ],
 "metadata": {
  "kernelspec": {
   "display_name": "Python 3 (ipykernel)",
   "language": "python",
   "name": "python3"
  },
  "language_info": {
   "codemirror_mode": {
    "name": "ipython",
    "version": 3
   },
   "file_extension": ".py",
   "mimetype": "text/x-python",
   "name": "python",
   "nbconvert_exporter": "python",
   "pygments_lexer": "ipython3",
   "version": "3.11.0"
  },
  "widgets": {
   "application/vnd.jupyter.widget-state+json": {
    "state": {},
    "version_major": 2,
    "version_minor": 0
   }
  }
 },
 "nbformat": 4,
 "nbformat_minor": 5
}
