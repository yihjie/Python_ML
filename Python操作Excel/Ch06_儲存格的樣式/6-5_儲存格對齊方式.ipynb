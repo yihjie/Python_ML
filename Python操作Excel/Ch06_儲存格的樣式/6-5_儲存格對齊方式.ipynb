{
 "cells": [
  {
   "cell_type": "markdown",
   "id": "8e2730f3-4637-4dec-83ca-bd97122f0698",
   "metadata": {},
   "source": [
    "```\n",
    "import openpyxl\n",
    "from openpyxl.styles import Alignment\n",
    "```\n",
    "\n",
    "Alignment(\n",
    "             horizontal='general',      # 水平對齊\n",
    "             vertical='bottom',         # 垂直\n",
    "             text_rotation=0,           # 方向\n",
    "             wrap_text=False,           # 自動換行\n",
    "             shrink_to_fit=False,       # 縮小字型以符合電腦以符合電腦\n",
    "             indent=0                   # 縮排\n",
    "         )\n",
    "\n",
    "    horizontal     = general | left | center | right | fill | justify | centerContinuous | distributed\n",
    "    vertical       = top | center | bottom | justify | distributed\n",
    "    wrap_text      = False | True\n",
    "    shrink_to_fit  = False | True\n",
    "    \n"
   ]
  },
  {
   "cell_type": "code",
   "execution_count": 1,
   "id": "5d9a1b02-f937-402c-8c0c-1a937113c910",
   "metadata": {},
   "outputs": [],
   "source": [
    "import openpyxl\n",
    "from openpyxl.styles import Alignment\n",
    "\n",
    "fn = 'data6_8.xlsx'\n",
    "wb = openpyxl.load_workbook(fn)\n",
    "ws = wb.active\n",
    "\n",
    "ws['B2'].alignment = Alignment(horizontal    = 'right')\n",
    "ws['C2'].alignment = Alignment(horizontal    = 'center')\n",
    "ws['D2'].alignment = Alignment(horizontal    = 'left')\n",
    "ws['F2'].alignment = Alignment(horizontal    = 'centerContinuous')\n",
    "ws['B4'].alignment = Alignment(text_rotation = 30)\n",
    "ws['C4'].alignment = Alignment(text_rotation = 45)\n",
    "ws['D4'].alignment = Alignment(text_rotation = 60)\n",
    "\n",
    "\n",
    "wb.save('out6_8.xlsx')\n",
    "wb.close()"
   ]
  },
  {
   "cell_type": "code",
   "execution_count": 3,
   "id": "f8b43521-aa4f-457b-aa62-071396c3985a",
   "metadata": {},
   "outputs": [],
   "source": [
    "import openpyxl\n",
    "from openpyxl.styles import Border, Side, Alignment\n",
    "\n",
    "fn = 'data6_4.xlsx'\n",
    "wb = openpyxl.load_workbook(fn)\n",
    "ws = wb.active\n",
    "\n",
    "# 儲存格外框樣式\n",
    "side = Side(border_style='thin')\n",
    "borders = Border(left=side, right=side, top=side, bottom=side)\n",
    "\n",
    "for rows in ws['B2':'C6']:\n",
    "    for cell in rows:\n",
    "        cell.border = borders\n",
    "        cell.alignment = Alignment(horizontal='center')\n",
    "\n",
    "wb.save('out6_9.xlsx')\n",
    "wb.close()"
   ]
  }
 ],
 "metadata": {
  "kernelspec": {
   "display_name": "Python 3 (ipykernel)",
   "language": "python",
   "name": "python3"
  },
  "language_info": {
   "codemirror_mode": {
    "name": "ipython",
    "version": 3
   },
   "file_extension": ".py",
   "mimetype": "text/x-python",
   "name": "python",
   "nbconvert_exporter": "python",
   "pygments_lexer": "ipython3",
   "version": "3.11.0"
  }
 },
 "nbformat": 4,
 "nbformat_minor": 5
}
