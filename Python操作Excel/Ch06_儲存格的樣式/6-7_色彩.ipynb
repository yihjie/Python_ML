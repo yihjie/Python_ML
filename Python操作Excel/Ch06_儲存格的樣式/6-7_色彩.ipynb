{
 "cells": [
  {
   "cell_type": "markdown",
   "id": "db7361ae-999d-4cd9-af82-3fcb68b355f0",
   "metadata": {},
   "source": [
    "```\n",
    "from openpyxl.styles import Font\n",
    "\n",
    "font = Font(color='FF00FF')\n",
    "font.color.rgb\n",
    "```\n",
    "---> '00FF00FF'\n",
    "      ^^--- alpha\n",
    "      \n",
    "```\n",
    "from openpyxl.styles.colors import Color\n",
    "```"
   ]
  },
  {
   "cell_type": "code",
   "execution_count": 2,
   "id": "e3de8e21-63a7-4fa7-92a1-bc2e016a4af4",
   "metadata": {},
   "outputs": [],
   "source": [
    "import openpyxl\n",
    "from openpyxl.styles import Font\n",
    "from openpyxl.styles.colors import Color\n",
    "\n",
    "fn = 'data6_1.xlsx'\n",
    "wb = openpyxl.load_workbook(fn)\n",
    "ws = wb.active\n",
    "\n",
    "ws['B1'].font = Font(color=Color(indexed=6))                   # 00FF00FF\n",
    "ws['B2'].font = Font(underline='single')\n",
    "ws['C2'].font = Font(underline='double')\n",
    "ws['B3'].font = Font(color=Color(indexed=40), italic=True)     # 0000CCFF\n",
    "\n",
    "wb.save('out6_11.xlsx')\n",
    "wb.close()"
   ]
  }
 ],
 "metadata": {
  "kernelspec": {
   "display_name": "Python 3 (ipykernel)",
   "language": "python",
   "name": "python3"
  },
  "language_info": {
   "codemirror_mode": {
    "name": "ipython",
    "version": 3
   },
   "file_extension": ".py",
   "mimetype": "text/x-python",
   "name": "python",
   "nbconvert_exporter": "python",
   "pygments_lexer": "ipython3",
   "version": "3.11.0"
  }
 },
 "nbformat": 4,
 "nbformat_minor": 5
}
