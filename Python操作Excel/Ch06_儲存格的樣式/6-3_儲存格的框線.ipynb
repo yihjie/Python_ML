{
 "cells": [
  {
   "cell_type": "markdown",
   "id": "07283f19-b274-4450-9238-1f01dd5dcfd1",
   "metadata": {},
   "source": [
    "```\n",
    "from openpyxl.styles import Border, Side\n",
    "```\n",
    "    left\n",
    "    right\n",
    "    top\n",
    "    bottom\n",
    "    diagonal     - 對角線\n",
    "    diagonalDown - 對角線 左上右下\n",
    "    diagonalUp   - 對角線 左下右上\n",
    "    outline\n",
    "    vertical\n",
    "    horizonal\n",
    "    \n",
    "    \n",
    "Side()\n",
    "    border_style\n",
    "        'none'\n",
    "        'hair'\n",
    "        'dotted'\n",
    "        'dashed'\n",
    "        'dashDotDot'\n",
    "        'dashDot'\n",
    "        'thin'\n",
    "        'mediumDashDotDot'\n",
    "        'slantDashDot'\n",
    "        'mediumDash'\n",
    "        'medium'\n",
    "        'thick'\n",
    "        'double'"
   ]
  }
 ],
 "metadata": {
  "kernelspec": {
   "display_name": "Python 3 (ipykernel)",
   "language": "python",
   "name": "python3"
  },
  "language_info": {
   "codemirror_mode": {
    "name": "ipython",
    "version": 3
   },
   "file_extension": ".py",
   "mimetype": "text/x-python",
   "name": "python",
   "nbconvert_exporter": "python",
   "pygments_lexer": "ipython3",
   "version": "3.11.0"
  },
  "widgets": {
   "application/vnd.jupyter.widget-state+json": {
    "state": {},
    "version_major": 2,
    "version_minor": 0
   }
  }
 },
 "nbformat": 4,
 "nbformat_minor": 5
}
