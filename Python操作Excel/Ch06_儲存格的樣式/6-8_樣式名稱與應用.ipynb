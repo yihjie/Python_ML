{
 "cells": [
  {
   "cell_type": "markdown",
   "id": "e4465c24-daca-4187-848b-8a316f5fcf7f",
   "metadata": {},
   "source": [
    "# 建立樣式名稱\n",
    "```\n",
    "from openpyxl.styles import NamedStyle\n",
    "\n",
    "stylename = NmaedStyle(name='styleSample')\n",
    "```\n",
    "\n",
    "# 註冊樣式名稱\n",
    "```\n",
    "wb.add_named_style(stylename)\n",
    "```\n",
    "\n",
    "# 應用樣式名稱\n",
    "\n",
    "```\n",
    "ws['B2'].style = stylename\n",
    "ws['B4'].style = 'styleSample'\n",
    "```"
   ]
  },
  {
   "cell_type": "code",
   "execution_count": 2,
   "id": "f9eff607-113d-4756-b356-174d0d8c0d92",
   "metadata": {},
   "outputs": [],
   "source": [
    "import openpyxl\n",
    "from openpyxl.styles import Font, Border, Side, NamedStyle\n",
    "\n",
    "fn = 'data6_12.xlsx'\n",
    "wb = openpyxl.load_workbook(fn)\n",
    "ws = wb.active\n",
    "\n",
    "namestyle = NamedStyle(name='nameSample')\n",
    "namestyle.font = Font(bold=True, color='0000FF')\n",
    "\n",
    "bd = Side(style='thick', color='FF0000')\n",
    "namestyle.border = Border(left=bd, top=bd, right=bd, bottom=bd)\n",
    "\n",
    "wb.add_named_style(namestyle)\n",
    "ws['B2'].style = namestyle\n",
    "ws['B4'].style = 'nameSample'\n",
    "\n",
    "wb.save('out6_12.xlsx')\n",
    "wb.close()"
   ]
  }
 ],
 "metadata": {
  "kernelspec": {
   "display_name": "Python 3 (ipykernel)",
   "language": "python",
   "name": "python3"
  },
  "language_info": {
   "codemirror_mode": {
    "name": "ipython",
    "version": 3
   },
   "file_extension": ".py",
   "mimetype": "text/x-python",
   "name": "python",
   "nbconvert_exporter": "python",
   "pygments_lexer": "ipython3",
   "version": "3.11.0"
  }
 },
 "nbformat": 4,
 "nbformat_minor": 5
}
