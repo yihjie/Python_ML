{
 "cells": [
  {
   "cell_type": "markdown",
   "id": "8deda8bc-7773-49f4-90e6-bc805850b908",
   "metadata": {},
   "source": [
    "```\n",
    "from openpyxl.styles import PatternFill\n",
    "\n",
    "cell.fill = PatternFill(xx)\n",
    "```\n",
    "    PatternFill(fill_type=None,\n",
    "                fgColor='000000',\n",
    "                bgColor='000000',\n",
    "                start_color='000000',\n",
    "                end_color='000000')\n",
    "                \n",
    "    fill_type = (\n",
    "                  'none', # default\n",
    "                  'solid',\n",
    "                  'darkDown',\n",
    "                  'darkGray',\n",
    "                  'darkHorizontal',\n",
    "                  'darkTrellis',\n",
    "                  'darkUp',\n",
    "                  'darkVertical',\n",
    "                  'gray0625',\n",
    "                  'gray125',\n",
    "                  'lightDown',\n",
    "                  'lightGray',\n",
    "                  'lightGrid',\n",
    "                  'lightHorizontal',\n",
    "                  'lightTrellis',\n",
    "                  'lightUp',\n",
    "                  'lightVertical',\n",
    "                  'mediumGray'\n",
    "                )"
   ]
  },
  {
   "cell_type": "code",
   "execution_count": 3,
   "id": "fac593cb-09c5-47fa-bf35-15813230ae72",
   "metadata": {},
   "outputs": [],
   "source": [
    "import openpyxl\n",
    "from openpyxl.styles import PatternFill\n",
    "\n",
    "wb = openpyxl.Workbook()\n",
    "ws = wb.active\n",
    "\n",
    "# 建立圖案樣式\n",
    "patterns = [\n",
    "             'solid', 'darkDown', 'darkGray', 'darkGrid', 'darkHorizontal',\n",
    "             'darkTrellis', 'darkUp', 'darkVertical', 'gray0625', 'gray125',\n",
    "             'lightDown', 'lightGray', 'lightGrid', 'lightHorizontal', 'lightTrellis',\n",
    "             'lightUp', 'lightVertical', 'mediumGray'\n",
    "           ]\n",
    "\n",
    "# 設定儲存格區間\n",
    "cells = ws.iter_cols(min_row=2, max_row=20, min_col=2, max_col=3)\n",
    "for col in cells:\n",
    "    for cell, pattern in zip(col, patterns):\n",
    "        if cell.col_idx == 2: # 如果是 B 欄 ，則輸出圖案樣式名稱\n",
    "            cell.value = pattern\n",
    "        else:                 # 如果是 C 欄，則輸出圖案樣式\n",
    "            cell.fill = PatternFill(fill_type=pattern)\n",
    "            \n",
    "wb.save('out6_6.xlsx')\n",
    "wb.close()"
   ]
  },
  {
   "cell_type": "code",
   "execution_count": 5,
   "id": "a99fcfd1-b93b-43ea-ac8d-e7413bdbcfb3",
   "metadata": {},
   "outputs": [],
   "source": [
    "# 為圖案加上前景和背景色彩\n",
    "import openpyxl\n",
    "from openpyxl.styles import PatternFill\n",
    "\n",
    "wb = openpyxl.Workbook()\n",
    "ws = wb.active\n",
    "\n",
    "ws['B2'].fill = PatternFill(fill_type='lightGray', fgColor='0000FF')\n",
    "ws['B4'].fill = PatternFill(fill_type='lightGray', bgColor='0000FF')\n",
    "ws['B6'].fill = PatternFill(fill_type='lightGray', fgColor='FF00FF', bgColor='FFFF00')\n",
    "ws['B8'].fill = PatternFill(fill_type='lightGray', fgColor='FFFF00', bgColor='FF00FF')\n",
    "ws['B10'].fill = PatternFill(fill_type='lightGray', start_color='FFFF00', end_color='FF00FF')\n",
    "\n",
    "wb.save('out6_7.xlsx')\n",
    "wb.close()"
   ]
  },
  {
   "cell_type": "code",
   "execution_count": 7,
   "id": "9d5ed82d-196c-4728-a315-a3dbecb91f7b",
   "metadata": {},
   "outputs": [],
   "source": [
    "import openpyxl\n",
    "from openpyxl.styles import PatternFill\n",
    "\n",
    "fn = 'data6_7_1.xlsx'\n",
    "wb = openpyxl.load_workbook(fn)\n",
    "ws = wb.active\n",
    "\n",
    "for rows in ws.iter_rows():\n",
    "    for cell in rows:\n",
    "        if cell.row % 2 :\n",
    "            cell.fill = PatternFill(fill_type='solid', start_color='FFFF00')\n",
    "\n",
    "wb.save('out6_7_1.xlsx')\n",
    "wb.close()"
   ]
  },
  {
   "cell_type": "markdown",
   "id": "e0e2e030-cca0-42e8-9dd8-2907481bf2a5",
   "metadata": {},
   "source": [
    "# 漸層填滿\n",
    "```\n",
    "from openpyxl.styles import GradientFill\n",
    "\n",
    "GradientFill(type, degree, left, right, top, bottom, stop)\n",
    "```\n",
    "type = linear | path\n",
    "\n",
    "linear --> 水平 | 垂直 | 右斜 | 左斜\n",
    "path   --> 從角落 | 從中央"
   ]
  },
  {
   "cell_type": "code",
   "execution_count": 10,
   "id": "1033be2a-5df7-49e4-8315-58697071d5ad",
   "metadata": {},
   "outputs": [],
   "source": [
    "# GradientFill\n",
    "\n",
    "import openpyxl\n",
    "from openpyxl.styles import GradientFill\n",
    "\n",
    "wb = openpyxl.Workbook()\n",
    "ws = wb.active\n",
    "\n",
    "# 2 個顏色的線性填滿\n",
    "ws['B2'].fill = GradientFill(type='linear', stop=('FFFF00', '00FF00'))\n",
    "# 3 個顏色的線性填滿\n",
    "ws['D2'].fill = GradientFill(type='linear', stop=('FF0000', '0000FF', '00FF00'))\n",
    "# 3 個顏色的線性填滿，45度旋轉\n",
    "ws['F2'].fill = GradientFill(type='linear', stop=('FF0000', '0000FF', '00FF00'), degree=45)\n",
    "# 3 個顏色的線性填滿，90度旋轉\n",
    "ws['H2'].fill = GradientFill(type='linear', stop=('FF0000', '0000FF', '00FF00'), degree=90)\n",
    "# 3 個顏色的線性填滿，135度旋轉\n",
    "ws['J2'].fill = GradientFill(type='linear', stop=('FF0000', '0000FF', '00FF00'), degree=135)\n",
    "\n",
    "\n",
    "wb.save('out6_7_2.xlsx')\n",
    "wb.close()"
   ]
  }
 ],
 "metadata": {
  "kernelspec": {
   "display_name": "Python 3 (ipykernel)",
   "language": "python",
   "name": "python3"
  },
  "language_info": {
   "codemirror_mode": {
    "name": "ipython",
    "version": 3
   },
   "file_extension": ".py",
   "mimetype": "text/x-python",
   "name": "python",
   "nbconvert_exporter": "python",
   "pygments_lexer": "ipython3",
   "version": "3.11.0"
  },
  "widgets": {
   "application/vnd.jupyter.widget-state+json": {
    "state": {},
    "version_major": 2,
    "version_minor": 0
   }
  }
 },
 "nbformat": 4,
 "nbformat_minor": 5
}
