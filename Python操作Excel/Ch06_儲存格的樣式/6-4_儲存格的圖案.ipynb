{
 "cells": [
  {
   "cell_type": "markdown",
   "id": "8deda8bc-7773-49f4-90e6-bc805850b908",
   "metadata": {},
   "source": [
    "```\n",
    "from openpyxl.styles import PatternFill\n",
    "\n",
    "cell.fill = PatternFill(xx)\n",
    "```\n",
    "    PatternFill(fill_type=None,\n",
    "                fgColor='000000',\n",
    "                bgColor='000000',\n",
    "                start_color='000000',\n",
    "                end_color='000000')\n",
    "                \n",
    "    fill_type = (\n",
    "                  'none', # default\n",
    "                  'solid',\n",
    "                  'darkDown',\n",
    "                  'darkGray',\n",
    "                  'darkHorizontal',\n",
    "                  'darkTrellis',\n",
    "                  'darkUp',\n",
    "                  'darkVertical',\n",
    "                  'gray0625',\n",
    "                  'gray125',\n",
    "                  'lightDown',\n",
    "                  'lightGray',\n",
    "                  'lightGrid',\n",
    "                  'lightHorizontal',\n",
    "                  'lightTrellis',\n",
    "                  'lightUp',\n",
    "                  'lightVertical',\n",
    "                  'mediumGray'\n",
    "                )"
   ]
  }
 ],
 "metadata": {
  "kernelspec": {
   "display_name": "Python 3 (ipykernel)",
   "language": "python",
   "name": "python3"
  },
  "language_info": {
   "codemirror_mode": {
    "name": "ipython",
    "version": 3
   },
   "file_extension": ".py",
   "mimetype": "text/x-python",
   "name": "python",
   "nbconvert_exporter": "python",
   "pygments_lexer": "ipython3",
   "version": "3.11.0"
  }
 },
 "nbformat": 4,
 "nbformat_minor": 5
}
