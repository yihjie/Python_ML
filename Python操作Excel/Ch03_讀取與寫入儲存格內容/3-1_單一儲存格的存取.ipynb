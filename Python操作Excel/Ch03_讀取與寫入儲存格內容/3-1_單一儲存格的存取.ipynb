{
 "cells": [
  {
   "cell_type": "markdown",
   "id": "a20a5fca-73d0-4092-ab68-6ad1014108e9",
   "metadata": {},
   "source": [
    "# 基礎語法\n",
    "ws[儲存格位置]\n",
    "\n",
    "```\n",
    "ws['A1']\n",
    "\n",
    "data = ws['A1'].value\n",
    "```"
   ]
  },
  {
   "cell_type": "code",
   "execution_count": 1,
   "id": "f71f24c9-8358-4bb1-84dd-8c91dfc87db9",
   "metadata": {},
   "outputs": [
    {
     "name": "stdout",
     "output_type": "stream",
     "text": [
      "['Sheet']\n"
     ]
    }
   ],
   "source": [
    "import openpyxl\n",
    "\n",
    "wb = openpyxl.Workbook()\n",
    "ws = wb.active\n",
    "print(wb.sheetnames)\n",
    "\n",
    "ws['A2'] = 'Apple'\n",
    "ws['A3'] = 'Orange'\n",
    "ws['B2'] = 200\n",
    "ws['B3'] = 150\n",
    "\n",
    "wb.save('out3_1.xlsx')\n",
    "wb.close()"
   ]
  },
  {
   "cell_type": "code",
   "execution_count": 10,
   "id": "75cf71c9-90d8-4e28-8566-2e2244c0cf3e",
   "metadata": {},
   "outputs": [
    {
     "name": "stdout",
     "output_type": "stream",
     "text": [
      "(None, None, None) - None\n",
      "(None, None, None) - None\n",
      "(None, None, None) - None\n",
      "(None, '深智新進員工測驗', None) - None\n",
      "(None, '深智新進員工測驗', None) - 深智新進員工測驗\n",
      "(None, '深智新進員工測驗', None) - None\n",
      "(None, '姓名', '數學') - None\n",
      "(None, '姓名', '數學') - 姓名\n",
      "(None, '姓名', '數學') - 數學\n",
      "(None, '洪一忠', 96) - None\n",
      "(None, '洪一忠', 96) - 洪一忠\n",
      "(None, '洪一忠', 96) - 96\n",
      "(None, '陳二郎', '缺席') - None\n",
      "(None, '陳二郎', '缺席') - 陳二郎\n",
      "(None, '陳二郎', '缺席') - 缺席\n",
      "(None, '張小五', 90) - None\n",
      "(None, '張小五', 90) - 張小五\n",
      "(None, '張小五', 90) - 90\n",
      "(None, '莊開關', '缺席') - None\n",
      "(None, '莊開關', '缺席') - 莊開關\n",
      "(None, '莊開關', '缺席') - 缺席\n",
      "(None, '陳進儀', 60) - None\n",
      "(None, '陳進儀', 60) - 陳進儀\n",
      "(None, '陳進儀', 60) - 60\n",
      "(None, '平均', None) - None\n",
      "(None, '平均', None) - 平均\n",
      "(None, '平均', None) - None\n",
      "----------------------------------\n",
      "\n",
      "<Cell '工作表1'.B2> - 深智新進員工測驗\n",
      "<Cell '工作表1'.B3> - 姓名\n",
      "<Cell '工作表1'.C3> - 數學\n",
      "<Cell '工作表1'.B4> - 洪一忠\n",
      "<Cell '工作表1'.C4> - 96\n",
      "<Cell '工作表1'.B5> - 陳二郎\n",
      "<Cell '工作表1'.C5> - 缺席\n",
      "<Cell '工作表1'.B6> - 張小五\n",
      "<Cell '工作表1'.C6> - 90\n",
      "<Cell '工作表1'.B7> - 莊開關\n",
      "<Cell '工作表1'.C7> - 缺席\n",
      "<Cell '工作表1'.B8> - 陳進儀\n",
      "<Cell '工作表1'.C8> - 60\n",
      "<Cell '工作表1'.B9> - 平均\n",
      "----------------------------------\n",
      "\n",
      "儲存格 B2 =  深智新進員工測驗\n",
      "儲存格 B3 =  姓名\n",
      "儲存格 B4 =  洪一忠\n",
      "儲存格 C3 =  數學\n",
      "儲存格 C4 =  96\n"
     ]
    }
   ],
   "source": [
    "import openpyxl\n",
    "\n",
    "fn = 'data3_2.xlsx'\n",
    "wb = openpyxl.load_workbook(fn)\n",
    "\n",
    "ws = wb.active\n",
    "\n",
    "for row in ws.iter_rows(values_only=True):\n",
    "    for cell in row:\n",
    "        print(f'{row} - {cell}')\n",
    "\n",
    "print('----------------------------------\\n')\n",
    "for row in ws.iter_rows():\n",
    "    for cell in row:\n",
    "        if cell.value != None:\n",
    "            print(f'{cell} - {cell.value}')\n",
    "        \n",
    "        \n",
    "print('----------------------------------\\n')\n",
    "print(\"儲存格 B2 = \", ws['B2'].value)\n",
    "print(\"儲存格 B3 = \", ws['B3'].value)\n",
    "print(\"儲存格 B4 = \", ws['B4'].value)\n",
    "print(\"儲存格 C3 = \", ws['C3'].value)\n",
    "print(\"儲存格 C4 = \", ws['C4'].value)\n",
    "\n",
    "        \n",
    "\n",
    "wb.close()"
   ]
  },
  {
   "cell_type": "markdown",
   "id": "4638b7a1-c712-4653-a5e6-7c69d3a06090",
   "metadata": {},
   "source": [
    "# 使用 cell() 設定儲存格的值\n",
    "ws.cell(row = ..., column = ..., value = '...')\n",
    "或\n",
    "ws.cell(row = ..., column = ...).value = '...'"
   ]
  },
  {
   "cell_type": "code",
   "execution_count": 3,
   "id": "e0225f0f-5968-44a7-8b40-5b0aa8ff926b",
   "metadata": {},
   "outputs": [],
   "source": [
    "import openpyxl\n",
    "\n",
    "wb = openpyxl.Workbook()               # 建立空白的活頁簿\n",
    "ws = wb.active\n",
    "\n",
    "ws.cell(row = 2, column = 1, value='Apple')    # A2\n",
    "ws.cell(row = 3, column = 1, value='Orange')   # A3\n",
    "ws.cell(row = 2, column = 2, value=200)        # B2\n",
    "ws.cell(row = 3, column = 2, value=300)        # B3\n",
    "\n",
    "wb.save('out3_3.xlsx')\n",
    "\n",
    "wb.close()"
   ]
  },
  {
   "cell_type": "code",
   "execution_count": 4,
   "id": "a6c129dd-4e19-4dad-aff6-0e42d77cecea",
   "metadata": {},
   "outputs": [],
   "source": [
    "import openpyxl\n",
    "\n",
    "wb = openpyxl.Workbook()               # 建立空白的活頁簿\n",
    "ws = wb.active\n",
    "\n",
    "ws.cell(row = 2, column = 1).value='Apple'    # A2\n",
    "ws.cell(row = 3, column = 1).value='Orange'   # A3\n",
    "ws.cell(row = 2, column = 2).value=200        # B2\n",
    "ws.cell(row = 3, column = 2).value=300        # B3\n",
    "\n",
    "wb.save('out3_4.xlsx')\n",
    "\n",
    "wb.close()"
   ]
  },
  {
   "cell_type": "markdown",
   "id": "297a329e-1fcd-4184-94f6-1a02f54a4fb8",
   "metadata": {},
   "source": [
    "# 使用 cell() 取得儲存格的值\n",
    "data = ws.cell(row = ..., column = ...).value"
   ]
  },
  {
   "cell_type": "code",
   "execution_count": 6,
   "id": "3570c872-b5c7-43c2-82e1-d446a136d7c4",
   "metadata": {},
   "outputs": [
    {
     "name": "stdout",
     "output_type": "stream",
     "text": [
      "儲存格 B2 =  深智新進員工測驗\n",
      "儲存格 B3 =  姓名\n",
      "儲存格 B4 =  洪一忠\n",
      "儲存格 C3 =  數學\n",
      "儲存格 C4 =  96\n"
     ]
    }
   ],
   "source": [
    "import openpyxl\n",
    "\n",
    "fn = 'data3_2.xlsx'\n",
    "wb = openpyxl.load_workbook(fn)\n",
    "\n",
    "ws = wb.active\n",
    "\n",
    "print(\"儲存格 B2 = \", ws.cell(row=2, column=2).value)    # B2\n",
    "print(\"儲存格 B3 = \", ws.cell(row=3, column=2).value)    # B3\n",
    "print(\"儲存格 B4 = \", ws.cell(row=4, column=2).value)    # B4\n",
    "print(\"儲存格 C3 = \", ws.cell(row=3, column=3).value)    # C3\n",
    "print(\"儲存格 C4 = \", ws.cell(row=4, column=3).value)    # C4\n",
    "        \n",
    "wb.close()"
   ]
  },
  {
   "cell_type": "markdown",
   "id": "b0e6bde7-9b1b-4612-89b6-3cca2378d510",
   "metadata": {},
   "source": [
    "# 回傳 年/月/日 格式的日期\n",
    "strftime(\"%Y/%mm/%dd\")"
   ]
  },
  {
   "cell_type": "code",
   "execution_count": 12,
   "id": "ce79f009-b294-4496-9b3f-b2c21bab6feb",
   "metadata": {},
   "outputs": [
    {
     "ename": "PermissionError",
     "evalue": "[Errno 13] Permission denied: 'out3_5.xlsx'",
     "output_type": "error",
     "traceback": [
      "\u001b[1;31m---------------------------------------------------------------------------\u001b[0m",
      "\u001b[1;31mPermissionError\u001b[0m                           Traceback (most recent call last)",
      "Cell \u001b[1;32mIn [12], line 15\u001b[0m\n\u001b[0;32m     12\u001b[0m ws[\u001b[38;5;124m'\u001b[39m\u001b[38;5;124mB3\u001b[39m\u001b[38;5;124m'\u001b[39m] \u001b[38;5;241m=\u001b[39m \u001b[38;5;241m1097\u001b[39m\n\u001b[0;32m     13\u001b[0m ws[\u001b[38;5;124m'\u001b[39m\u001b[38;5;124mB4\u001b[39m\u001b[38;5;124m'\u001b[39m] \u001b[38;5;241m=\u001b[39m \u001b[38;5;241m742\u001b[39m\n\u001b[1;32m---> 15\u001b[0m \u001b[43mwb\u001b[49m\u001b[38;5;241;43m.\u001b[39;49m\u001b[43msave\u001b[49m\u001b[43m(\u001b[49m\u001b[38;5;124;43m'\u001b[39;49m\u001b[38;5;124;43mout3_5.xlsx\u001b[39;49m\u001b[38;5;124;43m'\u001b[39;49m\u001b[43m)\u001b[49m\n\u001b[0;32m     16\u001b[0m wb\u001b[38;5;241m.\u001b[39mclose()\n",
      "File \u001b[1;32m~\\AppData\\Local\\Programs\\Python\\Python311\\Lib\\site-packages\\openpyxl\\workbook\\workbook.py:407\u001b[0m, in \u001b[0;36mWorkbook.save\u001b[1;34m(self, filename)\u001b[0m\n\u001b[0;32m    405\u001b[0m \u001b[38;5;28;01mif\u001b[39;00m \u001b[38;5;28mself\u001b[39m\u001b[38;5;241m.\u001b[39mwrite_only \u001b[38;5;129;01mand\u001b[39;00m \u001b[38;5;129;01mnot\u001b[39;00m \u001b[38;5;28mself\u001b[39m\u001b[38;5;241m.\u001b[39mworksheets:\n\u001b[0;32m    406\u001b[0m     \u001b[38;5;28mself\u001b[39m\u001b[38;5;241m.\u001b[39mcreate_sheet()\n\u001b[1;32m--> 407\u001b[0m \u001b[43msave_workbook\u001b[49m\u001b[43m(\u001b[49m\u001b[38;5;28;43mself\u001b[39;49m\u001b[43m,\u001b[49m\u001b[43m \u001b[49m\u001b[43mfilename\u001b[49m\u001b[43m)\u001b[49m\n",
      "File \u001b[1;32m~\\AppData\\Local\\Programs\\Python\\Python311\\Lib\\site-packages\\openpyxl\\writer\\excel.py:291\u001b[0m, in \u001b[0;36msave_workbook\u001b[1;34m(workbook, filename)\u001b[0m\n\u001b[0;32m    279\u001b[0m \u001b[38;5;28;01mdef\u001b[39;00m \u001b[38;5;21msave_workbook\u001b[39m(workbook, filename):\n\u001b[0;32m    280\u001b[0m     \u001b[38;5;124;03m\"\"\"Save the given workbook on the filesystem under the name filename.\u001b[39;00m\n\u001b[0;32m    281\u001b[0m \n\u001b[0;32m    282\u001b[0m \u001b[38;5;124;03m    :param workbook: the workbook to save\u001b[39;00m\n\u001b[1;32m   (...)\u001b[0m\n\u001b[0;32m    289\u001b[0m \n\u001b[0;32m    290\u001b[0m \u001b[38;5;124;03m    \"\"\"\u001b[39;00m\n\u001b[1;32m--> 291\u001b[0m     archive \u001b[38;5;241m=\u001b[39m \u001b[43mZipFile\u001b[49m\u001b[43m(\u001b[49m\u001b[43mfilename\u001b[49m\u001b[43m,\u001b[49m\u001b[43m \u001b[49m\u001b[38;5;124;43m'\u001b[39;49m\u001b[38;5;124;43mw\u001b[39;49m\u001b[38;5;124;43m'\u001b[39;49m\u001b[43m,\u001b[49m\u001b[43m \u001b[49m\u001b[43mZIP_DEFLATED\u001b[49m\u001b[43m,\u001b[49m\u001b[43m \u001b[49m\u001b[43mallowZip64\u001b[49m\u001b[38;5;241;43m=\u001b[39;49m\u001b[38;5;28;43;01mTrue\u001b[39;49;00m\u001b[43m)\u001b[49m\n\u001b[0;32m    292\u001b[0m     writer \u001b[38;5;241m=\u001b[39m ExcelWriter(workbook, archive)\n\u001b[0;32m    293\u001b[0m     writer\u001b[38;5;241m.\u001b[39msave()\n",
      "File \u001b[1;32m~\\AppData\\Local\\Programs\\Python\\Python311\\Lib\\zipfile.py:1281\u001b[0m, in \u001b[0;36mZipFile.__init__\u001b[1;34m(self, file, mode, compression, allowZip64, compresslevel, strict_timestamps, metadata_encoding)\u001b[0m\n\u001b[0;32m   1279\u001b[0m \u001b[38;5;28;01mwhile\u001b[39;00m \u001b[38;5;28;01mTrue\u001b[39;00m:\n\u001b[0;32m   1280\u001b[0m     \u001b[38;5;28;01mtry\u001b[39;00m:\n\u001b[1;32m-> 1281\u001b[0m         \u001b[38;5;28mself\u001b[39m\u001b[38;5;241m.\u001b[39mfp \u001b[38;5;241m=\u001b[39m io\u001b[38;5;241m.\u001b[39mopen(file, filemode)\n\u001b[0;32m   1282\u001b[0m     \u001b[38;5;28;01mexcept\u001b[39;00m \u001b[38;5;167;01mOSError\u001b[39;00m:\n\u001b[0;32m   1283\u001b[0m         \u001b[38;5;28;01mif\u001b[39;00m filemode \u001b[38;5;129;01min\u001b[39;00m modeDict:\n",
      "\u001b[1;31mPermissionError\u001b[0m: [Errno 13] Permission denied: 'out3_5.xlsx'"
     ]
    }
   ],
   "source": [
    "import openpyxl\n",
    "import time\n",
    "\n",
    "wb = openpyxl.Workbook()\n",
    "ws = wb.active\n",
    "\n",
    "ws['A1'] = time.strftime(\"%Y/%mm/%dd\")\n",
    "ws['A2'] = '期貨行情'\n",
    "ws['A3'] = '小麥'\n",
    "ws['A4'] = '玉米'\n",
    "\n",
    "ws['B3'] = 1097\n",
    "ws['B4'] = 742\n",
    "\n",
    "wb.save('out3_5.xlsx')\n",
    "wb.close()"
   ]
  }
 ],
 "metadata": {
  "@deathbeds/ipydrawio": {
   "xml": ""
  },
  "kernelspec": {
   "display_name": "Python 3 (ipykernel)",
   "language": "python",
   "name": "python3"
  },
  "language_info": {
   "codemirror_mode": {
    "name": "ipython",
    "version": 3
   },
   "file_extension": ".py",
   "mimetype": "text/x-python",
   "name": "python",
   "nbconvert_exporter": "python",
   "pygments_lexer": "ipython3",
   "version": "3.11.0"
  },
  "widgets": {
   "application/vnd.jupyter.widget-state+json": {
    "state": {},
    "version_major": 2,
    "version_minor": 0
   }
  }
 },
 "nbformat": 4,
 "nbformat_minor": 5
}
