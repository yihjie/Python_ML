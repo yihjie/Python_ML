{
 "cells": [
  {
   "cell_type": "code",
   "execution_count": 3,
   "id": "1c5e7586-73d0-45d9-bc0d-48be89045e4e",
   "metadata": {},
   "outputs": [
    {
     "name": "stdout",
     "output_type": "stream",
     "text": [
      "<Cell '工作表1'.B2> - 深智業績表\n",
      "<Cell '工作表1'.B3> - 姓名\n",
      "<Cell '工作表1'.C3> - 業績\n",
      "<Cell '工作表1'.B4> - 洪冰儒\n",
      "<Cell '工作表1'.C4> - 98000\n",
      "<Cell '工作表1'.B5> - 洪雨星\n",
      "<Cell '工作表1'.C5> - 87600\n",
      "<Cell '工作表1'.B6> - 洪星宇\n",
      "<Cell '工作表1'.C6> - 125600\n",
      "<Cell '工作表1'.B7> - 最高業績\n",
      "<Cell '工作表1'.C7> - =MAX(C4:C6)\n",
      "<Cell '工作表1'.B8> - 最低業績\n",
      "<Cell '工作表1'.C8> - =MIN(C4:C6)\n"
     ]
    }
   ],
   "source": [
    "import openpyxl\n",
    "\n",
    "fn = 'data3_6.xlsx'\n",
    "wb = openpyxl.load_workbook(fn)\n",
    "\n",
    "ws = wb.active\n",
    "for row in ws.iter_rows():\n",
    "    for cell in row:\n",
    "        if cell.value != None:\n",
    "            print(f'{cell} - {cell.value}')\n",
    "\n",
    "wb.close()"
   ]
  },
  {
   "cell_type": "code",
   "execution_count": 5,
   "id": "fddeacd4-f3e6-470b-b0de-e8a0ae59601e",
   "metadata": {},
   "outputs": [
    {
     "name": "stdout",
     "output_type": "stream",
     "text": [
      "<Cell '工作表1'.B2> - 深智業績表\n",
      "<Cell '工作表1'.B3> - 姓名\n",
      "<Cell '工作表1'.C3> - 業績\n",
      "<Cell '工作表1'.B4> - 洪冰儒\n",
      "<Cell '工作表1'.C4> - 98000\n",
      "<Cell '工作表1'.B5> - 洪雨星\n",
      "<Cell '工作表1'.C5> - 87600\n",
      "<Cell '工作表1'.B6> - 洪星宇\n",
      "<Cell '工作表1'.C6> - 125600\n",
      "<Cell '工作表1'.B7> - 最高業績\n",
      "<Cell '工作表1'.C7> - 125600\n",
      "<Cell '工作表1'.B8> - 最低業績\n",
      "<Cell '工作表1'.C8> - 87600\n"
     ]
    }
   ],
   "source": [
    "# load_workbook(data_only=True) --> 取得數值結果，而非純儲存格內的公式(值)\n",
    "\n",
    "import openpyxl\n",
    "\n",
    "fn = 'data3_6.xlsx'\n",
    "wb = openpyxl.load_workbook(fn, data_only=True)\n",
    "\n",
    "ws = wb.active\n",
    "for row in ws.iter_rows():\n",
    "    for cell in row:\n",
    "        if cell.value != None:\n",
    "            print(f'{cell} - {cell.value}')\n",
    "\n",
    "wb.close()"
   ]
  }
 ],
 "metadata": {
  "kernelspec": {
   "display_name": "Python 3 (ipykernel)",
   "language": "python",
   "name": "python3"
  },
  "language_info": {
   "codemirror_mode": {
    "name": "ipython",
    "version": 3
   },
   "file_extension": ".py",
   "mimetype": "text/x-python",
   "name": "python",
   "nbconvert_exporter": "python",
   "pygments_lexer": "ipython3",
   "version": "3.11.0"
  },
  "widgets": {
   "application/vnd.jupyter.widget-state+json": {
    "state": {},
    "version_major": 2,
    "version_minor": 0
   }
  }
 },
 "nbformat": 4,
 "nbformat_minor": 5
}
