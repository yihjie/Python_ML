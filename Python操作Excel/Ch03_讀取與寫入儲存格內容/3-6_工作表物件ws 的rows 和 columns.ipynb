{
 "cells": [
  {
   "cell_type": "code",
   "execution_count": 1,
   "id": "3b9eb36c-b074-4687-83da-fa575df9b7b2",
   "metadata": {},
   "outputs": [
    {
     "name": "stdout",
     "output_type": "stream",
     "text": [
      "<class 'generator'>\n",
      "<class 'generator'>\n"
     ]
    }
   ],
   "source": [
    "import openpyxl\n",
    "\n",
    "fn = 'data3_16.xlsx'\n",
    "wb = openpyxl.load_workbook(fn)\n",
    "ws = wb.active\n",
    "print(type(ws.rows))\n",
    "print(type(ws.columns))\n",
    "\n",
    "wb.close()"
   ]
  },
  {
   "cell_type": "code",
   "execution_count": 6,
   "id": "62ac429a-3f3e-46a4-98f6-4b9e42c937b6",
   "metadata": {},
   "outputs": [
    {
     "name": "stdout",
     "output_type": "stream",
     "text": [
      "天空SPA客戶資料\n",
      "姓名\n",
      "洪冰儒\n",
      "洪雨星\n",
      "洪星宇\n",
      "洪冰雨\n",
      "郭孟華\n",
      "陳新華\n",
      "謝冰\n",
      "^^-- Columns --^^\n",
      "vv-- Rows --vv\n",
      "洪冰儒 士林 男 170 會員 "
     ]
    }
   ],
   "source": [
    "import openpyxl\n",
    "\n",
    "fn = 'data3_16.xlsx'\n",
    "wb = openpyxl.load_workbook(fn)\n",
    "ws = wb.active\n",
    "\n",
    "for cell in list(ws.columns)[0]:   # A\n",
    "    print(cell.value)\n",
    "print('^^-- Columns --^^\\nvv-- Rows --vv')\n",
    "for cell in list(ws.rows)[2]:   # row = 3\n",
    "    print(cell.value, end=' ')\n",
    "    \n",
    "wb.close()"
   ]
  },
  {
   "cell_type": "code",
   "execution_count": 8,
   "id": "8c9561fc-a68a-423e-8872-dc3f10f51403",
   "metadata": {},
   "outputs": [
    {
     "name": "stdout",
     "output_type": "stream",
     "text": [
      "天空SPA客戶資料 \n",
      "姓名 地區 性別 身高 身份 \n",
      "洪冰儒 士林 男 170 會員 \n",
      "洪雨星 中正 男 165 會員 \n",
      "洪星宇 信義 男 171 非會員 \n",
      "洪冰雨 信義 女 162 會員 \n",
      "郭孟華 士林 女 165 會員 \n",
      "陳新華 信義 男 178 會員 \n",
      "謝冰 士林 女 166 會員 \n"
     ]
    }
   ],
   "source": [
    "import openpyxl\n",
    "\n",
    "fn = 'data3_16.xlsx'\n",
    "wb = openpyxl.load_workbook(fn)\n",
    "ws = wb.active\n",
    "\n",
    "for row in ws.rows:\n",
    "    for cell in row:\n",
    "        if cell.value != None:\n",
    "            print(cell.value, end= ' ')\n",
    "    print()\n",
    "    \n",
    "wb.close()"
   ]
  },
  {
   "cell_type": "code",
   "execution_count": 12,
   "id": "b7dfd1d9-f26a-4eaa-bfa1-e6361c5db833",
   "metadata": {},
   "outputs": [
    {
     "name": "stdout",
     "output_type": "stream",
     "text": [
      "天空SPA客戶資料 姓名 洪冰儒 洪雨星 洪星宇 洪冰雨 郭孟華 陳新華 謝冰 \n",
      "地區 士林 中正 信義 信義 士林 信義 士林 \n",
      "性別 男 男 男 女 女 男 女 \n",
      "身高 170 165 171 162 165 178 166 \n",
      "身份 會員 會員 非會員 會員 會員 會員 會員 \n"
     ]
    }
   ],
   "source": [
    "import openpyxl\n",
    "\n",
    "fn = 'data3_16.xlsx'\n",
    "wb = openpyxl.load_workbook(fn)\n",
    "ws = wb.active\n",
    "\n",
    "for column in ws.columns:\n",
    "    for cell in column:\n",
    "        if cell.value != None:\n",
    "            print(cell.value, end= ' ')\n",
    "    print()\n",
    "    \n",
    "wb.close()"
   ]
  },
  {
   "cell_type": "code",
   "execution_count": 15,
   "id": "3da5f1ec-6b03-4c03-9c03-c5c9c406b54d",
   "metadata": {},
   "outputs": [
    {
     "name": "stdout",
     "output_type": "stream",
     "text": [
      "工作表有資料最小列數 = 1\n",
      "工作表有資料最大列數 = 4\n",
      "工作表有資料最小欄數 = 1\n",
      "工作表有資料最大欄數 = 4\n"
     ]
    }
   ],
   "source": [
    "import openpyxl\n",
    "\n",
    "fn = 'data3_19_1.xlsx'\n",
    "wb = openpyxl.load_workbook(fn)\n",
    "ws = wb.active\n",
    "\n",
    "print(f\"工作表有資料最小列數 = {ws.min_row}\")\n",
    "print(f\"工作表有資料最大列數 = {ws.max_row}\")\n",
    "print(f\"工作表有資料最小欄數 = {ws.min_column}\")\n",
    "print(f\"工作表有資料最大欄數 = {ws.max_column}\")\n",
    "    \n",
    "wb.close()"
   ]
  },
  {
   "cell_type": "code",
   "execution_count": 16,
   "id": "e2899767-e6cc-40af-9f50-2f8448c84e11",
   "metadata": {},
   "outputs": [
    {
     "name": "stdout",
     "output_type": "stream",
     "text": [
      "6 10 \n",
      "7 11 \n"
     ]
    }
   ],
   "source": [
    "import openpyxl\n",
    "\n",
    "fn = 'data3_19_1.xlsx'\n",
    "wb = openpyxl.load_workbook(fn)\n",
    "ws = wb.active\n",
    "\n",
    "for row in ws.iter_rows(min_row=2, max_row=3, min_col=2, max_col=3):\n",
    "    for cell in row:\n",
    "        print(cell.value, end=' ')\n",
    "    print()\n",
    "    \n",
    "wb.close()"
   ]
  },
  {
   "cell_type": "code",
   "execution_count": 17,
   "id": "fc450570-a631-4e8f-8f95-e83834303110",
   "metadata": {},
   "outputs": [
    {
     "name": "stdout",
     "output_type": "stream",
     "text": [
      "6 7 \n",
      "10 11 \n"
     ]
    }
   ],
   "source": [
    "import openpyxl\n",
    "\n",
    "fn = 'data3_19_1.xlsx'\n",
    "wb = openpyxl.load_workbook(fn)\n",
    "ws = wb.active\n",
    "\n",
    "for col in ws.iter_cols(min_row=2, max_row=3, min_col=2, max_col=3):\n",
    "    for cell in col:\n",
    "        print(cell.value, end=' ')\n",
    "    print()\n",
    "    \n",
    "wb.close()"
   ]
  },
  {
   "cell_type": "code",
   "execution_count": 21,
   "id": "1741afa1-2e93-4b33-bd8d-9193b044c5da",
   "metadata": {},
   "outputs": [
    {
     "name": "stdout",
     "output_type": "stream",
     "text": [
      "天空SPA客戶資料\t\n",
      "姓名\t地區\t性別\t身高\t身份\t\n",
      "洪冰儒\t士林\t男\t170\t會員\t\n",
      "洪雨星\t中正\t男\t165\t會員\t\n",
      "洪星宇\t信義\t男\t171\t非會員\t\n",
      "洪冰雨\t信義\t女\t162\t會員\t\n",
      "郭孟華\t士林\t女\t165\t會員\t\n",
      "陳新華\t信義\t男\t178\t會員\t\n",
      "謝冰\t士林\t女\t166\t會員\t\n"
     ]
    }
   ],
   "source": [
    "import openpyxl\n",
    "\n",
    "fn = 'data3_16.xlsx'\n",
    "wb = openpyxl.load_workbook(fn)\n",
    "ws = wb.active\n",
    "\n",
    "for row in ws['A1':'E9']:\n",
    "    for cell in row:\n",
    "        if cell.value != None:\n",
    "            print(cell.value, end='\\t')\n",
    "    print()\n",
    "    \n",
    "wb.close()"
   ]
  },
  {
   "cell_type": "code",
   "execution_count": 22,
   "id": "abea100c-2d47-4dde-a499-f404bc473393",
   "metadata": {},
   "outputs": [
    {
     "name": "stdout",
     "output_type": "stream",
     "text": [
      "地區\t士林\t中正\t信義\t信義\t士林\t信義\t士林\t\n",
      "性別\t男\t男\t男\t女\t女\t男\t女\t\n",
      "身高\t170\t165\t171\t162\t165\t178\t166\t\n"
     ]
    }
   ],
   "source": [
    "import openpyxl\n",
    "\n",
    "fn = 'data3_16.xlsx'\n",
    "wb = openpyxl.load_workbook(fn)\n",
    "ws = wb.active\n",
    "\n",
    "data_range = ws['B':'D']\n",
    "for cols in data_range:\n",
    "    for cell in cols:\n",
    "        if cell.value != None:\n",
    "            print(cell.value, end='\\t')\n",
    "    print()\n",
    "    \n",
    "wb.close()"
   ]
  },
  {
   "cell_type": "code",
   "execution_count": 23,
   "id": "878e202b-a63c-4182-985f-6920b7e548b3",
   "metadata": {},
   "outputs": [
    {
     "name": "stdout",
     "output_type": "stream",
     "text": [
      "洪冰儒\t士林\t男\t170\t會員\t\n",
      "洪雨星\t中正\t男\t165\t會員\t\n",
      "洪星宇\t信義\t男\t171\t非會員\t\n",
      "洪冰雨\t信義\t女\t162\t會員\t\n"
     ]
    }
   ],
   "source": [
    "import openpyxl\n",
    "\n",
    "fn = 'data3_16.xlsx'\n",
    "wb = openpyxl.load_workbook(fn)\n",
    "ws = wb.active\n",
    "\n",
    "data_range = ws[3:6]\n",
    "for rows in data_range:\n",
    "    for cell in rows:\n",
    "        if cell.value != None:\n",
    "            print(cell.value, end='\\t')\n",
    "    print()\n",
    "    \n",
    "wb.close()"
   ]
  },
  {
   "cell_type": "code",
   "execution_count": 24,
   "id": "0aaedb19-4498-4aae-8624-140193444340",
   "metadata": {},
   "outputs": [
    {
     "name": "stdout",
     "output_type": "stream",
     "text": [
      "A1:E9\n"
     ]
    }
   ],
   "source": [
    "import openpyxl\n",
    "\n",
    "fn = 'data3_16.xlsx'\n",
    "wb = openpyxl.load_workbook(fn)\n",
    "ws = wb.active\n",
    "\n",
    "print(ws.dimensions)\n",
    "\n",
    "wb.close()"
   ]
  },
  {
   "cell_type": "code",
   "execution_count": 25,
   "id": "67f24659-e565-4ccb-b280-4a3265e408c4",
   "metadata": {},
   "outputs": [
    {
     "name": "stdout",
     "output_type": "stream",
     "text": [
      "天空SPA客戶資料\t\n",
      "姓名\t地區\t性別\t身高\t身份\t\n",
      "洪冰儒\t士林\t男\t170\t會員\t\n",
      "洪雨星\t中正\t男\t165\t會員\t\n",
      "洪星宇\t信義\t男\t171\t非會員\t\n",
      "洪冰雨\t信義\t女\t162\t會員\t\n",
      "郭孟華\t士林\t女\t165\t會員\t\n",
      "陳新華\t信義\t男\t178\t會員\t\n",
      "謝冰\t士林\t女\t166\t會員\t\n"
     ]
    }
   ],
   "source": [
    "import openpyxl\n",
    "\n",
    "fn = 'data3_16.xlsx'\n",
    "wb = openpyxl.load_workbook(fn)\n",
    "ws = wb.active\n",
    "\n",
    "for row in ws[ws.dimensions]:\n",
    "    for cell in row:\n",
    "        if cell.value != None:\n",
    "            print(cell.value, end='\\t')\n",
    "    print()\n",
    "\n",
    "wb.close()"
   ]
  },
  {
   "cell_type": "code",
   "execution_count": 27,
   "id": "6c783c0c-0fb1-4363-97eb-05f9ddb71862",
   "metadata": {},
   "outputs": [
    {
     "name": "stdout",
     "output_type": "stream",
     "text": [
      "---- before append ----\n",
      "\n",
      "---- Apped appended ----\n",
      "\n",
      "數學\t物理\t化學\t\n",
      "98\t82\t89\t\n"
     ]
    }
   ],
   "source": [
    "import openpyxl\n",
    "\n",
    "wb = openpyxl.Workbook()\n",
    "ws = wb.active\n",
    "\n",
    "print('---- before append ----')\n",
    "for row in ws[ws.dimensions]:\n",
    "    for cell in row:\n",
    "        if cell.value != None:\n",
    "            print(cell.value, end='\\t')\n",
    "    print()\n",
    "\n",
    "row1 = ['數學', '物理', '化學']\n",
    "ws.append(row1)\n",
    "row2 = [98, 82, 89]\n",
    "ws.append(row2)\n",
    "\n",
    "print('---- Apped appended ----')\n",
    "for row in ws[ws.dimensions]:\n",
    "    for cell in row:\n",
    "        if cell.value != None:\n",
    "            print(cell.value, end='\\t')\n",
    "    print()\n",
    "wb.save('out3_27.xlsx')\n",
    "wb.close()"
   ]
  },
  {
   "cell_type": "code",
   "execution_count": 28,
   "id": "f191265e-94ab-423c-b52e-af900855d7ce",
   "metadata": {},
   "outputs": [
    {
     "name": "stdout",
     "output_type": "stream",
     "text": [
      "---- before append ----\n",
      "\n",
      "---- Apped appended ----\n",
      "明志科技大學\t\n",
      "數學\t物理\t化學\t\n",
      "98\t82\t89\t\n",
      "79\t88\t90\t\n",
      "80\t78\t91\t\n"
     ]
    }
   ],
   "source": [
    "import openpyxl\n",
    "\n",
    "wb = openpyxl.Workbook()\n",
    "ws = wb.active\n",
    "\n",
    "print('---- before append ----')\n",
    "for row in ws[ws.dimensions]:\n",
    "    for cell in row:\n",
    "        if cell.value != None:\n",
    "            print(cell.value, end='\\t')\n",
    "    print()\n",
    "\n",
    "ws['A1'] = '明志科技大學'\n",
    "rows = [\n",
    "    ['數學', '物理', '化學'],\n",
    "    [    98,    82,     89],\n",
    "    [    79,    88,     90],\n",
    "    [    80,    78,     91]\n",
    "]\n",
    "\n",
    "for row in rows:\n",
    "    ws.append(row)\n",
    "\n",
    "print('---- Apped appended ----')\n",
    "for row in ws[ws.dimensions]:\n",
    "    for cell in row:\n",
    "        if cell.value != None:\n",
    "            print(cell.value, end='\\t')\n",
    "    print()\n",
    "wb.save('out3_28.xlsx')\n",
    "wb.close()"
   ]
  },
  {
   "cell_type": "markdown",
   "id": "86536c02-7a3a-4724-929a-516474e4445b",
   "metadata": {},
   "source": [
    "# 欄位的字母轉換成索引\n",
    "```\n",
    "from openpyxl.utils import get_column_letter, column_index_from_string\n",
    "```\n",
    "get_column_letter(index)\n",
    "\n",
    "column_index_from_string(character)"
   ]
  },
  {
   "cell_type": "code",
   "execution_count": 1,
   "id": "93f5de07-0387-402f-94c0-4128d1af925d",
   "metadata": {},
   "outputs": [
    {
     "name": "stdout",
     "output_type": "stream",
     "text": [
      "-- index to column letter --\n",
      "Column :  A\n",
      "    3  =  C\n",
      "   27  =  AA\n",
      "  100  =  CV\n",
      "  800  =  ADT\n",
      "\n",
      "-- column letter to index --\n",
      "    A  =  1\n",
      "    E  =  5\n",
      "   AA  =  27\n",
      "   AZ  =  52\n",
      "  AAA  =  703\n"
     ]
    }
   ],
   "source": [
    "import openpyxl\n",
    "from openpyxl.utils import get_column_letter, column_index_from_string\n",
    "\n",
    "wb = openpyxl.Workbook()\n",
    "ws = wb.active\n",
    "\n",
    "print(\"-- index to column letter --\")\n",
    "print(\"Column : \", get_column_letter(ws.max_column))\n",
    "print(\"    3  = \", get_column_letter(3))\n",
    "print(\"   27  = \", get_column_letter(27))\n",
    "print(\"  100  = \", get_column_letter(100))\n",
    "print(\"  800  = \", get_column_letter(800))\n",
    "print()\n",
    "print(\"-- column letter to index --\")\n",
    "print(\"    A  = \", column_index_from_string('A'))\n",
    "print(\"    E  = \", column_index_from_string('E'))\n",
    "print(\"   AA  = \", column_index_from_string('AA'))\n",
    "print(\"   AZ  = \", column_index_from_string('AZ'))\n",
    "print(\"  AAA  = \", column_index_from_string('AAA'))\n",
    "\n",
    "wb.close()"
   ]
  }
 ],
 "metadata": {
  "kernelspec": {
   "display_name": "Python 3 (ipykernel)",
   "language": "python",
   "name": "python3"
  },
  "language_info": {
   "codemirror_mode": {
    "name": "ipython",
    "version": 3
   },
   "file_extension": ".py",
   "mimetype": "text/x-python",
   "name": "python",
   "nbconvert_exporter": "python",
   "pygments_lexer": "ipython3",
   "version": "3.11.0"
  },
  "widgets": {
   "application/vnd.jupyter.widget-state+json": {
    "state": {},
    "version_major": 2,
    "version_minor": 0
   }
  }
 },
 "nbformat": 4,
 "nbformat_minor": 5
}
