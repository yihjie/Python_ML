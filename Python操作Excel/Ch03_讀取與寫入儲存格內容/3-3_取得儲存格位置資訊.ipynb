{
 "cells": [
  {
   "cell_type": "markdown",
   "id": "153f2b63-4487-4007-9735-ebf24e41ab53",
   "metadata": {},
   "source": [
    "ws['A1'].value       --> 取值\n",
    "ws['A1'].row         --> 取 row    = 1\n",
    "ws['A1'].column      --> 取 column = 1\n",
    "ws['A1'].coordinate  --> 取 cell   = A1"
   ]
  },
  {
   "cell_type": "code",
   "execution_count": 2,
   "id": "0895f0bd-701e-4554-980f-c8ea19ef37f2",
   "metadata": {},
   "outputs": [
    {
     "name": "stdout",
     "output_type": "stream",
     "text": [
      "A1 = 品項\n",
      "A1 = column : 1, row : 1, coordinate : A1\n",
      "A2 = 滑鼠\n",
      "A2 = column : 1, row : 2, coordinate : A2\n",
      "B1 = 銷售金額\n",
      "B1 = column : 2, row : 1, coordinate : B1\n"
     ]
    }
   ],
   "source": [
    "import openpyxl\n",
    "\n",
    "fn = 'data3_10.xlsx'\n",
    "wb = openpyxl.load_workbook(fn)\n",
    "ws = wb.active\n",
    "\n",
    "print(f\"A1 = {ws['A1'].value}\")\n",
    "print(f\"A1 = column : {ws['A1'].column}, row : {ws['A1'].row}, coordinate : {ws['A1'].coordinate}\")\n",
    "print(f\"A2 = {ws['A2'].value}\")\n",
    "print(f\"A2 = column : {ws['A2'].column}, row : {ws['A2'].row}, coordinate : {ws['A2'].coordinate}\")\n",
    "print(f\"B1 = {ws['B1'].value}\")\n",
    "print(f\"B1 = column : {ws['B1'].column}, row : {ws['B1'].row}, coordinate : {ws['B1'].coordinate}\")\n",
    "\n",
    "wb.close()"
   ]
  },
  {
   "cell_type": "code",
   "execution_count": 3,
   "id": "d7084762-cbc2-44a1-bbf2-599a7ad97082",
   "metadata": {},
   "outputs": [
    {
     "name": "stdout",
     "output_type": "stream",
     "text": [
      "工作表總欄數 = 4\n",
      "工作表總行數 = 11\n"
     ]
    }
   ],
   "source": [
    "import openpyxl\n",
    "\n",
    "fn = 'data3_11.xlsx'\n",
    "wb = openpyxl.load_workbook(fn)\n",
    "ws = wb.active\n",
    "\n",
    "print(f\"工作表總欄數 = {ws.max_column}\")\n",
    "print(f\"工作表總行數 = {ws.max_row}\")\n",
    "\n",
    "wb.close()"
   ]
  },
  {
   "cell_type": "code",
   "execution_count": 4,
   "id": "54087bde-a422-4998-bc1c-dfdcd54e76e7",
   "metadata": {},
   "outputs": [
    {
     "name": "stdout",
     "output_type": "stream",
     "text": [
      "日期 品項 金額 "
     ]
    }
   ],
   "source": [
    "# 輸出 column 內容\n",
    "import openpyxl\n",
    "\n",
    "fn = 'data3_11.xlsx'\n",
    "wb = openpyxl.load_workbook(fn)\n",
    "ws = wb.active\n",
    "\n",
    "for i in range(2, ws.max_column + 1):\n",
    "    print(ws.cell(row=3, column=i).value, end=' ')\n",
    "\n",
    "wb.close()"
   ]
  },
  {
   "cell_type": "code",
   "execution_count": 7,
   "id": "09e71c9e-435a-4740-b32f-e87a23d462df",
   "metadata": {},
   "outputs": [
    {
     "name": "stdout",
     "output_type": "stream",
     "text": [
      "STARKCOFFEE進貨單\n",
      "日期\n",
      "2021-03-08 00:00:00\n",
      "2021-03-15 00:00:00\n",
      "2021-03-20 00:00:00\n",
      "2021-03-22 00:00:00\n",
      "2021-04-08 00:00:00\n",
      "2021-04-09 00:00:00\n",
      "2021-04-10 00:00:00\n",
      "2021-05-05 00:00:00\n"
     ]
    }
   ],
   "source": [
    "# 輸出 row 內容\n",
    "import openpyxl\n",
    "\n",
    "fn = 'data3_11.xlsx'\n",
    "wb = openpyxl.load_workbook(fn)\n",
    "ws = wb.active\n",
    "\n",
    "for i in range(2, ws.max_row + 1):\n",
    "    print(ws.cell(row=i, column=2).value)\n",
    "\n",
    "wb.close()"
   ]
  },
  {
   "cell_type": "code",
   "execution_count": 11,
   "id": "ce90790c-8971-4894-a7dc-4463b25abfa5",
   "metadata": {},
   "outputs": [
    {
     "name": "stdout",
     "output_type": "stream",
     "text": [
      "品項 銷售金額 \n",
      "滑鼠 6000 \n",
      "鍵盤 3000 \n",
      "螢幕 4200 \n",
      "小計 =SUM(B2:B4) \n"
     ]
    }
   ],
   "source": [
    "# 輸出區間內容\n",
    "import openpyxl\n",
    "\n",
    "fn = 'data3_14.xlsx'\n",
    "wb = openpyxl.load_workbook(fn)\n",
    "ws = wb.active\n",
    "\n",
    "for i in range(1, ws.max_row + 1):\n",
    "    for j in range(1, ws.max_column + 1):\n",
    "        print(ws.cell(row=i, column=j).value, end=\" \")\n",
    "    print()\n",
    "\n",
    "wb.close()"
   ]
  },
  {
   "cell_type": "code",
   "execution_count": 18,
   "id": "abc8a751-f7d5-46df-8391-158e612d3df9",
   "metadata": {},
   "outputs": [
    {
     "name": "stdout",
     "output_type": "stream",
     "text": [
      "品項 銷售金額 \n",
      "-------------\n",
      "滑鼠 6000 \n",
      "鍵盤 3000 \n",
      "螢幕 4200 \n",
      "-------------\n",
      "小計 13200 \n"
     ]
    }
   ],
   "source": [
    "# 輸出區間內容 及 公式結果\n",
    "import openpyxl\n",
    "\n",
    "fn = 'data3_14.xlsx'\n",
    "wb = openpyxl.load_workbook(fn, data_only=True)\n",
    "ws = wb.active\n",
    "\n",
    "for i in range(1, ws.max_row + 1):\n",
    "    for j in range(1, ws.max_column + 1):\n",
    "        print(ws.cell(row=i, column=j).value, end=\" \")\n",
    "    \n",
    "    print()\n",
    "    if i == ws.max_row - 1 or i == 1:\n",
    "        print('-------------')\n",
    "\n",
    "wb.close()"
   ]
  },
  {
   "cell_type": "code",
   "execution_count": null,
   "id": "d7e12fcb-a0df-459e-81c4-a5790f2b0419",
   "metadata": {},
   "outputs": [],
   "source": []
  }
 ],
 "metadata": {
  "kernelspec": {
   "display_name": "Python 3 (ipykernel)",
   "language": "python",
   "name": "python3"
  },
  "language_info": {
   "codemirror_mode": {
    "name": "ipython",
    "version": 3
   },
   "file_extension": ".py",
   "mimetype": "text/x-python",
   "name": "python",
   "nbconvert_exporter": "python",
   "pygments_lexer": "ipython3",
   "version": "3.11.0"
  },
  "widgets": {
   "application/vnd.jupyter.widget-state+json": {
    "state": {},
    "version_major": 2,
    "version_minor": 0
   }
  }
 },
 "nbformat": 4,
 "nbformat_minor": 5
}
