{
 "cells": [
  {
   "cell_type": "markdown",
   "id": "153f2b63-4487-4007-9735-ebf24e41ab53",
   "metadata": {},
   "source": [
    "ws['A1'].value       --> 取值\n",
    "ws['A1'].row         --> 取 row    = 1\n",
    "ws['A1'].column      --> 取 column = 1\n",
    "ws['A1'].coordinate  --> 取 cell   = A1"
   ]
  },
  {
   "cell_type": "code",
   "execution_count": 2,
   "id": "0895f0bd-701e-4554-980f-c8ea19ef37f2",
   "metadata": {},
   "outputs": [
    {
     "name": "stdout",
     "output_type": "stream",
     "text": [
      "A1 = 品項\n",
      "A1 = column : 1, row : 1, coordinate : A1\n",
      "A2 = 滑鼠\n",
      "A2 = column : 1, row : 2, coordinate : A2\n",
      "B1 = 銷售金額\n",
      "B1 = column : 2, row : 1, coordinate : B1\n"
     ]
    }
   ],
   "source": [
    "import openpyxl\n",
    "\n",
    "fn = 'data3_10.xlsx'\n",
    "wb = openpyxl.load_workbook(fn)\n",
    "ws = wb.active\n",
    "\n",
    "print(f\"A1 = {ws['A1'].value}\")\n",
    "print(f\"A1 = column : {ws['A1'].column}, row : {ws['A1'].row}, coordinate : {ws['A1'].coordinate}\")\n",
    "print(f\"A2 = {ws['A2'].value}\")\n",
    "print(f\"A2 = column : {ws['A2'].column}, row : {ws['A2'].row}, coordinate : {ws['A2'].coordinate}\")\n",
    "print(f\"B1 = {ws['B1'].value}\")\n",
    "print(f\"B1 = column : {ws['B1'].column}, row : {ws['B1'].row}, coordinate : {ws['B1'].coordinate}\")\n",
    "\n",
    "wb.close()"
   ]
  },
  {
   "cell_type": "code",
   "execution_count": null,
   "id": "d7084762-cbc2-44a1-bbf2-599a7ad97082",
   "metadata": {},
   "outputs": [],
   "source": []
  }
 ],
 "metadata": {
  "kernelspec": {
   "display_name": "Python 3 (ipykernel)",
   "language": "python",
   "name": "python3"
  },
  "language_info": {
   "codemirror_mode": {
    "name": "ipython",
    "version": 3
   },
   "file_extension": ".py",
   "mimetype": "text/x-python",
   "name": "python",
   "nbconvert_exporter": "python",
   "pygments_lexer": "ipython3",
   "version": "3.11.0"
  },
  "widgets": {
   "application/vnd.jupyter.widget-state+json": {
    "state": {},
    "version_major": 2,
    "version_minor": 0
   }
  }
 },
 "nbformat": 4,
 "nbformat_minor": 5
}
