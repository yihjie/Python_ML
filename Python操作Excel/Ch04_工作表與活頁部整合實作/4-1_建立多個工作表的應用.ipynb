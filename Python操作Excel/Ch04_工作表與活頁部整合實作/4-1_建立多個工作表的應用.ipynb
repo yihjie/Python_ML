{
 "cells": [
  {
   "cell_type": "code",
   "execution_count": 1,
   "id": "3571bf9a-2215-43fa-ac36-e4dbea544394",
   "metadata": {},
   "outputs": [],
   "source": [
    "import openpyxl\n",
    "from openpyxl.utils import get_column_letter\n",
    "\n",
    "wb = openpyxl.Workbook()\n",
    "\n",
    "ws1 = wb.active\n",
    "ws1.title = \"DataRange\"\n",
    "for row in range(1, 20):\n",
    "    ws1.append(range(500))\n",
    "\n",
    "ws2 = wb.create_sheet(title=\"School\")\n",
    "ws2['F5'] = '明志科技大學'\n",
    "\n",
    "ws3 = wb.create_sheet(title=\"Data\")\n",
    "for row in range(10, 20):\n",
    "    for col in range(27, 54):\n",
    "        ws3.cell(column=col, row=row, value=\"{0}\".format(get_column_letter(col)))\n",
    "\n",
    "wb.save('out4_1.xlsx')\n",
    "wb.close()"
   ]
  },
  {
   "cell_type": "code",
   "execution_count": 2,
   "id": "eb1bf95a-e7ed-4297-9534-c17ec475799b",
   "metadata": {},
   "outputs": [],
   "source": [
    "import openpyxl\n",
    "\n",
    "fn = 'data4_2.xlsx'\n",
    "wb = openpyxl.load_workbook(fn)\n",
    "ws = wb.active\n",
    "\n",
    "new_wb = openpyxl.Workbook()\n",
    "new_ws = new_wb.active\n",
    "\n",
    "for m in range(1, ws.max_row + 1):\n",
    "    for n in range(65, 65 + ws.max_column): # 65 == 'A'\n",
    "        ch = chr(n)                         # 將 ASCII 轉 Character\n",
    "        index = ch + str(m)                 # 組欄位名稱，例如 A1, A2, ...\n",
    "        data = ws[index].value\n",
    "        new_ws[index].value = data          # 寫入目的 worksheet\n",
    "\n",
    "new_wb.save('out4_2.xlsx')\n",
    "\n",
    "new_wb.close()\n",
    "wb.close()"
   ]
  },
  {
   "cell_type": "code",
   "execution_count": 5,
   "id": "7823deb7-a839-4d0f-90c3-27f2f18e1511",
   "metadata": {},
   "outputs": [],
   "source": [
    "import openpyxl\n",
    "\n",
    "fn = 'data4_2.xlsx'\n",
    "wb = openpyxl.load_workbook(fn)\n",
    "ws = wb.active\n",
    "\n",
    "new_wb = openpyxl.Workbook()\n",
    "new_ws = new_wb.active\n",
    "for data in ws.iter_rows(min_row=1, max_row=ws.max_row,\n",
    "                         min_col=1, max_col=ws.max_column,\n",
    "                         values_only=True):\n",
    "    value = list(data)\n",
    "    new_ws.append(value)\n",
    "\n",
    "new_wb.save('out4_3.xlsx')\n",
    "\n",
    "new_wb2 = openpyxl.Workbook()\n",
    "new_ws2 = new_wb2.active\n",
    "for data in ws.iter_rows(values_only=True):\n",
    "    new_ws2.append(list(data))\n",
    "\n",
    "new_wb2.save('out4_3_1.xlsx')\n",
    "new_wb2.close()\n",
    "\n",
    "new_wb.close()\n",
    "wb.close()"
   ]
  },
  {
   "cell_type": "code",
   "execution_count": 8,
   "id": "19cf7f1f-3212-4655-a6aa-24465afbe4ca",
   "metadata": {},
   "outputs": [],
   "source": [
    "import openpyxl\n",
    "\n",
    "fn = 'data4_2.xlsx'\n",
    "wb = openpyxl.load_workbook(fn)\n",
    "ws = wb.active\n",
    "\n",
    "dst = 'data4_4.xlsx'\n",
    "new_wb = openpyxl.load_workbook(dst)\n",
    "new_ws = new_wb.create_sheet(title='新SPA客戶表')\n",
    "for data in ws.iter_rows(values_only=True):\n",
    "    new_ws.append(list(data))\n",
    "\n",
    "new_wb.save('out4_4.xlsx')\n",
    "new_wb.close()\n",
    "wb.close()"
   ]
  },
  {
   "cell_type": "code",
   "execution_count": 20,
   "id": "45efeaea-c312-4b0e-8e69-a217c5b77edb",
   "metadata": {},
   "outputs": [
    {
     "name": "stdout",
     "output_type": "stream",
     "text": [
      "['台北店', '新竹店', '台中店', '高雄店']\n",
      "[<Worksheet \"台北店\">, <Worksheet \"新竹店\">, <Worksheet \"台中店\">, <Worksheet \"高雄店\">]\n"
     ]
    }
   ],
   "source": [
    "import openpyxl\n",
    "\n",
    "fn = 'data4_5.xlsx'\n",
    "wb = openpyxl.load_workbook(fn)\n",
    "\n",
    "dst = 'dst4_5.xlsx'\n",
    "new_wb = openpyxl.load_workbook(dst)\n",
    "print(wb.sheetnames)\n",
    "print(wb.worksheets)\n",
    "for i in range(len(wb.worksheets)):\n",
    "    ws = wb.worksheets[i]\n",
    "    dst_title = ws.title\n",
    "    new_ws = new_wb.create_sheet(title=dst_title)\n",
    "    for data in ws.iter_rows(values_only=True):\n",
    "        new_ws.append(list(data))\n",
    "\n",
    "new_wb.save('out4_5.xlsx')\n",
    "new_wb.close()\n",
    "wb.close()"
   ]
  },
  {
   "cell_type": "code",
   "execution_count": 21,
   "id": "15bad80f-c260-4d14-88b4-f48ea9e96f25",
   "metadata": {},
   "outputs": [],
   "source": [
    "import openpyxl\n",
    "\n",
    "fn = 'data4_5.xlsx'\n",
    "wb = openpyxl.load_workbook(fn)\n",
    "\n",
    "for i in range(len(wb.worksheets)):\n",
    "    ws = wb.worksheets[i]\n",
    "    f_name = ws.title\n",
    "    \n",
    "    new_wb = openpyxl.Workbook()\n",
    "    new_ws = new_wb.active\n",
    "    for data in ws.iter_rows(values_only=True):\n",
    "        new_ws.append(list(data))\n",
    "    new_wb.save(f_name + '.xlsx')\n",
    "    new_wb.close()\n",
    "\n",
    "wb.close()"
   ]
  },
  {
   "cell_type": "code",
   "execution_count": null,
   "id": "97d5089e-4c34-485b-93b4-f85d307bbb9d",
   "metadata": {},
   "outputs": [],
   "source": []
  }
 ],
 "metadata": {
  "kernelspec": {
   "display_name": "Python 3 (ipykernel)",
   "language": "python",
   "name": "python3"
  },
  "language_info": {
   "codemirror_mode": {
    "name": "ipython",
    "version": 3
   },
   "file_extension": ".py",
   "mimetype": "text/x-python",
   "name": "python",
   "nbconvert_exporter": "python",
   "pygments_lexer": "ipython3",
   "version": "3.11.0"
  },
  "widgets": {
   "application/vnd.jupyter.widget-state+json": {
    "state": {},
    "version_major": 2,
    "version_minor": 0
   }
  }
 },
 "nbformat": 4,
 "nbformat_minor": 5
}
