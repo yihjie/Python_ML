{
 "cells": [
  {
   "cell_type": "code",
   "execution_count": 1,
   "id": "3571bf9a-2215-43fa-ac36-e4dbea544394",
   "metadata": {},
   "outputs": [],
   "source": [
    "import openpyxl\n",
    "from openpyxl.utils import get_column_letter\n",
    "\n",
    "wb = openpyxl.Workbook()\n",
    "\n",
    "ws1 = wb.active\n",
    "ws1.title = \"DataRange\"\n",
    "for row in range(1, 20):\n",
    "    ws1.append(range(500))\n",
    "\n",
    "ws2 = wb.create_sheet(title=\"School\")\n",
    "ws2['F5'] = '明志科技大學'\n",
    "\n",
    "ws3 = wb.create_sheet(title=\"Data\")\n",
    "for row in range(10, 20):\n",
    "    for col in range(27, 54):\n",
    "        ws3.cell(column=col, row=row, value=\"{0}\".format(get_column_letter(col)))\n",
    "\n",
    "wb.save('out4_1.xlsx')\n",
    "wb.close()"
   ]
  },
  {
   "cell_type": "code",
   "execution_count": null,
   "id": "eb1bf95a-e7ed-4297-9534-c17ec475799b",
   "metadata": {},
   "outputs": [],
   "source": []
  }
 ],
 "metadata": {
  "kernelspec": {
   "display_name": "Python 3 (ipykernel)",
   "language": "python",
   "name": "python3"
  },
  "language_info": {
   "codemirror_mode": {
    "name": "ipython",
    "version": 3
   },
   "file_extension": ".py",
   "mimetype": "text/x-python",
   "name": "python",
   "nbconvert_exporter": "python",
   "pygments_lexer": "ipython3",
   "version": "3.11.0"
  },
  "widgets": {
   "application/vnd.jupyter.widget-state+json": {
    "state": {},
    "version_major": 2,
    "version_minor": 0
   }
  }
 },
 "nbformat": 4,
 "nbformat_minor": 5
}
