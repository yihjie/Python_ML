{
 "cells": [
  {
   "cell_type": "markdown",
   "id": "99e1a729-7994-4796-a1a3-cd4f25f75988",
   "metadata": {},
   "source": [
    "# 認識數字格式符號\n",
    "|符號|說明|格式|輸入|結果|\n",
    "|:--:|:--:|:--:|:--:|:--:|\n",
    "|#|預留數字格數|#.##|139.764|139.76|\n",
    "|0|預留數字格數，不足補 0|#.00|35.4|35.40|\n",
    "|?|預留數字格數，不足補 空格 | #.??|35.4|35.4 |\n",
    "|.|小數點|0.0|12.3|12.3|"
   ]
  },
  {
   "cell_type": "markdown",
   "id": "591492e4-5051-427b-80ce-0e2c8ddfd09f",
   "metadata": {},
   "source": [
    "```\n",
    "from openpyxl.styles.numbers import bulitin_format_code\n",
    "```"
   ]
  },
  {
   "cell_type": "code",
   "execution_count": 1,
   "id": "c8169dd1-b9bb-4394-bc49-fb9d93bb97fa",
   "metadata": {},
   "outputs": [
    {
     "name": "stdout",
     "output_type": "stream",
     "text": [
      "i = 0 : General\n",
      "i = 1 : 0\n",
      "i = 2 : 0.00\n",
      "i = 3 : #,##0\n",
      "i = 4 : #,##0.00\n",
      "i = 5 : \"$\"#,##0_);(\"$\"#,##0)\n",
      "i = 6 : \"$\"#,##0_);[Red](\"$\"#,##0)\n",
      "i = 7 : \"$\"#,##0.00_);(\"$\"#,##0.00)\n",
      "i = 8 : \"$\"#,##0.00_);[Red](\"$\"#,##0.00)\n",
      "i = 9 : 0%\n",
      "i = 10 : 0.00%\n",
      "i = 11 : 0.00E+00\n",
      "i = 12 : # ?/?\n",
      "i = 13 : # ??/??\n",
      "i = 14 : mm-dd-yy\n",
      "i = 15 : d-mmm-yy\n",
      "i = 16 : d-mmm\n",
      "i = 17 : mmm-yy\n",
      "i = 18 : h:mm AM/PM\n",
      "i = 19 : h:mm:ss AM/PM\n",
      "i = 20 : h:mm\n",
      "i = 21 : h:mm:ss\n",
      "i = 22 : m/d/yy h:mm\n",
      "i = 23 : None\n",
      "i = 24 : None\n",
      "i = 25 : None\n",
      "i = 26 : None\n",
      "i = 27 : None\n",
      "i = 28 : None\n",
      "i = 29 : None\n",
      "i = 30 : None\n",
      "i = 31 : None\n",
      "i = 32 : None\n",
      "i = 33 : None\n",
      "i = 34 : None\n",
      "i = 35 : None\n",
      "i = 36 : None\n",
      "i = 37 : #,##0_);(#,##0)\n",
      "i = 38 : #,##0_);[Red](#,##0)\n",
      "i = 39 : #,##0.00_);(#,##0.00)\n",
      "i = 40 : #,##0.00_);[Red](#,##0.00)\n",
      "i = 41 : _(* #,##0_);_(* \\(#,##0\\);_(* \"-\"_);_(@_)\n",
      "i = 42 : _(\"$\"* #,##0_);_(\"$\"* \\(#,##0\\);_(\"$\"* \"-\"_);_(@_)\n",
      "i = 43 : _(* #,##0.00_);_(* \\(#,##0.00\\);_(* \"-\"??_);_(@_)\n",
      "i = 44 : _(\"$\"* #,##0.00_)_(\"$\"* \\(#,##0.00\\)_(\"$\"* \"-\"??_)_(@_)\n",
      "i = 45 : mm:ss\n",
      "i = 46 : [h]:mm:ss\n",
      "i = 47 : mmss.0\n",
      "i = 48 : ##0.0E+0\n",
      "i = 49 : @\n"
     ]
    }
   ],
   "source": [
    "import openpyxl\n",
    "from openpyxl.styles.numbers import builtin_format_code\n",
    "\n",
    "for i in range(50):\n",
    "    print(f'i = {i} : {builtin_format_code(i)}')"
   ]
  }
 ],
 "metadata": {
  "kernelspec": {
   "display_name": "Python 3 (ipykernel)",
   "language": "python",
   "name": "python3"
  },
  "language_info": {
   "codemirror_mode": {
    "name": "ipython",
    "version": 3
   },
   "file_extension": ".py",
   "mimetype": "text/x-python",
   "name": "python",
   "nbconvert_exporter": "python",
   "pygments_lexer": "ipython3",
   "version": "3.11.0"
  },
  "widgets": {
   "application/vnd.jupyter.widget-state+json": {
    "state": {},
    "version_major": 2,
    "version_minor": 0
   }
  }
 },
 "nbformat": 4,
 "nbformat_minor": 5
}
