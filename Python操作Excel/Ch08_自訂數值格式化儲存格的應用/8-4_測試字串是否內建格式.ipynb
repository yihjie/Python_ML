{
 "cells": [
  {
   "cell_type": "markdown",
   "id": "59ce1b92-09a6-4b12-9057-71889b7f6bad",
   "metadata": {},
   "source": [
    "```\n",
    "from openpyxl.styles.numbers import is_builtin\n",
    "```"
   ]
  },
  {
   "cell_type": "code",
   "execution_count": 5,
   "id": "2b0d04cf-3144-47ee-aabc-68cfe5f0f8c3",
   "metadata": {},
   "outputs": [
    {
     "name": "stdout",
     "output_type": "stream",
     "text": [
      "True\n",
      "False\n",
      "False\n"
     ]
    }
   ],
   "source": [
    "import openpyxl\n",
    "from openpyxl.styles.numbers import is_builtin\n",
    "\n",
    "print(is_builtin('#,##0.00')) # builtin_format_code(4)\n",
    "print(is_builtin('0.000'))\n",
    "print(is_builtin('kkk'))"
   ]
  },
  {
   "cell_type": "markdown",
   "id": "b7f07722-e0a5-48b5-ab9e-4d73dc977572",
   "metadata": {},
   "source": [
    "```\n",
    "from openpyxl.styles.numbers import is_date_format\n",
    "```"
   ]
  },
  {
   "cell_type": "code",
   "execution_count": 6,
   "id": "b7d9d5a5-4c29-4c4c-bee0-8628e02928b0",
   "metadata": {},
   "outputs": [
    {
     "name": "stdout",
     "output_type": "stream",
     "text": [
      "False\n",
      "True\n",
      "True\n",
      "True\n"
     ]
    }
   ],
   "source": [
    "import openpyxl\n",
    "from openpyxl.styles.numbers import is_date_format\n",
    "\n",
    "print(is_date_format('#,##0.00'))\n",
    "print(is_date_format('mm-dd-yy'))\n",
    "print(is_date_format('yy-mm-dd'))\n",
    "print(is_date_format('d-mm-yy'))"
   ]
  },
  {
   "cell_type": "markdown",
   "id": "baae7c24-44c3-4976-b128-612377c570d4",
   "metadata": {},
   "source": [
    "```\n",
    "from openpyxl.styles.numbers import is_datetime\n",
    "```"
   ]
  },
  {
   "cell_type": "code",
   "execution_count": 8,
   "id": "9677c978-3007-4aaa-b524-6665cedd1bb2",
   "metadata": {
    "tags": []
   },
   "outputs": [
    {
     "name": "stdout",
     "output_type": "stream",
     "text": [
      "time\n",
      "date\n",
      "None\n",
      "date\n"
     ]
    }
   ],
   "source": [
    "import openpyxl\n",
    "from openpyxl.styles.numbers import is_datetime\n",
    "\n",
    "print(is_datetime('mm.ss'))\n",
    "print(is_datetime('mm-dd-yy'))\n",
    "print(is_datetime('#0.00'))\n",
    "print(is_datetime('d-mm-yy'))"
   ]
  },
  {
   "cell_type": "markdown",
   "id": "dba8e43d-55ae-413c-8bac-258f17e6bc63",
   "metadata": {},
   "source": [
    "```\n",
    "from openpyxl.styles.numbers import builtin_format_id\n",
    "```"
   ]
  },
  {
   "cell_type": "code",
   "execution_count": 9,
   "id": "910c0fa9-b708-4053-a85f-82d96d9eccbe",
   "metadata": {},
   "outputs": [
    {
     "name": "stdout",
     "output_type": "stream",
     "text": [
      "None\n",
      "14\n",
      "10\n",
      "2\n",
      "None\n",
      "None\n"
     ]
    }
   ],
   "source": [
    "import openpyxl\n",
    "from openpyxl.styles.numbers import builtin_format_id\n",
    "\n",
    "print(builtin_format_id('mm.ss'))\n",
    "print(builtin_format_id('mm-dd-yy'))\n",
    "print(builtin_format_id('0.00%'))\n",
    "print(builtin_format_id('0.00'))\n",
    "print(builtin_format_id('00.00'))\n",
    "print(builtin_format_id('d-mm-yy'))"
   ]
  },
  {
   "cell_type": "code",
   "execution_count": null,
   "id": "559bff6e-239c-4b15-82d2-8385e18d8ece",
   "metadata": {},
   "outputs": [],
   "source": []
  }
 ],
 "metadata": {
  "kernelspec": {
   "display_name": "Python 3 (ipykernel)",
   "language": "python",
   "name": "python3"
  },
  "language_info": {
   "codemirror_mode": {
    "name": "ipython",
    "version": 3
   },
   "file_extension": ".py",
   "mimetype": "text/x-python",
   "name": "python",
   "nbconvert_exporter": "python",
   "pygments_lexer": "ipython3",
   "version": "3.11.0"
  },
  "widgets": {
   "application/vnd.jupyter.widget-state+json": {
    "state": {},
    "version_major": 2,
    "version_minor": 0
   }
  }
 },
 "nbformat": 4,
 "nbformat_minor": 5
}
