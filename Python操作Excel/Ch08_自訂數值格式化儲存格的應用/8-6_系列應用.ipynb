{
 "cells": [
  {
   "cell_type": "code",
   "execution_count": 2,
   "id": "2ddbfd46-8cc0-4d69-ade6-bf6722ff5fb5",
   "metadata": {},
   "outputs": [],
   "source": [
    "import openpyxl\n",
    "\n",
    "fn = 'data8_6.xlsx'\n",
    "wb = openpyxl.load_workbook(fn)\n",
    "ws = wb.active\n",
    "\n",
    "# 複製 B2:B8 至 D2:D8\n",
    "for i in range(2,9):\n",
    "    ws['D' + str(i)].value = ws['B' + str(i)].value\n",
    "\n",
    "ws['B1'].value = '原始值'\n",
    "ws['C1'].value = '格式'\n",
    "ws['D1'].value = '套用格式後'\n",
    "\n",
    "\n",
    "# 套用格式\n",
    "ws['C2'].value = '#.##'\n",
    "ws['D2'].number_format = '#.##'\n",
    "\n",
    "ws['C3'].value = '#.##'\n",
    "ws['D3'].number_format = '#.##'\n",
    "\n",
    "ws['C4'].value = '#0.##'\n",
    "ws['D4'].number_format = '#0.##'\n",
    "\n",
    "ws['C5'].value = '#0.##'\n",
    "ws['D5'].number_format = '#0.##'\n",
    "\n",
    "ws['C6'].value = '000.00'\n",
    "ws['D6'].number_format = '000.00'\n",
    "\n",
    "ws['C7'].value = '#.00'\n",
    "ws['D7'].number_format = '#.00'\n",
    "\n",
    "ws['C8'].value = '[Red]#.00'\n",
    "ws['D8'].number_format = '[Red]#.00'\n",
    "\n",
    "wb.save('out8_1.xlsx')\n",
    "wb.close()"
   ]
  },
  {
   "cell_type": "code",
   "execution_count": 6,
   "id": "f40fe555-f646-45b8-9e19-808abb5bd058",
   "metadata": {},
   "outputs": [],
   "source": [
    "import openpyxl\n",
    "\n",
    "fn = 'data8_7.xlsx'\n",
    "wb = openpyxl.load_workbook(fn)\n",
    "ws = wb.active\n",
    "\n",
    "# 複製 B2:B7 至 D2:D7\n",
    "for i in range(2,8):\n",
    "    ws['D' + str(i)].value = ws['B' + str(i)].value\n",
    "\n",
    "ws['B1'].value = '原始值'\n",
    "ws['C1'].value = '格式'\n",
    "ws['D1'].value = '套用格式後'\n",
    "\n",
    "# 套用格式\n",
    "ws['C2'].value = 'm/d/yy'\n",
    "ws['D2'].number_format = 'm/d/yy'\n",
    "\n",
    "ws['C3'].value = 'mm-dd-yyyy'\n",
    "ws['D3'].number_format = 'mm-dd-yyyy'\n",
    "\n",
    "ws['C4'].value = 'yyyy-mm-dd'\n",
    "ws['D4'].number_format = 'yyyy-mm-dd'\n",
    "\n",
    "ws['C5'].value = 'd-mmm-yy'\n",
    "ws['D5'].number_format = 'd-mmm-yy'\n",
    "\n",
    "ws['C6'].value = 'h:mm AM/PM'\n",
    "ws['D6'].number_format = 'h:mm AM/PM'\n",
    "\n",
    "ws['C7'].value = 'h:mm'\n",
    "ws['D7'].number_format = 'h:mm'\n",
    "\n",
    "\n",
    "wb.save('out8_7.xlsx')\n",
    "wb.close()"
   ]
  },
  {
   "cell_type": "code",
   "execution_count": 9,
   "id": "8ba3a70f-b8e8-42e5-aaa1-37260402e373",
   "metadata": {},
   "outputs": [
    {
     "name": "stdout",
     "output_type": "stream",
     "text": [
      "D2 : #.##\n",
      "D3 : #.##\n",
      "D4 : #0.##\n",
      "D5 : #0.##\n",
      "D6 : 000.00\n",
      "D7 : #.00\n",
      "D8 : [Red]#.00\n"
     ]
    }
   ],
   "source": [
    "import openpyxl\n",
    "\n",
    "fn = 'out8_1.xlsx'\n",
    "wb = openpyxl.load_workbook(fn)\n",
    "ws = wb.active\n",
    "\n",
    "for i in range(2,9):\n",
    "    index = 'D' + str(i)\n",
    "    print(f'{index} : {ws[index].number_format}')\n",
    "\n",
    "wb.close()"
   ]
  },
  {
   "cell_type": "code",
   "execution_count": 12,
   "id": "e31a8ad5-4a6c-4b16-89f6-588d87e5e5f9",
   "metadata": {},
   "outputs": [],
   "source": [
    "# 日期應用\n",
    "import openpyxl\n",
    "import datetime\n",
    "\n",
    "wb = openpyxl.Workbook()\n",
    "ws = wb.active\n",
    "\n",
    "ws.column_dimensions['B'].width = 40\n",
    "ws.column_dimensions['C'].width = 40\n",
    "\n",
    "ws['B2'] = datetime.datetime.today()\n",
    "ws['C2'] = ws['B2'].number_format\n",
    "ws['B3'] = datetime.datetime.today()\n",
    "ws['B3'].number_format = 'yyyy-mm-dd hh:mm:ss'\n",
    "ws['C3'] = ws['B3'].number_format\n",
    "ws['B4'] = datetime.datetime.today()\n",
    "ws['B4'].number_format = 'yyyy年mm月dd日 hh時mm分ss秒'\n",
    "ws['C4'] = ws['B4'].number_format\n",
    "\n",
    "wb.save('out8_10.xlsx')\n",
    "wb.close()"
   ]
  },
  {
   "cell_type": "code",
   "execution_count": null,
   "id": "7cf767cd-5e33-4507-b48b-107d42adc733",
   "metadata": {},
   "outputs": [],
   "source": []
  }
 ],
 "metadata": {
  "kernelspec": {
   "display_name": "Python 3 (ipykernel)",
   "language": "python",
   "name": "python3"
  },
  "language_info": {
   "codemirror_mode": {
    "name": "ipython",
    "version": 3
   },
   "file_extension": ".py",
   "mimetype": "text/x-python",
   "name": "python",
   "nbconvert_exporter": "python",
   "pygments_lexer": "ipython3",
   "version": "3.11.0"
  },
  "widgets": {
   "application/vnd.jupyter.widget-state+json": {
    "state": {},
    "version_major": 2,
    "version_minor": 0
   }
  }
 },
 "nbformat": 4,
 "nbformat_minor": 5
}
