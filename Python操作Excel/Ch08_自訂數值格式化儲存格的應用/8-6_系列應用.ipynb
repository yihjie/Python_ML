{
 "cells": [
  {
   "cell_type": "code",
   "execution_count": 5,
   "id": "2ddbfd46-8cc0-4d69-ade6-bf6722ff5fb5",
   "metadata": {},
   "outputs": [],
   "source": [
    "import openpyxl\n",
    "\n",
    "fn = 'data8_1.xlsx'\n",
    "wb = openpyxl.load_workbook(fn)\n",
    "ws = wb.active\n",
    "\n",
    "# 複製 B2:B8 至 C2:C8\n",
    "for i in range(2,9):\n",
    "    ws['D' + str(i)].value = ws['B' + str(i)].value\n",
    "\n",
    "ws['B1'].value = '原始值'\n",
    "ws['C1'].value = '格式'\n",
    "ws['D1'].value = '套用格式後'\n",
    "\n",
    "\n",
    "# 套用格式\n",
    "ws['C2'].value = '#.##'\n",
    "ws['D2'].number_format = '#.##'\n",
    "\n",
    "ws['C3'].value = '#.##'\n",
    "ws['D3'].number_format = '#.##'\n",
    "\n",
    "ws['C4'].value = '#0.##'\n",
    "ws['D4'].number_format = '#0.##'\n",
    "\n",
    "ws['C5'].value = '#0.##'\n",
    "ws['D5'].number_format = '#0.##'\n",
    "\n",
    "ws['C6'].value = \n",
    "\n",
    "wb.save('out8_1.xlsx')\n",
    "wb.close()"
   ]
  },
  {
   "cell_type": "code",
   "execution_count": null,
   "id": "f40fe555-f646-45b8-9e19-808abb5bd058",
   "metadata": {},
   "outputs": [],
   "source": []
  }
 ],
 "metadata": {
  "kernelspec": {
   "display_name": "Python 3 (ipykernel)",
   "language": "python",
   "name": "python3"
  },
  "language_info": {
   "codemirror_mode": {
    "name": "ipython",
    "version": 3
   },
   "file_extension": ".py",
   "mimetype": "text/x-python",
   "name": "python",
   "nbconvert_exporter": "python",
   "pygments_lexer": "ipython3",
   "version": "3.11.0"
  },
  "widgets": {
   "application/vnd.jupyter.widget-state+json": {
    "state": {},
    "version_major": 2,
    "version_minor": 0
   }
  }
 },
 "nbformat": 4,
 "nbformat_minor": 5
}
