{
 "cells": [
  {
   "cell_type": "markdown",
   "id": "2a6c029e-a962-4bb7-949c-283d020f3115",
   "metadata": {},
   "source": [
    "## 在建立資料時，設定儲存格的內容限制\n",
    "\n",
    "# 資料驗證模組\n",
    "```\n",
    "from openpyxl.worksheet.datavalidation import Datavalidation\n",
    "\n",
    "dv = DataValidation(type, operator, formula_1, formula_2, allow_blank)\n",
    "\n",
    "dv.add()\n",
    "\n",
    "ws.add_data_validation(dv)\n",
    "```\n",
    "- type\n",
    "  * decimal\n",
    "  * whole\n",
    "  * time\n",
    "  * date\n",
    "  * list\n",
    "  * textLength\n",
    "  * custom\n",
    "- operator\n",
    "  * lessThan\n",
    "  * lessThanOrEqual\n",
    "  * greaterThan\n",
    "  * greaterThanOrEqual\n",
    "  * between\n",
    "  * notBetween\n",
    "  * equal\n",
    "  * notEqual\n",
    "- allow_blank\n",
    "  * True\n",
    "  * False\n"
   ]
  },
  {
   "cell_type": "code",
   "execution_count": null,
   "id": "1d831e86-079c-4d57-a5d5-4984def24fac",
   "metadata": {},
   "outputs": [],
   "source": []
  },
  {
   "cell_type": "code",
   "execution_count": null,
   "id": "809545d0-a69f-44f7-95b9-a0140260a8ac",
   "metadata": {},
   "outputs": [],
   "source": []
  }
 ],
 "metadata": {
  "kernelspec": {
   "display_name": "Python 3 (ipykernel)",
   "language": "python",
   "name": "python3"
  },
  "language_info": {
   "codemirror_mode": {
    "name": "ipython",
    "version": 3
   },
   "file_extension": ".py",
   "mimetype": "text/x-python",
   "name": "python",
   "nbconvert_exporter": "python",
   "pygments_lexer": "ipython3",
   "version": "3.11.0"
  },
  "widgets": {
   "application/vnd.jupyter.widget-state+json": {
    "state": {},
    "version_major": 2,
    "version_minor": 0
   }
  }
 },
 "nbformat": 4,
 "nbformat_minor": 5
}
