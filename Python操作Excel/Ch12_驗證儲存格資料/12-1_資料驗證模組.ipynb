{
 "cells": [
  {
   "cell_type": "markdown",
   "id": "2a6c029e-a962-4bb7-949c-283d020f3115",
   "metadata": {},
   "source": [
    "## 在建立資料時，設定儲存格的內容限制\n",
    "\n",
    "# 資料驗證模組\n",
    "```\n",
    "from openpyxl.worksheet.datavalidation import Datavalidation\n",
    "\n",
    "dv = DataValidation(type, operator, formula_1, formula_2, allow_blank)\n",
    "\n",
    "dv.add()\n",
    "\n",
    "ws.add_data_validation(dv)\n",
    "```\n",
    "- type\n",
    "  * decimal\n",
    "  * whole\n",
    "  * time\n",
    "  * date\n",
    "  * list\n",
    "  * textLength\n",
    "  * custom\n",
    "- operator\n",
    "  * lessThan\n",
    "  * lessThanOrEqual\n",
    "  * greaterThan\n",
    "  * greaterThanOrEqual\n",
    "  * between\n",
    "  * notBetween\n",
    "  * equal\n",
    "  * notEqual\n",
    "- allow_blank\n",
    "  * True\n",
    "  * False\n"
   ]
  },
  {
   "cell_type": "code",
   "execution_count": 1,
   "id": "1d831e86-079c-4d57-a5d5-4984def24fac",
   "metadata": {},
   "outputs": [],
   "source": [
    "# 限制 D3:D4 只能輸入 75 - 500 之間\n",
    "import openpyxl\n",
    "from openpyxl.worksheet.datavalidation import DataValidation\n",
    "\n",
    "fn = 'data12_1.xlsx'\n",
    "wb = openpyxl.load_workbook(fn)\n",
    "ws = wb.active\n",
    "\n",
    "# 1. 建立資料驗證規則\n",
    "dv = DataValidation(type='whole', operator='between', formula1=75, formula2=500)\n",
    "\n",
    "# 2. 設定資料驗證儲存格區間\n",
    "dv.add('D3:D4')\n",
    "\n",
    "# 3. 套用\n",
    "ws.add_data_validation(dv)\n",
    "\n",
    "wb.save('out12_1.xlsx')\n",
    "wb.close()"
   ]
  },
  {
   "cell_type": "code",
   "execution_count": 6,
   "id": "0f27321d-49ac-4074-81f3-aade46cb334d",
   "metadata": {},
   "outputs": [],
   "source": [
    "# 限制 D3:D4 只能輸入 75 - 500 之間\n",
    "# 加入驗證提醒\n",
    "import openpyxl\n",
    "from openpyxl.worksheet.datavalidation import DataValidation\n",
    "\n",
    "fn = 'data12_1.xlsx'\n",
    "wb = openpyxl.load_workbook(fn)\n",
    "ws = wb.active\n",
    "\n",
    "# 1. 建立資料驗證規則\n",
    "dv = DataValidation(type='whole', operator='between', formula1=75, formula2=500)\n",
    "\n",
    "# 2.1 設定驗證提醒\n",
    "dv.promptTitle = '請輸入計程車資'\n",
    "dv.prompt      = '請輸入 75 - 500 之間'\n",
    "\n",
    "# 2.2 設定資料驗證儲存格區間\n",
    "dv.add('D3:D4')\n",
    "\n",
    "# 3. 套用\n",
    "ws.add_data_validation(dv)\n",
    "\n",
    "wb.save('out12_2.xlsx')\n",
    "wb.close()"
   ]
  },
  {
   "cell_type": "code",
   "execution_count": 11,
   "id": "9b86e664-18e2-4123-9832-35f15cf18025",
   "metadata": {},
   "outputs": [],
   "source": [
    "# 驗證日期\n",
    "import openpyxl\n",
    "from openpyxl.worksheet.datavalidation import DataValidation\n",
    "\n",
    "fn = 'data12_3.xlsx'\n",
    "wb = openpyxl.load_workbook(fn)\n",
    "ws = wb.active\n",
    "\n",
    "# 1. 建立資料驗證規則\n",
    "dv = DataValidation(type='date', operator='lessThan', formula1='TODAY()')\n",
    "\n",
    "# 2.1. 設定驗證提醒\n",
    "dv.promptTitle = '輸入日期'\n",
    "dv.prompt      = '請輸入到職日期'\n",
    "\n",
    "# 2.2 設定資料驗證儲存格區間\n",
    "dv.add('C4')\n",
    "\n",
    "# 3. 套用\n",
    "ws.add_data_validation(dv)\n",
    "\n",
    "wb.save('out12_3.xlsx')\n",
    "wb.close()"
   ]
  },
  {
   "cell_type": "code",
   "execution_count": null,
   "id": "8fff6a4b-43de-4581-ae98-886ead50e80b",
   "metadata": {},
   "outputs": [],
   "source": []
  }
 ],
 "metadata": {
  "kernelspec": {
   "display_name": "Python 3 (ipykernel)",
   "language": "python",
   "name": "python3"
  },
  "language_info": {
   "codemirror_mode": {
    "name": "ipython",
    "version": 3
   },
   "file_extension": ".py",
   "mimetype": "text/x-python",
   "name": "python",
   "nbconvert_exporter": "python",
   "pygments_lexer": "ipython3",
   "version": "3.11.0"
  },
  "widgets": {
   "application/vnd.jupyter.widget-state+json": {
    "state": {},
    "version_major": 2,
    "version_minor": 0
   }
  }
 },
 "nbformat": 4,
 "nbformat_minor": 5
}
