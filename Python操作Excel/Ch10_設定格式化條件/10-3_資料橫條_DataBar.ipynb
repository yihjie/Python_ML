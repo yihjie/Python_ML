{
 "cells": [
  {
   "cell_type": "markdown",
   "id": "afc2807a-d832-4f7d-8c09-4429664767b2",
   "metadata": {},
   "source": [
    "# 資料橫條 DataBar\n",
    "* 常用/樣式/條件式格式設定/資料橫條/其他規則\n",
    "\n",
    "# DataBarRule()\n",
    "```\n",
    "from openpyxl.formatting.rule import DataBarRule\n",
    "\n",
    "DataBarRule(start_type, start_value, end_type, end_value, color, showValue, minLength, maxLength)\n",
    "```\n",
    "* start_type    : None | min | num | formula | percentile | percent\n",
    "* start_value   : if start_type=='min' then 可省略 | None\n",
    "* end_type      :        max | num | formula | percentile | percent\n",
    "* end_value     : if end_type=='max' then 可省略   | None\n",
    "* color         : None\n",
    "* showValue     : None\n",
    "* minLength     : None |   0 為左邊\n",
    "* maxLength     : None | 100 為右邊\n"
   ]
  },
  {
   "cell_type": "code",
   "execution_count": 1,
   "id": "c441009c-344e-410d-acb6-e9003933748f",
   "metadata": {},
   "outputs": [],
   "source": [
    "import openpyxl\n",
    "from openpyxl.formatting.rule import DataBarRule\n",
    "\n",
    "fn = 'data10_3.xlsx'\n",
    "wb = openpyxl.load_workbook(fn)\n",
    "ws = wb.active\n",
    "\n",
    "# 建立 A1:C10 資料橫條\n",
    "rule1 = DataBarRule(start_type='min', end_type='max', color='0000FF')\n",
    "ws.conditional_formatting.add('A1:C10', rule1)\n",
    "\n",
    "# 建立 E1:E10 資料橫條\n",
    "rule2 = DataBarRule(start_type='min', end_type='max', color='00FF00')\n",
    "ws.conditional_formatting.add('E1:E10', rule2)\n",
    "\n",
    "wb.save('out10_3.xlsx')\n",
    "wb.close()"
   ]
  },
  {
   "cell_type": "markdown",
   "id": "b1ab87f7-7293-4e56-92df-ac1502013ae1",
   "metadata": {},
   "source": [
    "# DataBar()\n",
    "```\n",
    "from openpyxl.formatting.rule import DataBar\n",
    "\n",
    "DataBar_obj = DataBar(cfvo, color, minLength, maxLength)\n",
    "```"
   ]
  },
  {
   "cell_type": "code",
   "execution_count": 6,
   "id": "ac325acc-314d-4a9b-b8c6-1f193414e09a",
   "metadata": {},
   "outputs": [],
   "source": [
    "import openpyxl\n",
    "from openpyxl.formatting.rule import DataBar, FormatObject, Rule\n",
    "\n",
    "fn = 'data10_3.xlsx'\n",
    "wb = openpyxl.load_workbook(fn)\n",
    "ws = wb.active\n",
    "\n",
    "# 建立 FormatObject - cfvos\n",
    "start = FormatObject(type='min')\n",
    "end   = FormatObject(type='max')\n",
    "cfvos = [start, end]\n",
    "\n",
    "# 建立 DataBar , rule1\n",
    "databar_1 = DataBar(cfvo=cfvos, color='0000FF')\n",
    "rule1 = Rule(type='dataBar', dataBar=databar_1)\n",
    "\n",
    "# 建立 DataBar , rule2\n",
    "databar_2 = DataBar(cfvo=cfvos, color='00FF00')\n",
    "rule2 = Rule(type='dataBar', dataBar=databar_2)\n",
    "\n",
    "# 執行設定\n",
    "ws.conditional_formatting.add('A1:C10', rule1)\n",
    "ws.conditional_formatting.add('E1:E10', rule2)\n",
    "\n",
    "wb.save('out10_4.xlsx')\n",
    "wb.close()"
   ]
  }
 ],
 "metadata": {
  "kernelspec": {
   "display_name": "Python 3 (ipykernel)",
   "language": "python",
   "name": "python3"
  },
  "language_info": {
   "codemirror_mode": {
    "name": "ipython",
    "version": 3
   },
   "file_extension": ".py",
   "mimetype": "text/x-python",
   "name": "python",
   "nbconvert_exporter": "python",
   "pygments_lexer": "ipython3",
   "version": "3.11.0"
  },
  "widgets": {
   "application/vnd.jupyter.widget-state+json": {
    "state": {},
    "version_major": 2,
    "version_minor": 0
   }
  }
 },
 "nbformat": 4,
 "nbformat_minor": 5
}
