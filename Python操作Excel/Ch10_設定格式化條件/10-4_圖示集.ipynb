{
 "cells": [
  {
   "cell_type": "markdown",
   "id": "8cd66f0e-05db-43da-9cbe-be7ffe087641",
   "metadata": {},
   "source": [
    "# 圖示集 IconSet\n",
    "* 常用/樣式/條件式格式設定/圖示集/其他規則\n",
    "```\n",
    "from openpyxl.formatting.rule import IconSetRule\n",
    "\n",
    "IconSetRule(icon_type, type, values, showValue, reverse)\n",
    "```\n",
    "* icon_type\n",
    "  - 3Arrows | 3ArrowsGray\n",
    "  - 3Flags\n",
    "  - 3TrafficLights1 | 3TrafficLights2\n",
    "  - 3Signs\n",
    "  - 3Symbols | 3Symbols2\n",
    "  - 4Arrows | 4ArrowsGray\n",
    "  - 4RedtoBlack\n",
    "  - 4Rating\n",
    "  - 4TrafficLights\n",
    "  - 5Arrows | 5ArrowsGray\n",
    "  - 5Rating\n",
    "  - 5Quarters"
   ]
  },
  {
   "cell_type": "code",
   "execution_count": null,
   "id": "1ee326bd-3a43-4a8e-88a3-1b838c9bc87d",
   "metadata": {},
   "outputs": [],
   "source": [
    "import openpyxl\n",
    "from openpyxl.formatting.rule import IconSetRule\n",
    "\n",
    "fn = 'data10_3.xlsx'\n",
    "wb = openpyxl.load_workbook(fn)\n",
    "ws = wb.active\n",
    "\n",
    "# 建立 A1:A10  -- 3Flags\n",
    "rule1 = IconSetRule(icon_style='3Flags', type='percent', values=[0, 33, 67], reverse=None)\n",
    "\n",
    "# 建立 B1:B10  -- 3TrafficLights1\n",
    "rule2 = IconSetRule(icon_style='3TrafficLights1', type='percent', values=[0, 33, 67], reverse=None)\n",
    "\n",
    "\n",
    "wb.save('out10_5.xlsx')\n",
    "wb.close()"
   ]
  }
 ],
 "metadata": {
  "kernelspec": {
   "display_name": "Python 3 (ipykernel)",
   "language": "python",
   "name": "python3"
  },
  "language_info": {
   "codemirror_mode": {
    "name": "ipython",
    "version": 3
   },
   "file_extension": ".py",
   "mimetype": "text/x-python",
   "name": "python",
   "nbconvert_exporter": "python",
   "pygments_lexer": "ipython3",
   "version": "3.11.0"
  },
  "widgets": {
   "application/vnd.jupyter.widget-state+json": {
    "state": {},
    "version_major": 2,
    "version_minor": 0
   }
  }
 },
 "nbformat": 4,
 "nbformat_minor": 5
}
