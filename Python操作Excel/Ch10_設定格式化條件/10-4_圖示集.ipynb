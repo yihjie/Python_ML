{
 "cells": [
  {
   "cell_type": "markdown",
   "id": "8cd66f0e-05db-43da-9cbe-be7ffe087641",
   "metadata": {},
   "source": [
    "# 圖示集 IconSet\n",
    "* 常用/樣式/條件式格式設定/圖示集/其他規則\n",
    "```\n",
    "from openpyxl.formatting.rule import IconSetRule\n",
    "\n",
    "IconSetRule(icon_type, type, values, showValue, reverse)\n",
    "```\n",
    "* icon_type\n",
    "  - 3Arrows | 3ArrowsGray\n",
    "  - 3Flags\n",
    "  - 3TrafficLights1 | 3TrafficLights2\n",
    "  - 3Signs\n",
    "  - 3Symbols | 3Symbols2\n",
    "  - 4Arrows | 4ArrowsGray\n",
    "  - 4RedtoBlack\n",
    "  - 4Rating\n",
    "  - 4TrafficLights\n",
    "  - 5Arrows | 5ArrowsGray\n",
    "  - 5Rating\n",
    "  - 5Quarters"
   ]
  },
  {
   "cell_type": "code",
   "execution_count": 10,
   "id": "1ee326bd-3a43-4a8e-88a3-1b838c9bc87d",
   "metadata": {},
   "outputs": [],
   "source": [
    "import openpyxl\n",
    "from openpyxl.formatting.rule import IconSetRule\n",
    "\n",
    "fn = 'data10_3.xlsx'\n",
    "wb = openpyxl.load_workbook(fn)\n",
    "ws = wb.active\n",
    "\n",
    "# 建立 rule1 = A1:A10  -- 3Flags\n",
    "# 建立 rule2 = B1:B10  -- 3TrafficLights1\n",
    "# 建立 rule3 = C1:C10 -- 4Arrows\n",
    "# 建立 rule4 = E1:E10 -- 5Rating\n",
    "rule1 = IconSetRule(icon_style='3Flags', type='percent', values=[0, 33, 67], reverse=None)\n",
    "rule2 = IconSetRule(icon_style='3TrafficLights1', type='percent', values=[0, 33, 67], reverse=None)\n",
    "rule3 = IconSetRule(icon_style='4Arrows', type='percent', values=[0, 25, 50, 75], reverse=None)\n",
    "rule4 = IconSetRule(icon_style='5Rating', type='percent', values=[0, 20, 40, 60, 80], reverse=None)\n",
    "\n",
    "# 執行\n",
    "rule_list = ['A1:A10', 'B1:B10', 'C1:C10', 'E1:E10']\n",
    "for i in range(0 , len(rule_list)):\n",
    "    ws.conditional_formatting.add(rule_list[i], locals()['rule' + str(i + 1)]) # locals()[] --> 把字串轉換回變數名稱\n",
    "\n",
    "wb.save('out10_5.xlsx')\n",
    "wb.close()"
   ]
  },
  {
   "cell_type": "markdown",
   "id": "7005d4a3-2284-426b-8185-2e2199a1257f",
   "metadata": {},
   "source": [
    "# IconSet()\n",
    "```\n",
    "iconSet_obj = DataBar(iconSet, cfvo, showValue, reverse)\n",
    "```"
   ]
  },
  {
   "cell_type": "code",
   "execution_count": 35,
   "id": "47720a6d-61c2-41f6-91c2-766c553d0511",
   "metadata": {},
   "outputs": [],
   "source": [
    "import openpyxl\n",
    "from openpyxl.formatting.rule import Rule, FormatObject, IconSet\n",
    "\n",
    "fn = 'data10_3.xlsx'\n",
    "wb = openpyxl.load_workbook(fn)\n",
    "ws = wb.active\n",
    "\n",
    "# 建立 FormatObject List --- 統一設定為 4級區間\n",
    "start  = FormatObject(type='percent', val=0)\n",
    "second = FormatObject(type='percent', val=25)\n",
    "third  = FormatObject(type='percent', val=50)\n",
    "end    = FormatObject(type='percent', val=75)\n",
    "cfvos  = [start, second, third, end]\n",
    "\n",
    "# 建立 IconSet Object\n",
    "iconset_1 = IconSet(iconSet='4Arrows', cfvo=cfvos, showValue=None, reverse=None)\n",
    "iconset_2 = IconSet(iconSet='4Rating', cfvo=cfvos, showValue=None, reverse=None)\n",
    "iconset_3 = IconSet(iconSet='4TrafficLights', cfvo=cfvos, showValue=None, reverse=None)\n",
    "iconset_4 = IconSet(iconSet='4ArrowsGray', cfvo=cfvos, showValue=None, reverse=None)\n",
    "\n",
    "# 建立 Rule Object\n",
    "rule_1 = Rule(type='iconSet', iconSet=iconset_1)\n",
    "rule_2 = Rule(type='iconSet', iconSet=iconset_2)\n",
    "rule_3 = Rule(type='iconSet', iconSet=iconset_3)\n",
    "rule_4 = Rule(type='iconSet', iconSet=iconset_4)\n",
    "\n",
    "# 執行\n",
    "rule_list = ['A1:A10', 'B1:B10', 'C1:C10', 'E1:E10']\n",
    "for i in range(0 , len(rule_list)):\n",
    "    ws.conditional_formatting.add(rule_list[i], locals()['rule_' +str(i + 1)]) # locals()[] --> 把字串轉換回變數名稱\n",
    "\n",
    "wb.save('out10_6.xlsx')\n",
    "wb.close()"
   ]
  },
  {
   "cell_type": "code",
   "execution_count": null,
   "id": "89faadb3-2898-4e3f-90d3-ca2d89372708",
   "metadata": {},
   "outputs": [],
   "source": []
  }
 ],
 "metadata": {
  "kernelspec": {
   "display_name": "Python 3 (ipykernel)",
   "language": "python",
   "name": "python3"
  },
  "language_info": {
   "codemirror_mode": {
    "name": "ipython",
    "version": 3
   },
   "file_extension": ".py",
   "mimetype": "text/x-python",
   "name": "python",
   "nbconvert_exporter": "python",
   "pygments_lexer": "ipython3",
   "version": "3.11.0"
  },
  "widgets": {
   "application/vnd.jupyter.widget-state+json": {
    "state": {},
    "version_major": 2,
    "version_minor": 0
   }
  }
 },
 "nbformat": 4,
 "nbformat_minor": 5
}
