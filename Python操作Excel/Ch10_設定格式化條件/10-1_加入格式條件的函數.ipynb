{
 "cells": [
  {
   "cell_type": "markdown",
   "id": "74583ee9-340a-48aa-b8ac-de8462242999",
   "metadata": {},
   "source": [
    "# 常用/樣式/條件式格式設定\n",
    "* 資料橫條 DataBar\n",
    "* 色階 ColorBar\n",
    "* 圖示集 IconSet\n",
    "\n",
    "```\n",
    "from openpyxl.formatting.rule import ColorScaleRule\n",
    "\n",
    "ws.conditional_formatting.add(cell_range, rule)\n",
    "```"
   ]
  },
  {
   "cell_type": "markdown",
   "id": "9ac29b27-25e0-4a9b-8df9-47d3900acbc3",
   "metadata": {},
   "source": [
    "# ColorScaleRule()\n",
    "```\n",
    "ColorScaleRule( start_type, start_value, start_color,\n",
    "                mid_type,   mid_value,   mid_color,\n",
    "                end_type,   end_value,   end_color)\n",
    "```\n",
    "\n",
    "* start_type : min | num | formula | percentile | percent\n",
    "* mid_type   :       num | formula | percentile | percent\n",
    "* end_type   : max | num | formula | percentile | percent\n",
    "\n",
    "* start_value : if start_type = min then 可以省略 | None\n",
    "* mid_value\n",
    "* end_value   : if end_type = max then 可以省略 | None\n"
   ]
  },
  {
   "cell_type": "code",
   "execution_count": 1,
   "id": "08bd9a87-9607-4188-a48e-c9c3c30a9453",
   "metadata": {},
   "outputs": [],
   "source": [
    "import openpyxl\n",
    "from openpyxl.formatting.rule import ColorScaleRule\n",
    "\n",
    "fn = 'data10_1.xlsx'\n",
    "wb = openpyxl.load_workbook(fn)\n",
    "ws = wb.active\n",
    "\n",
    "# 總分比較使用 2 色階來顯示\n",
    "ws.conditional_formatting.add('G2:G10',\n",
    "    ColorScaleRule(start_type='min', start_color='FFA500',                        # 橘色\n",
    "                    end_type='max',   end_color='00FF00'))                        # 綠色\n",
    "\n",
    "# 各科成績用 3 色階來顯示\n",
    "ws.conditional_formatting.add('B2:F10',\n",
    "    ColorScaleRule(start_type='min',                  start_color='FF0000',       # 紅色\n",
    "                   mid_type='percentile', mid_value=50, mid_color='FFFF00',       # 黃色\n",
    "                   end_type='max',                      end_color='00FF00'))      # 綠色\n",
    "\n",
    "wb.save('out10_1.xlsx')\n",
    "wb.close()"
   ]
  },
  {
   "cell_type": "code",
   "execution_count": null,
   "id": "01f6047d-196b-40b9-a67c-26ef203282a8",
   "metadata": {},
   "outputs": [],
   "source": []
  }
 ],
 "metadata": {
  "kernelspec": {
   "display_name": "Python 3 (ipykernel)",
   "language": "python",
   "name": "python3"
  },
  "language_info": {
   "codemirror_mode": {
    "name": "ipython",
    "version": 3
   },
   "file_extension": ".py",
   "mimetype": "text/x-python",
   "name": "python",
   "nbconvert_exporter": "python",
   "pygments_lexer": "ipython3",
   "version": "3.11.0"
  }
 },
 "nbformat": 4,
 "nbformat_minor": 5
}
