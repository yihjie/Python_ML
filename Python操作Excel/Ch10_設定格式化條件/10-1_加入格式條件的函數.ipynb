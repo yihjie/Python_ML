{
 "cells": [
  {
   "cell_type": "markdown",
   "id": "74583ee9-340a-48aa-b8ac-de8462242999",
   "metadata": {},
   "source": [
    "# 常用/樣式/條件式格式設定\n",
    "* 資料橫條 DataBar\n",
    "* 色階 ColorBar\n",
    "* 圖示集 IconSet\n",
    "\n",
    "```\n",
    "from openpyxl.formatting.rule import ColorScaleRule\n",
    "\n",
    "ws.conditional_formatting.add(cell_range, rule)\n",
    "```"
   ]
  },
  {
   "cell_type": "markdown",
   "id": "9ac29b27-25e0-4a9b-8df9-47d3900acbc3",
   "metadata": {},
   "source": [
    "# ColorScaleRule()\n",
    "```\n",
    "ColorScaleRule( start_type, start_value, start_color,\n",
    "                mid_type,   mid_value,   mid_color,\n",
    "                end_type,   end_value,   end_color)\n",
    "```\n",
    "\n",
    "* start_type : min | num | formula | percentile | percent\n",
    "* mid_type   :       num | formula | percentile | percent\n",
    "* end_type   : max | num | formula | percentile | percent\n",
    "\n",
    "* start_value : if start_type = min then 可以省略 | None\n",
    "* mid_value\n",
    "* end_value   : if end_type = max then 可以省略 | None\n"
   ]
  },
  {
   "cell_type": "code",
   "execution_count": 1,
   "id": "08bd9a87-9607-4188-a48e-c9c3c30a9453",
   "metadata": {},
   "outputs": [],
   "source": [
    "import openpyxl\n",
    "from openpyxl.formatting.rule import ColorScaleRule\n",
    "\n",
    "fn = 'data10_1.xlsx'\n",
    "wb = openpyxl.load_workbook(fn)\n",
    "ws = wb.active\n",
    "\n",
    "# 總分比較使用 2 色階來顯示\n",
    "ws.conditional_formatting.add('G2:G10',\n",
    "    ColorScaleRule(start_type='min', start_color='FFA500',                        # 橘色\n",
    "                    end_type='max',   end_color='00FF00'))                        # 綠色\n",
    "\n",
    "# 各科成績用 3 色階來顯示\n",
    "ws.conditional_formatting.add('B2:F10',\n",
    "    ColorScaleRule(start_type='min',                  start_color='FF0000',       # 紅色\n",
    "                   mid_type='percentile', mid_value=50, mid_color='FFFF00',       # 黃色\n",
    "                   end_type='max',                      end_color='00FF00'))      # 綠色\n",
    "\n",
    "wb.save('out10_1.xlsx')\n",
    "wb.close()"
   ]
  },
  {
   "cell_type": "markdown",
   "id": "589585c1-ee9c-495f-93ed-e07d7833bdc8",
   "metadata": {},
   "source": [
    "# ColorScale()\n",
    "```\n",
    "from openpyxl.formatting.rule import ColorScale, FormatObject\n",
    "\n",
    "colorscale_obj = ColorScale(cfvo, colors)\n",
    "```\n",
    "<font color='red'>cfvo</font> = [FormatObject（最小值), FormatObject (中間值), FormatObject(最大值)]\n",
    "\n",
    "```\n",
    "start = FormatObject(type='min')\n",
    "mid   = FormatObject(type='num', val=50)\n",
    "end   = FormatObject(type='max')\n",
    "\n",
    "cfvo = [start, mid, end]\n",
    "```\n",
    "\n",
    "<font color='red'>colors</font> = [Color(最小值的顏色), Color(中間值的顏色), Color(最大值的顏色)]\n",
    "\n",
    "```\n",
    "colors = [Color('FFFF00'), Color('F0F8FF'), Color('00FF00')]\n",
    "```\n"
   ]
  },
  {
   "cell_type": "markdown",
   "id": "83b31760-b970-4bc3-aa70-99b048f73bd5",
   "metadata": {},
   "source": [
    "# Rule()\n",
    "```\n",
    "from openpyxl.formatting.rule import Rule\n",
    "\n",
    "rule = Rule(type='colorScale', colorScale=colorscale_obj')\n",
    "```"
   ]
  },
  {
   "cell_type": "code",
   "execution_count": 2,
   "id": "086ff29e-8cae-4956-a456-4d52e0c77b13",
   "metadata": {},
   "outputs": [],
   "source": [
    "import openpyxl\n",
    "from openpyxl.styles import Color\n",
    "from openpyxl.formatting.rule import ColorScale, FormatObject, Rule\n",
    "\n",
    "fn = 'data10_2.xlsx'\n",
    "wb = openpyxl.load_workbook(fn)\n",
    "ws = wb.active\n",
    "\n",
    "# 建立 FormatObject - cfvos\n",
    "start = FormatObject(type='min')\n",
    "mid   = FormatObject(type='num', val=6000)\n",
    "end   = FormatObject(type='max')\n",
    "cfvos = [start, mid, end]\n",
    "\n",
    "# 建立 ColorObject - colors\n",
    "start_color = Color('FFFF00')\n",
    "mid_color   = Color('F0F8FF')\n",
    "end_color   = Color('00FF00')\n",
    "colors      = [start_color, mid_color, end_color]\n",
    "\n",
    "# 建立 ColorScale - colorscale_obj\n",
    "colorscale_obj = ColorScale(cfvos, colors)\n",
    "\n",
    "# 建立 Rule - rule\n",
    "rule = Rule(type='colorScale', colorScale=colorscale_obj)\n",
    "\n",
    "# 執行設定\n",
    "ws.conditional_formatting.add('C4:E10', rule)\n",
    "\n",
    "wb.save('out10_2.xlsx')\n",
    "wb.close()"
   ]
  },
  {
   "cell_type": "code",
   "execution_count": null,
   "id": "1c4d6510-1852-48ee-8d9d-cf9c617bcda0",
   "metadata": {},
   "outputs": [],
   "source": []
  }
 ],
 "metadata": {
  "kernelspec": {
   "display_name": "Python 3 (ipykernel)",
   "language": "python",
   "name": "python3"
  },
  "language_info": {
   "codemirror_mode": {
    "name": "ipython",
    "version": 3
   },
   "file_extension": ".py",
   "mimetype": "text/x-python",
   "name": "python",
   "nbconvert_exporter": "python",
   "pygments_lexer": "ipython3",
   "version": "3.11.0"
  },
  "widgets": {
   "application/vnd.jupyter.widget-state+json": {
    "state": {},
    "version_major": 2,
    "version_minor": 0
   }
  }
 },
 "nbformat": 4,
 "nbformat_minor": 5
}
