{
 "cells": [
  {
   "cell_type": "markdown",
   "id": "15ea41b9-db8e-49dd-b50e-f9b5505694af",
   "metadata": {},
   "source": [
    "# DATEDIF()\n",
    "DATEDIF(起始日, 終止日, 單位)\n",
    "\n",
    "單位：年(Y)、月(M)、日(D)、不滿一年的月數(YM)、不滿一年的日數(YD)、不滿一個月的日數(MD)"
   ]
  },
  {
   "cell_type": "code",
   "execution_count": 1,
   "id": "27077478-74a5-4c6f-8b61-d6f8159e8159",
   "metadata": {},
   "outputs": [],
   "source": [
    "import openpyxl\n",
    "\n",
    "fn = 'data9_5.xlsx'\n",
    "wb = openpyxl.load_workbook(fn)\n",
    "ws = wb.active\n",
    "\n",
    "ws['C3'] = '=TODAY()'\n",
    "ws['C3'].number_format = 'yyyy/mm/dd'\n",
    "\n",
    "# 李四\n",
    "ws['E6'] = '=DATEDIF(D6, $C$3, \"Y\")'\n",
    "ws['F6'] = '=DATEDIF(D6, $C$3, \"YM\")'\n",
    "ws['G6'] = '=DATEDIF(D6, $C$3, \"MD\")'\n",
    "\n",
    "wb.save('out9_5.xlsx')\n",
    "wb.close()"
   ]
  },
  {
   "cell_type": "markdown",
   "id": "c67483fb-2c5b-46a6-bcef-4a0b97637b21",
   "metadata": {},
   "source": [
    "# RANK()\n",
    "\n",
    "RANK(數值, 範圍, 排序方法)"
   ]
  },
  {
   "cell_type": "code",
   "execution_count": 2,
   "id": "d6460cb6-d0d3-4061-992b-6923d5a09bba",
   "metadata": {},
   "outputs": [],
   "source": [
    "import openpyxl\n",
    "\n",
    "fn = 'data9_6.xlsx'\n",
    "wb = openpyxl.load_workbook(fn)\n",
    "ws = wb.active\n",
    "\n",
    "ws['E4'] = '=RANK(D4, $D$4:$D$9)'\n",
    "\n",
    "wb.save('out9_6.xlsx')\n",
    "wb.close()"
   ]
  },
  {
   "cell_type": "markdown",
   "id": "85fa1a12-9f73-4b2e-b5cb-952022b9430f",
   "metadata": {},
   "source": [
    "# SUM() , MAX() , MIN()"
   ]
  },
  {
   "cell_type": "code",
   "execution_count": 3,
   "id": "16ecc0fa-7480-4953-afc6-5fec6ff17a6d",
   "metadata": {},
   "outputs": [],
   "source": [
    "import openpyxl\n",
    "\n",
    "fn = 'data9_7.xlsx'\n",
    "wb = openpyxl.load_workbook(fn)\n",
    "ws = wb.active\n",
    "\n",
    "ws['C7'] = '=SUM(C4:C6)'\n",
    "ws['C8'] = '=MAX(C4:C6)'\n",
    "ws['C9'] = '=MIN(C4:C6)'\n",
    "\n",
    "wb.save('out9_7.xlsx')\n",
    "wb.close()"
   ]
  },
  {
   "cell_type": "code",
   "execution_count": 26,
   "id": "44b200a3-729f-4071-86f0-90ca337c8bde",
   "metadata": {},
   "outputs": [],
   "source": [
    "import openpyxl\n",
    "\n",
    "wb = openpyxl.Workbook()\n",
    "ws = wb.active\n",
    "\n",
    "student_score = [{'Peter':98}, {'Janet':79}, {'Nelson':81}]\n",
    "\n",
    "# 登入學生及成績\n",
    "for i in range(1, len(student_score) + 1):\n",
    "    for student, score in student_score[i-1].items():\n",
    "        ws['A' + str(i)] = student\n",
    "        ws['B' + str(i)] = score\n",
    "    \n",
    "# 成績計算\n",
    "ws['A5'] = '總分'\n",
    "ws['B5'] = '=SUM(B1:B3)'\n",
    "ws['A6'] = '平均'\n",
    "ws['B6'] = '=AVERAGE(B1:B3)'\n",
    "ws['A7'] = '最高分'\n",
    "ws['B7'] = '=MAX(B1:B3)'\n",
    "ws['A8'] = '最低分'\n",
    "ws['B8'] = '=MIN(B1:B3)'\n",
    "\n",
    "wb.save('out9_7_1.xlsx')\n",
    "wb.close()"
   ]
  },
  {
   "cell_type": "code",
   "execution_count": 1,
   "id": "54d5f0f4-47a3-40dd-a242-c8788fabb172",
   "metadata": {},
   "outputs": [],
   "source": [
    "# 使用 for-loop 計算儲存格區間的值\n",
    "import openpyxl\n",
    "from openpyxl.utils import get_column_letter\n",
    "\n",
    "fn = 'data9_3.xlsx'\n",
    "wb = openpyxl.load_workbook(fn)\n",
    "ws = wb.active\n",
    "\n",
    "for i in range(3, 7): # column C, D, E, F\n",
    "    col = get_column_letter(i)\n",
    "    start_index = col + str(4)\n",
    "    end_index   = col + str(6)\n",
    "    sum_index   = col + str(7)\n",
    "    ws[sum_index] = \"=SUM({}:{})\".format(start_index, end_index)\n",
    "\n",
    "wb.save('out9_8.xlsx')\n",
    "wb.close()"
   ]
  },
  {
   "cell_type": "code",
   "execution_count": 2,
   "id": "69f46057-8f44-481f-ba56-f88249cf492c",
   "metadata": {},
   "outputs": [],
   "source": [
    "# 使用 for-loop 進行 RANK\n",
    "import openpyxl\n",
    "\n",
    "fn = 'data9_6.xlsx'\n",
    "wb = openpyxl.load_workbook(fn)\n",
    "ws = wb.active\n",
    "\n",
    "for i in range(4, 10): # row 4-9\n",
    "    compare_index = 'D' + str(i)\n",
    "    rank_index = 'E' + str(i)\n",
    "    ws[rank_index] = \"=RANK({}, $D$4:$D$9)\".format(compare_index)\n",
    "\n",
    "wb.save('out9_9.xlsx')\n",
    "wb.close()"
   ]
  },
  {
   "cell_type": "markdown",
   "id": "7b3b9e5b-16d2-4535-9d03-afcd9b7b4e57",
   "metadata": {},
   "source": [
    "# Translator() 複製公式\n",
    "```\n",
    "from openpyxl.formula.translate import Translator\n",
    "```\n",
    "\n",
    "## Translator(公式, origin=\"原位址\").translate_formula(\"新位址\")"
   ]
  },
  {
   "cell_type": "code",
   "execution_count": 6,
   "id": "f6d1ea0e-3f06-4e63-ade8-8445794d59bb",
   "metadata": {},
   "outputs": [],
   "source": [
    "import openpyxl\n",
    "from openpyxl.formula.translate import Translator\n",
    "from openpyxl.utils import get_column_letter\n",
    "\n",
    "fn = 'data9_3.xlsx'\n",
    "wb = openpyxl.load_workbook(fn)\n",
    "ws = wb.active\n",
    "\n",
    "# 基本公式\n",
    "ws['C7'] = \"=SUM(C$4:C$6)\"\n",
    "\n",
    "# 複製公式\n",
    "for i in range(4, 7): # column D, E, F\n",
    "    col = get_column_letter(i)\n",
    "    ws[col + '7'] = Translator(\"=SUM(C$4:C$6)\", origin=\"C7\").translate_formula(col + '7')\n",
    "\n",
    "wb.save('out9_10.xlsx')\n",
    "wb.close()"
   ]
  },
  {
   "cell_type": "code",
   "execution_count": 7,
   "id": "a106a5e8-9a15-495a-8e8e-2da7e3458f7a",
   "metadata": {},
   "outputs": [],
   "source": [
    "import openpyxl\n",
    "from openpyxl.formula.translate import Translator\n",
    "from openpyxl.utils import get_column_letter\n",
    "\n",
    "fn = 'data9_6.xlsx'\n",
    "wb = openpyxl.load_workbook(fn)\n",
    "ws = wb.active\n",
    "\n",
    "# 基本公式\n",
    "ws['E4'] = \"=RANK(D4,$D$4:$D$9)\"\n",
    "\n",
    "# 複製公式\n",
    "for i in range(4, 10): # row 4-9\n",
    "    rank_index = 'E' + str(i)\n",
    "    ws[rank_index] = Translator(\"=RANK(D4, $D$4:$D$9)\", origin=\"E4\").translate_formula(rank_index)\n",
    "\n",
    "wb.save('out9_11.xlsx')\n",
    "wb.close()"
   ]
  },
  {
   "cell_type": "code",
   "execution_count": null,
   "id": "088f45b0-6019-4858-bd70-285e2946f728",
   "metadata": {},
   "outputs": [],
   "source": []
  }
 ],
 "metadata": {
  "kernelspec": {
   "display_name": "Python 3 (ipykernel)",
   "language": "python",
   "name": "python3"
  },
  "language_info": {
   "codemirror_mode": {
    "name": "ipython",
    "version": 3
   },
   "file_extension": ".py",
   "mimetype": "text/x-python",
   "name": "python",
   "nbconvert_exporter": "python",
   "pygments_lexer": "ipython3",
   "version": "3.11.0"
  },
  "widgets": {
   "application/vnd.jupyter.widget-state+json": {
    "state": {},
    "version_major": 2,
    "version_minor": 0
   }
  }
 },
 "nbformat": 4,
 "nbformat_minor": 5
}
