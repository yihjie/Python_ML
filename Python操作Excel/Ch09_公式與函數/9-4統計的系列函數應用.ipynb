{
 "cells": [
  {
   "cell_type": "markdown",
   "id": "15ea41b9-db8e-49dd-b50e-f9b5505694af",
   "metadata": {},
   "source": [
    "# DATEDIF()\n",
    "DATEDIF(起始日, 終止日, 單位)\n",
    "\n",
    "單位：年(Y)、月(M)、日(D)、不滿一年的月數(YM)、不滿一年的日數(YD)、不滿一個月的日數(MD)"
   ]
  },
  {
   "cell_type": "code",
   "execution_count": null,
   "id": "27077478-74a5-4c6f-8b61-d6f8159e8159",
   "metadata": {},
   "outputs": [],
   "source": []
  }
 ],
 "metadata": {
  "kernelspec": {
   "display_name": "Python 3 (ipykernel)",
   "language": "python",
   "name": "python3"
  },
  "language_info": {
   "codemirror_mode": {
    "name": "ipython",
    "version": 3
   },
   "file_extension": ".py",
   "mimetype": "text/x-python",
   "name": "python",
   "nbconvert_exporter": "python",
   "pygments_lexer": "ipython3",
   "version": "3.11.0"
  },
  "widgets": {
   "application/vnd.jupyter.widget-state+json": {
    "state": {},
    "version_major": 2,
    "version_minor": 0
   }
  }
 },
 "nbformat": 4,
 "nbformat_minor": 5
}
