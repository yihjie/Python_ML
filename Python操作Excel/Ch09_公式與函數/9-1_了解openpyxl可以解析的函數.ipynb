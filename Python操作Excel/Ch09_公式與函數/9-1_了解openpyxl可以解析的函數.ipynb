{
 "cells": [
  {
   "cell_type": "markdown",
   "id": "fdf21642-5735-47b2-bab3-f505b6785085",
   "metadata": {},
   "source": [
    "# 列出 openpyxl 支援的函數\n",
    "```\n",
    "from openpyxl.utils import FPRMULAE\n",
    "```"
   ]
  },
  {
   "cell_type": "code",
   "execution_count": 1,
   "id": "47197fbc-33f3-434b-82f9-6d4dc401e33d",
   "metadata": {},
   "outputs": [
    {
     "name": "stdout",
     "output_type": "stream",
     "text": [
      "<class 'frozenset'>\n",
      "352\n",
      "frozenset({'TBILLEQ', 'POWER', 'OCT2BIN', 'LCM', 'ROW', 'CRITBINOM', 'COMPLEX', 'TANH', 'LOG', 'PHONETIC', 'RANDBETWEEN', 'CONCATENATE', 'DGET', 'VDB', 'ISNONTEXT', 'ATAN', 'IMSUB', 'DOLLARDE', 'CUBEMEMBERPROPERTY', 'INDIRECT', 'GETPIVOTDATA', 'ISNA', 'BIN2DEC', 'ATANH', 'ECMA.CEILING', 'RSQ', 'COMBIN', 'PROB', 'MINVERSE', 'PEARSON', 'DEC2HEX', 'FALSE', 'ABS', 'SERIESSUM', 'NORMSINV', 'NETWORKDAYS.INTL', 'LEN', 'ISLOGICAL', 'NPV', 'ISPMT', 'FIXED', 'ERFC', 'COS', 'SLOPE', 'SQRT', 'VALUE', 'DURATION', 'DATEDIF', 'WEIBULL', 'ROMAN', 'WORKDAY ', 'NOMINAL', 'DEC2BIN', 'PMT', 'LOWER', 'FACTDOUBLE', 'WEEKDAY', 'HEX2DEC', 'MMULT', 'MOD', 'ODDFYIELD', 'FREQUENCY', 'BESSELY', 'TRIM', 'CHITEST', 'DISC', 'LN', 'DEVSQ', 'LOOKUP', 'MIDB', 'N', 'QUOTIENT', 'IF', 'LEFT', 'HEX2BIN', 'DATEVALUE', 'ISODD', 'DVAR', 'DVARP', 'EVEN', 'IMARGUMENT', 'COUNT', 'FINV', 'OCT2HEX', 'GCD', 'CUBEKPIMEMBER', 'VARPA', 'NOT', 'FVSCHEDULE', 'T', 'ACOSH', 'CONVERT', 'CLEAN', 'MINA', 'IMLN', 'TIME', 'TDIST', 'AVERAGE', 'MEDIAN', 'PERCENTILE', 'OFFSET', 'SUMIF', 'XNPV', 'IMAGINARY', 'IMSQRT', 'EXP', 'LOGNORMDIST', 'AVEDEV', 'CUBESETCOUNT', 'PROPER', 'EDATE', 'SEARCH', 'GROWTH', 'DOLLARFR', 'SEARCHB', 'TTEST', 'DELTA', 'JIS', 'DCOUNTA', 'SUBTOTAL', 'BETAINV', 'NEGBINOMDIST', 'ISREF', 'SUMIFS', 'SKEW', 'FTEST', 'DMAX', 'GAMMADIST', 'PRICE', 'BESSELK', 'LINEST', 'COUNTBLANK', 'DOLLAR', 'ISBLANK', 'COUPNCD', 'AREAS', 'BIN2OCT', 'SUMSQ', 'DB', 'ISERROR', 'SUMX2PY2', 'ASIN', 'YEAR', 'OR', 'ACOS', 'DPRODUCT', 'CODE', 'INFO', 'IMABS', 'ISEVEN', 'AMORDEGRC', 'NOW', 'IMDIV', 'SINH', 'YIELDDISC', 'DEC2OCT', 'STANDARDIZE', 'PPMT', 'SUM', 'IMEXP', 'TRUNC', 'YEARFRAC', 'CEILING', 'RIGHT', 'NPER', 'DAY', 'ISTEXT', 'CUBESET', 'IMREAL', 'VAR', 'ISERR', 'HEX2OCT', 'TBILLPRICE', 'EOMONTH', 'RTD', 'CHIDIST', 'IMSUM', 'RECEIVED', 'REPLACE', 'BESSELI', 'POISSON', 'INTERCEPT', 'AVERAGEIFS', 'ATAN2', 'TINV', 'RANK', 'HLOOKUP', 'IPMT', 'BAHTTEXT', 'STDEVPA STEYX', 'DAYS360', 'RIGHTB', 'LENB', 'CHIINV', 'RATE', 'LOGEST', 'ROUNDDOWN', 'BINOMDIST', 'EXACT', 'COUPDAYS', 'GESTEP', 'EXPONDIST', 'MIRR', 'MAX', 'COUPDAYBS', 'GAMMAINV', 'ISO.CEILING', 'SIGN', 'DDB', 'IFERROR', 'INT', 'HARMEAN', 'ODDLYIELD', 'IMLOG10', 'ACCRINTM', 'PV', 'IMCOS', 'ZTEST', 'AVERAGEIF', 'ACCRINT', 'PRICEDISC', 'OCT2DEC', 'HYPERLINK', 'DATE', 'SYD', 'DAVERAGE', 'YIELDMAT', 'STDEV STDEVA', 'COUPDAYSNC', 'DEGREES', 'TYPE', 'MDURATION', 'GAMMALN', 'CUBERANKEDMEMBER', 'SIN', 'LEFTB', 'ODDFPRICE', 'INDEX', 'FLOOR', 'CUMIPMT', 'WORKDAY.INTL', 'SMALL', 'TIMEVALUE', 'ODD', 'CORREL', 'HOUR', 'COLUMNS', 'NORMDIST', 'AMORLINC', 'ISNUMBER', 'MODE', 'COUPNUM', 'DMIN', 'TRANSPOSE', 'IMCONJUGATE', 'COVAR', 'IMSIN', 'MATCH', 'ROUNDUP', 'ASINH', 'LOGINV', 'DSTDEVP', 'FDIST', 'MONTH', 'PI', 'MDETERM', 'TRUE ADDRESS', 'CUBEVALUE', 'XIRR', 'PERMUT', 'MIN', 'IMPRODUCT', 'SQRTPI', 'TBILLYIELD', 'FIND', 'PERCENTRANK', 'VARA', 'COSH', 'DSTDEV', 'FV', 'TEXT', 'CUBEMEMBER', 'TRIMMEAN', 'NORMSDIST', 'WEEKNUM', 'SUMPRODUCT', 'MAXA', 'BETADIST', 'MROUND', 'DCOUNT', 'HYPGEOMDIST', 'COLUMN', 'IMLOG2', 'COUPPCD', 'ASC', 'VLOOKUP', 'LARGE', 'REPLACEB', 'ERROR.TYPE', 'COUNTA', 'COUNTIF', 'VARP', 'CONFIDENCE', 'EFFECT', 'FINDB', 'NA', 'TREND', 'FACT', 'REPT', 'SECOND', 'CELL', 'DSUM', 'ERF', 'STDEVP', 'FISHERINV', 'CUMPRINC', 'AVERAGEA', 'TAN', 'BIN2HEX', 'IRR', 'MULTINOMIAL', 'NETWORKDAYS', 'IMPOWER', 'KURT', 'SUMX2MY2', 'QUARTILE', 'GEOMEAN', 'SUBSTITUTE', 'LOG10', 'RAND', 'TODAY', 'CHOOSE', 'MID', 'ROWS', 'SLN', 'ODDLPRICE', 'FORECAST', 'PRODUCT', 'UPPER', 'YIELD', 'NORMINV', 'CHAR', 'AND', 'FISHER', 'RADIANS', 'INTRATE', 'SUMXMY2', 'PRICEMAT', 'BESSELJ', 'ROUND', 'MINUTE', 'COUNTIFS'})\n"
     ]
    }
   ],
   "source": [
    "import openpyxl\n",
    "from openpyxl.utils import FORMULAE\n",
    "\n",
    "print(type(FORMULAE))\n",
    "print(len(FORMULAE))\n",
    "print(FORMULAE)"
   ]
  },
  {
   "cell_type": "code",
   "execution_count": 2,
   "id": "95b29c06-8b2a-4cb7-b53b-5d73556be47b",
   "metadata": {},
   "outputs": [
    {
     "name": "stdout",
     "output_type": "stream",
     "text": [
      "TODAY  : True\n",
      "today  : False\n",
      "SUM    : True\n",
      "sum    : False\n",
      "TEST   : False\n"
     ]
    }
   ],
   "source": [
    "# 判斷是否支援特定函數\n",
    "import openpyxl\n",
    "from openpyxl.utils import FORMULAE\n",
    "\n",
    "print(f\"TODAY  : {'TODAY' in FORMULAE}\")\n",
    "print(f\"today  : {'today' in FORMULAE}\")\n",
    "print(f\"SUM    : {'SUM' in FORMULAE}\")\n",
    "print(f\"sum    : {'sum' in FORMULAE}\")\n",
    "print(f\"TEST   : {'TEST' in FORMULAE}\")"
   ]
  },
  {
   "cell_type": "code",
   "execution_count": 4,
   "id": "2b1397ec-b2b0-4632-903a-e041ba4aac1e",
   "metadata": {},
   "outputs": [],
   "source": [
    "import openpyxl\n",
    "\n",
    "fn = 'data9_3.xlsx'\n",
    "wb = openpyxl.load_workbook(fn)\n",
    "ws = wb.active\n",
    "\n",
    "ws['C7'] = '=SUM(C4:C6)'\n",
    "\n",
    "wb.save('out9_3.xlsx')\n",
    "wb.close()"
   ]
  },
  {
   "cell_type": "code",
   "execution_count": 5,
   "id": "0577e338-580f-4fd1-9234-ad313839f2f0",
   "metadata": {},
   "outputs": [],
   "source": [
    "import openpyxl\n",
    "\n",
    "fn = 'data9_3.xlsx'\n",
    "wb = openpyxl.load_workbook(fn)\n",
    "ws = wb.active\n",
    "\n",
    "#ws['C7'] = '=SUM(C4:C6)'\n",
    "ws.cell(row=7, column=3, value='=SUM(C4:C6)')\n",
    "\n",
    "wb.save('out9_3_1.xlsx')\n",
    "wb.close()"
   ]
  },
  {
   "cell_type": "code",
   "execution_count": 6,
   "id": "e8155ef3-0158-4f07-8576-890321f985e9",
   "metadata": {},
   "outputs": [],
   "source": [
    "# 使用公式\n",
    "import openpyxl\n",
    "\n",
    "fn = 'data9_3.xlsx'\n",
    "wb = openpyxl.load_workbook(fn)\n",
    "ws = wb.active\n",
    "\n",
    "ws['C7'] = '=C4+C5+C6'\n",
    "\n",
    "wb.save('out9_4.xlsx')\n",
    "wb.close()"
   ]
  },
  {
   "cell_type": "code",
   "execution_count": null,
   "id": "aa103f48-5be8-48b5-ad32-ab14a1cba138",
   "metadata": {},
   "outputs": [],
   "source": []
  }
 ],
 "metadata": {
  "kernelspec": {
   "display_name": "Python 3 (ipykernel)",
   "language": "python",
   "name": "python3"
  },
  "language_info": {
   "codemirror_mode": {
    "name": "ipython",
    "version": 3
   },
   "file_extension": ".py",
   "mimetype": "text/x-python",
   "name": "python",
   "nbconvert_exporter": "python",
   "pygments_lexer": "ipython3",
   "version": "3.11.0"
  },
  "widgets": {
   "application/vnd.jupyter.widget-state+json": {
    "state": {},
    "version_major": 2,
    "version_minor": 0
   }
  }
 },
 "nbformat": 4,
 "nbformat_minor": 5
}
