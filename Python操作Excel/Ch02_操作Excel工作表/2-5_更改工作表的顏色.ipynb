{
 "cells": [
  {
   "cell_type": "code",
   "execution_count": 9,
   "id": "6d8ddcaa-eb56-495d-ba77-83de078393aa",
   "metadata": {},
   "outputs": [],
   "source": [
    "import openpyxl\n",
    "\n",
    "fn = 'data2_7.xlsx'\n",
    "wb = openpyxl.load_workbook(fn)\n",
    "\n",
    "ws1 = wb['2026Q1']\n",
    "ws1.sheet_properties.tabColor = '0000FF'\n",
    "ws2 = wb['2026Q2']\n",
    "ws2.sheet_properties.tabColor = '00FF00'\n",
    "ws3 = wb['2026Q3']\n",
    "ws3.sheet_properties.tabColor = 'FF0000'\n",
    "ws4 = wb['2026Q4']\n",
    "ws4.sheet_properties.tabColor = 'FFFF00'\n",
    "\n",
    "wb.save('out2_7.xlsx')\n",
    "wb.close()"
   ]
  },
  {
   "cell_type": "code",
   "execution_count": 11,
   "id": "6d849b11-100d-4c88-9240-73cac1ae5dc2",
   "metadata": {},
   "outputs": [
    {
     "name": "stdout",
     "output_type": "stream",
     "text": [
      "['2026Q1', '2026Q2', '2026Q3', '2026Q4']\n",
      "['2026Q1', '2026Q2', '2026Q3', '2026Q4']\n"
     ]
    }
   ],
   "source": [
    "import openpyxl\n",
    "\n",
    "fn = 'data2_7.xlsx'\n",
    "wb = openpyxl.load_workbook(fn)\n",
    "\n",
    "print(wb.sheetnames)\n",
    "\n",
    "ws = wb['2026Q3']\n",
    "ws.sheet_state = 'hidden'\n",
    "print(wb.sheetnames)\n",
    "\n",
    "wb.save('out2_8.xlsx')\n",
    "wb.close()"
   ]
  },
  {
   "cell_type": "code",
   "execution_count": 13,
   "id": "ea605f61-88fb-461a-833f-4ab474f2e002",
   "metadata": {},
   "outputs": [
    {
     "name": "stdout",
     "output_type": "stream",
     "text": [
      "['2026Q1', '2026Q2', '2026Q3', '2026Q4']\n",
      "['2026Q1', '2026Q2', '2026Q3', '2026Q4']\n"
     ]
    }
   ],
   "source": [
    "import openpyxl\n",
    "\n",
    "fn = 'data2_9.xlsx'\n",
    "wb = openpyxl.load_workbook(fn)\n",
    "\n",
    "print(wb.sheetnames)\n",
    "wb['2026Q3'].sheet_state = 'visible'\n",
    "print(wb.sheetnames)\n",
    "\n",
    "wb.save('out2_9.xlsx')\n",
    "wb.close()"
   ]
  },
  {
   "cell_type": "code",
   "execution_count": 14,
   "id": "3baf12a3-5850-4441-9b66-cbc6399adb02",
   "metadata": {},
   "outputs": [
    {
     "name": "stdout",
     "output_type": "stream",
     "text": [
      "['1月', '工作表2', '工作表3']\n",
      "['1月', '工作表2', '工作表3', '2月', '3月', '4月', '5月', '6月', '7月', '8月', '9月', '10月', '11月', '12月']\n"
     ]
    }
   ],
   "source": [
    "import openpyxl\n",
    "\n",
    "fn = 'data2_10.xlsx'\n",
    "wb = openpyxl.load_workbook(fn)\n",
    "\n",
    "print(wb.sheetnames)\n",
    "\n",
    "src = wb.active\n",
    "for i in range(2, 13):\n",
    "    dst = wb.copy_worksheet(src)\n",
    "    month = str(i) + \"月\"\n",
    "    dst.title = month\n",
    "\n",
    "print(wb.sheetnames)\n",
    "\n",
    "wb.save('out2_10.xlsx')\n",
    "wb.close()"
   ]
  },
  {
   "cell_type": "code",
   "execution_count": 15,
   "id": "a5f2a749-d89e-445a-a620-7787e0c27b0c",
   "metadata": {},
   "outputs": [
    {
     "name": "stdout",
     "output_type": "stream",
     "text": [
      "['1月', '工作表2', '工作表3']\n",
      "['1月', '2月', '3月', '4月', '5月', '6月', '7月', '8月', '9月', '10月', '11月', '12月']\n"
     ]
    }
   ],
   "source": [
    "import openpyxl\n",
    "\n",
    "fn = 'data2_10.xlsx'\n",
    "wb = openpyxl.load_workbook(fn)\n",
    "\n",
    "print(wb.sheetnames)\n",
    "\n",
    "for sheet in wb.sheetnames:\n",
    "    if sheet != \"1月\":\n",
    "        wb.remove(wb[sheet])\n",
    "        \n",
    "src = wb.active\n",
    "for i in range(2, 13):\n",
    "    dst = wb.copy_worksheet(src)\n",
    "    month = str(i) + \"月\"\n",
    "    dst.title = month\n",
    "\n",
    "print(wb.sheetnames)\n",
    "\n",
    "wb.save('out2_11.xlsx')\n",
    "wb.close()"
   ]
  },
  {
   "cell_type": "code",
   "execution_count": null,
   "id": "df359a61-9743-4fea-a05a-028189e59cbe",
   "metadata": {},
   "outputs": [],
   "source": []
  }
 ],
 "metadata": {
  "kernelspec": {
   "display_name": "Python 3 (ipykernel)",
   "language": "python",
   "name": "python3"
  },
  "language_info": {
   "codemirror_mode": {
    "name": "ipython",
    "version": 3
   },
   "file_extension": ".py",
   "mimetype": "text/x-python",
   "name": "python",
   "nbconvert_exporter": "python",
   "pygments_lexer": "ipython3",
   "version": "3.11.0"
  },
  "widgets": {
   "application/vnd.jupyter.widget-state+json": {
    "state": {},
    "version_major": 2,
    "version_minor": 0
   }
  }
 },
 "nbformat": 4,
 "nbformat_minor": 5
}
