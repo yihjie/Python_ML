{
 "cells": [
  {
   "cell_type": "markdown",
   "id": "c7eed40b-a737-4387-9e07-f0e89f4cdce5",
   "metadata": {},
   "source": [
    "# 建立 worksheet\n",
    "```\n",
    "import openpyxl\n",
    "\n",
    "wb = openpyxl.load_workbook(...)\n",
    "ws = wb.create_sheet([title= sheet name][index = N])\n",
    "```"
   ]
  },
  {
   "cell_type": "code",
   "execution_count": null,
   "id": "e8b11a7e-7917-4751-a50d-5047f486fc9d",
   "metadata": {},
   "outputs": [],
   "source": [
    "import openpyxl\n",
    "\n",
    "wb = openpyxl.Workbook()                                     # 建立空白的 workbook\n",
    "print(\"所有工作表名稱 = \", wb.sheetnames)\n",
    "wb.create_sheet()                                            # 建立空白的 worksheet\n",
    "print(\"所有工作表名稱 = \", wb.sheetnames)\n",
    "ws = wb.active\n",
    "print(\"目前工作表名稱 = \", ws.title)\n",
    "wb.save('out2_1"
   ]
  }
 ],
 "metadata": {
  "kernelspec": {
   "display_name": "Python 3 (ipykernel)",
   "language": "python",
   "name": "python3"
  },
  "language_info": {
   "codemirror_mode": {
    "name": "ipython",
    "version": 3
   },
   "file_extension": ".py",
   "mimetype": "text/x-python",
   "name": "python",
   "nbconvert_exporter": "python",
   "pygments_lexer": "ipython3",
   "version": "3.11.0"
  },
  "widgets": {
   "application/vnd.jupyter.widget-state+json": {
    "state": {},
    "version_major": 2,
    "version_minor": 0
   }
  }
 },
 "nbformat": 4,
 "nbformat_minor": 5
}
