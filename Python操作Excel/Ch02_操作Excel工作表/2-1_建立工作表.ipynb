{
 "cells": [
  {
   "cell_type": "markdown",
   "id": "c7eed40b-a737-4387-9e07-f0e89f4cdce5",
   "metadata": {},
   "source": [
    "# 建立 worksheet\n",
    "```\n",
    "import openpyxl\n",
    "\n",
    "wb = openpyxl.load_workbook(...)\n",
    "ws = wb.create_sheet([title= sheet name][index = N])\n",
    "```"
   ]
  },
  {
   "cell_type": "code",
   "execution_count": 1,
   "id": "e8b11a7e-7917-4751-a50d-5047f486fc9d",
   "metadata": {},
   "outputs": [
    {
     "name": "stdout",
     "output_type": "stream",
     "text": [
      "所有工作表名稱 =  ['Sheet']\n",
      "所有工作表名稱 =  ['Sheet', 'Sheet1']\n",
      "目前工作表名稱 =  Sheet\n"
     ]
    }
   ],
   "source": [
    "import openpyxl\n",
    "\n",
    "wb = openpyxl.Workbook()                                     # 建立空白的 workbook\n",
    "print(\"所有工作表名稱 = \", wb.sheetnames)\n",
    "wb.create_sheet()                                            # 建立空白的 worksheet\n",
    "print(\"所有工作表名稱 = \", wb.sheetnames)\n",
    "ws = wb.active\n",
    "print(\"目前工作表名稱 = \", ws.title)\n",
    "wb.save('out2_1.xlsx')\n",
    "wb.close()"
   ]
  },
  {
   "cell_type": "code",
   "execution_count": 2,
   "id": "89b3666c-0555-4697-9160-02c5e757ebbf",
   "metadata": {},
   "outputs": [
    {
     "name": "stdout",
     "output_type": "stream",
     "text": [
      "所有工作表名稱 =  ['Sheet']\n",
      "所有工作表名稱 =  ['Sheet', 'Sheet1']\n",
      "所有工作表名稱 =  ['First sheet', 'Sheet', 'Sheet1']\n",
      "所有工作表名稱 =  ['First sheet', 'Sheet', 'Third sheet', 'Sheet1']\n",
      "所有工作表名稱 =  ['First sheet', 'Sheet', 'Third sheet', 'Fourth sheet', 'Sheet1']\n",
      "目前工作表名稱 =  First sheet\n"
     ]
    }
   ],
   "source": [
    "import openpyxl\n",
    "\n",
    "wb = openpyxl.Workbook()                                     # 建立空白的 workbook\n",
    "print(\"所有工作表名稱 = \", wb.sheetnames)\n",
    "wb.create_sheet()                                            # 建立空白的 worksheet\n",
    "print(\"所有工作表名稱 = \", wb.sheetnames)\n",
    "wb.create_sheet(index=0, title='First sheet')\n",
    "print(\"所有工作表名稱 = \", wb.sheetnames)\n",
    "wb.create_sheet(index=2, title='Third sheet')\n",
    "print(\"所有工作表名稱 = \", wb.sheetnames)\n",
    "wb.create_sheet(index=-1, title='Fourth sheet')\n",
    "print(\"所有工作表名稱 = \", wb.sheetnames)\n",
    "ws = wb.active\n",
    "print(\"目前工作表名稱 = \", ws.title)\n",
    "wb.save('out2_2.xlsx')\n",
    "wb.close()"
   ]
  },
  {
   "cell_type": "code",
   "execution_count": 3,
   "id": "17823143-499f-4784-a7d0-35aac82c6597",
   "metadata": {},
   "outputs": [
    {
     "name": "stdout",
     "output_type": "stream",
     "text": [
      "所有工作表名稱 =  ['Sheet']\n",
      "所有工作表名稱 =  ['Sheet', 'Sheet1']\n",
      "所有工作表名稱 =  ['First sheet', 'Sheet', 'Sheet1']\n",
      "所有工作表名稱 =  ['First sheet', 'Sheet', 'Third sheet', 'Sheet1']\n",
      "所有工作表名稱 =  ['First sheet', 'Sheet', 'Third sheet', 'Fourth sheet', 'Sheet1']\n",
      "目前工作表名稱 =  First sheet\n"
     ]
    }
   ],
   "source": [
    "import openpyxl\n",
    "\n",
    "wb = openpyxl.Workbook()                                     # 建立空白的 workbook\n",
    "print(\"所有工作表名稱 = \", wb.sheetnames)\n",
    "wb.create_sheet()                                            # 建立空白的 worksheet\n",
    "print(\"所有工作表名稱 = \", wb.sheetnames)\n",
    "wb.create_sheet('First sheet', 0)\n",
    "print(\"所有工作表名稱 = \", wb.sheetnames)\n",
    "wb.create_sheet('Third sheet', 2)\n",
    "print(\"所有工作表名稱 = \", wb.sheetnames)\n",
    "wb.create_sheet('Fourth sheet', -1)\n",
    "print(\"所有工作表名稱 = \", wb.sheetnames)\n",
    "ws = wb.active\n",
    "print(\"目前工作表名稱 = \", ws.title)\n",
    "wb.save('out2_3.xlsx')\n",
    "wb.close()"
   ]
  },
  {
   "cell_type": "markdown",
   "id": "1feb7c78-3191-4ee4-b1db-c3d99acafd8c",
   "metadata": {},
   "source": [
    "# 複製 worksheet\n",
    "```\n",
    "import openpyxl\n",
    "\n",
    "wb = openpyxl.Workbook()\n",
    "src = wb.active\n",
    "dst = wb.copy_worksheet(src)\n",
    "```"
   ]
  },
  {
   "cell_type": "code",
   "execution_count": 7,
   "id": "2994fd5b-eebe-44b2-842d-fbea75d23ee5",
   "metadata": {},
   "outputs": [
    {
     "name": "stdout",
     "output_type": "stream",
     "text": [
      "所有工作表名稱 =  ['2025Q1']\n",
      "所有工作表名稱 =  ['2025Q1', '2025Q1 Copy']\n"
     ]
    }
   ],
   "source": [
    "import openpyxl\n",
    "\n",
    "fn = 'data2_4.xlsx'\n",
    "\n",
    "wb = openpyxl.load_workbook(fn)\n",
    "print(\"所有工作表名稱 = \", wb.sheetnames)\n",
    "\n",
    "src = wb.active\n",
    "dst = wb.copy_worksheet(src)\n",
    "print(\"所有工作表名稱 = \", wb.sheetnames)\n",
    "wb.save('out2_4.xlsx')\n",
    "wb.close()"
   ]
  },
  {
   "cell_type": "code",
   "execution_count": 8,
   "id": "c887067f-e27c-4c4e-b17d-cf7a5a859274",
   "metadata": {},
   "outputs": [
    {
     "name": "stdout",
     "output_type": "stream",
     "text": [
      "所有工作表名稱 =  ['2025Q1']\n",
      "所有工作表名稱 =  ['2025Q1', '2025Q2', '2025Q3', '2025Q4']\n"
     ]
    }
   ],
   "source": [
    "import openpyxl\n",
    "\n",
    "fn = 'data2_5.xlsx'\n",
    "\n",
    "wb = openpyxl.load_workbook(fn)\n",
    "print(\"所有工作表名稱 = \", wb.sheetnames)\n",
    "\n",
    "src = wb.active\n",
    "dst2 = wb.copy_worksheet(src)\n",
    "dst2.title = \"2025Q2\"\n",
    "dst3 = wb.copy_worksheet(src)\n",
    "dst3.title = \"2025Q3\"\n",
    "dst4 = wb.copy_worksheet(src)\n",
    "dst4.title = \"2025Q4\"\n",
    "print(\"所有工作表名稱 = \", wb.sheetnames)\n",
    "wb.save('out2_5.xlsx')\n",
    "wb.close()"
   ]
  },
  {
   "cell_type": "code",
   "execution_count": null,
   "id": "a2f6fdb3-ab7a-46c7-88dc-80fd7a7dee59",
   "metadata": {},
   "outputs": [],
   "source": []
  }
 ],
 "metadata": {
  "kernelspec": {
   "display_name": "Python 3 (ipykernel)",
   "language": "python",
   "name": "python3"
  },
  "language_info": {
   "codemirror_mode": {
    "name": "ipython",
    "version": 3
   },
   "file_extension": ".py",
   "mimetype": "text/x-python",
   "name": "python",
   "nbconvert_exporter": "python",
   "pygments_lexer": "ipython3",
   "version": "3.11.0"
  },
  "widgets": {
   "application/vnd.jupyter.widget-state+json": {
    "state": {},
    "version_major": 2,
    "version_minor": 0
   }
  }
 },
 "nbformat": 4,
 "nbformat_minor": 5
}
