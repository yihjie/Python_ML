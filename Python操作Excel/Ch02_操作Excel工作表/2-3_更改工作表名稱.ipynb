{
 "cells": [
  {
   "cell_type": "code",
   "execution_count": 5,
   "id": "6aab291e-6689-4788-ab4d-d2921ba6fa2d",
   "metadata": {},
   "outputs": [
    {
     "name": "stdout",
     "output_type": "stream",
     "text": [
      "所有工作表名稱 =  ['2025Q1']\n",
      "所有工作表名稱 =  ['2025Q1', '2025Q2', '2025Q3', '2025Q4']\n",
      "所有工作表名稱 =  ['2026Q1', '2026Q2', '2026Q3', '2026Q4']\n"
     ]
    }
   ],
   "source": [
    "import openpyxl\n",
    "\n",
    "fn = 'data2_5_1.xlsx'\n",
    "wb = openpyxl.load_workbook(fn)\n",
    "\n",
    "print(\"所有工作表名稱 = \", wb.sheetnames)\n",
    "\n",
    "src = wb.active\n",
    "dst2 = wb.copy_worksheet(src)\n",
    "dst2.title = '2025Q2'\n",
    "dst3 = wb.copy_worksheet(src)\n",
    "dst3.title = '2025Q3'\n",
    "dst4 = wb.copy_worksheet(src)\n",
    "dst4.title = '2025Q4'\n",
    "\n",
    "print(\"所有工作表名稱 = \", wb.sheetnames)\n",
    "wb.save('out2_5.xlsx')\n",
    "\n",
    "for sheet in wb.sheetnames:\n",
    "    ws = wb[sheet]\n",
    "    ws.title = sheet.replace('2025', '2026')\n",
    "print(\"所有工作表名稱 = \", wb.sheetnames)\n",
    "\n",
    "wb.save('out2_5_1.xlsx')\n",
    "wb.close()"
   ]
  },
  {
   "cell_type": "code",
   "execution_count": 7,
   "id": "66b79583-3dbc-4ab6-8ff5-9e5fd633c196",
   "metadata": {},
   "outputs": [
    {
     "name": "stdout",
     "output_type": "stream",
     "text": [
      "所有工作表名稱 =  ['2025Q1', '2025Q2', '2025Q3', '2025Q4']\n",
      "所有工作表名稱 =  ['2025Q1', '2025Q2', '2025Q4']\n",
      "所有工作表名稱 =  ['2025Q1', '2025Q4']\n"
     ]
    }
   ],
   "source": [
    "import openpyxl\n",
    "\n",
    "fn = 'out2_5.xlsx'\n",
    "wb = openpyxl.load_workbook(fn)\n",
    "\n",
    "print(\"所有工作表名稱 = \", wb.sheetnames)\n",
    "sheet = wb['2025Q3']\n",
    "wb.remove(sheet)\n",
    "print(\"所有工作表名稱 = \", wb.sheetnames)\n",
    "sheet = wb.worksheets[1]\n",
    "wb.remove(sheet)\n",
    "print(\"所有工作表名稱 = \", wb.sheetnames)\n",
    "\n",
    "wb.save('out2_6.xlsx')\n",
    "wb.close()"
   ]
  },
  {
   "cell_type": "code",
   "execution_count": 8,
   "id": "456adcde-3491-4829-b697-e50097e7ac25",
   "metadata": {},
   "outputs": [
    {
     "name": "stdout",
     "output_type": "stream",
     "text": [
      "所有工作表名稱 =  ['2025Q1', '2025Q2', '2025Q3', '2025Q4']\n",
      "所有工作表名稱 =  ['2025Q1', '2025Q2', '2025Q4']\n"
     ]
    }
   ],
   "source": [
    "import openpyxl\n",
    "\n",
    "fn = 'out2_5.xlsx'\n",
    "wb = openpyxl.load_workbook(fn)\n",
    "\n",
    "print(\"所有工作表名稱 = \", wb.sheetnames)\n",
    "\n",
    "del wb['2025Q3']\n",
    "print(\"所有工作表名稱 = \", wb.sheetnames)\n",
    "\n",
    "wb.save('out2_6_1.xlsx')\n",
    "wb.close()"
   ]
  },
  {
   "cell_type": "code",
   "execution_count": null,
   "id": "d9e31782-59ae-4261-aecc-6bbffb533b97",
   "metadata": {},
   "outputs": [],
   "source": []
  }
 ],
 "metadata": {
  "kernelspec": {
   "display_name": "Python 3 (ipykernel)",
   "language": "python",
   "name": "python3"
  },
  "language_info": {
   "codemirror_mode": {
    "name": "ipython",
    "version": 3
   },
   "file_extension": ".py",
   "mimetype": "text/x-python",
   "name": "python",
   "nbconvert_exporter": "python",
   "pygments_lexer": "ipython3",
   "version": "3.11.0"
  },
  "widgets": {
   "application/vnd.jupyter.widget-state+json": {
    "state": {},
    "version_major": 2,
    "version_minor": 0
   }
  }
 },
 "nbformat": 4,
 "nbformat_minor": 5
}
